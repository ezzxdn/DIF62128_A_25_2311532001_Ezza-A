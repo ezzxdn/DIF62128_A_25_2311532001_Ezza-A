{
 "cells": [
  {
   "cell_type": "markdown",
   "id": "16e6c4dc",
   "metadata": {
    "papermill": {
     "duration": 0.006455,
     "end_time": "2025-02-18T14:02:08.859990",
     "exception": false,
     "start_time": "2025-02-18T14:02:08.853535",
     "status": "completed"
    },
    "tags": []
   },
   "source": [
    "**This notebook is an exercise in the [Python](https://www.kaggle.com/learn/python) course.  You can reference the tutorial at [this link](https://www.kaggle.com/colinmorris/hello-python).**\n",
    "\n",
    "---\n"
   ]
  },
  {
   "cell_type": "markdown",
   "id": "f90d082c",
   "metadata": {
    "papermill": {
     "duration": 0.005378,
     "end_time": "2025-02-18T14:02:08.871468",
     "exception": false,
     "start_time": "2025-02-18T14:02:08.866090",
     "status": "completed"
    },
    "tags": []
   },
   "source": [
    "Welcome to your first set of Python coding problems.  If this is your first time using Kaggle Notebooks, welcome! \n",
    "\n",
    "Notebooks are composed of blocks (called \"cells\") of text and code. Each of these is editable, though you'll mainly be editing the code cells to answer some questions.\n",
    "\n",
    "To get started, try running the code cell below (by pressing the ► button, or clicking on the cell and pressing ctrl+enter on your keyboard)."
   ]
  },
  {
   "cell_type": "code",
   "execution_count": 1,
   "id": "89adace8",
   "metadata": {
    "execution": {
     "iopub.execute_input": "2025-02-18T14:02:08.886926Z",
     "iopub.status.busy": "2025-02-18T14:02:08.886409Z",
     "iopub.status.idle": "2025-02-18T14:02:08.894711Z",
     "shell.execute_reply": "2025-02-18T14:02:08.892695Z"
    },
    "papermill": {
     "duration": 0.019366,
     "end_time": "2025-02-18T14:02:08.896580",
     "exception": false,
     "start_time": "2025-02-18T14:02:08.877214",
     "status": "completed"
    },
    "tags": []
   },
   "outputs": [
    {
     "name": "stdout",
     "output_type": "stream",
     "text": [
      "You've successfully run some Python code\n",
      "Congratulations!\n"
     ]
    }
   ],
   "source": [
    "print(\"You've successfully run some Python code\")\n",
    "print(\"Congratulations!\")"
   ]
  },
  {
   "cell_type": "markdown",
   "id": "cf450304",
   "metadata": {
    "papermill": {
     "duration": 0.005756,
     "end_time": "2025-02-18T14:02:08.908266",
     "exception": false,
     "start_time": "2025-02-18T14:02:08.902510",
     "status": "completed"
    },
    "tags": []
   },
   "source": [
    "Try adding another line of code in the cell above and re-running it. \n",
    "\n",
    "Now let's get a little fancier:  Add a new code cell by clicking on an existing code cell, hitting the escape key, and then hitting the `a` or `b` key.  The `a` key will add a cell above the current cell, and `b` adds a cell below.\n",
    "\n",
    "Great! Now you know how to use Notebooks.\n",
    "\n",
    "Each hands-on exercise starts by setting up our feedback and code checking mechanism. Run the code cell below to do that. Then you'll be ready to move on to question 0."
   ]
  },
  {
   "cell_type": "code",
   "execution_count": 2,
   "id": "b88c1fd1",
   "metadata": {
    "_kg_hide-input": true,
    "_kg_hide-output": true,
    "execution": {
     "iopub.execute_input": "2025-02-18T14:02:08.920842Z",
     "iopub.status.busy": "2025-02-18T14:02:08.920509Z",
     "iopub.status.idle": "2025-02-18T14:02:09.933043Z",
     "shell.execute_reply": "2025-02-18T14:02:09.931769Z"
    },
    "papermill": {
     "duration": 1.02118,
     "end_time": "2025-02-18T14:02:09.935160",
     "exception": false,
     "start_time": "2025-02-18T14:02:08.913980",
     "status": "completed"
    },
    "tags": []
   },
   "outputs": [
    {
     "name": "stdout",
     "output_type": "stream",
     "text": [
      "Setup complete! You're ready to start question 0.\n"
     ]
    }
   ],
   "source": [
    "from learntools.core import binder; binder.bind(globals())\n",
    "from learntools.python.ex1 import *\n",
    "print(\"Setup complete! You're ready to start question 0.\")"
   ]
  },
  {
   "cell_type": "markdown",
   "id": "dda36800",
   "metadata": {
    "papermill": {
     "duration": 0.005683,
     "end_time": "2025-02-18T14:02:09.946730",
     "exception": false,
     "start_time": "2025-02-18T14:02:09.941047",
     "status": "completed"
    },
    "tags": []
   },
   "source": [
    "# 0.\n",
    "\n",
    "*This is a silly question intended as an introduction to the format we use for hands-on exercises throughout all Kaggle courses.*\n",
    "\n",
    "**What is your favorite color? **\n",
    "\n",
    "To complete this question, create a variable called `color` in the cell below with an appropriate value. The function call `q0.check()` (which we've already provided in the cell below) will check your answer."
   ]
  },
  {
   "cell_type": "code",
   "execution_count": 3,
   "id": "86644d5a",
   "metadata": {
    "execution": {
     "iopub.execute_input": "2025-02-18T14:02:09.960704Z",
     "iopub.status.busy": "2025-02-18T14:02:09.960209Z",
     "iopub.status.idle": "2025-02-18T14:02:09.969965Z",
     "shell.execute_reply": "2025-02-18T14:02:09.968851Z"
    },
    "papermill": {
     "duration": 0.018908,
     "end_time": "2025-02-18T14:02:09.971819",
     "exception": false,
     "start_time": "2025-02-18T14:02:09.952911",
     "status": "completed"
    },
    "tags": []
   },
   "outputs": [
    {
     "name": "stdout",
     "output_type": "stream",
     "text": [
      "blue\n"
     ]
    },
    {
     "data": {
      "application/javascript": [
       "parent.postMessage({\"jupyterEvent\": \"custom.exercise_interaction\", \"data\": {\"outcomeType\": 1, \"valueTowardsCompletion\": 0.25, \"interactionType\": 1, \"questionType\": 2, \"questionId\": \"0_ExerciseFormatTutorial\", \"learnToolsVersion\": \"0.3.4\", \"failureMessage\": \"\", \"exceptionClass\": \"\", \"trace\": \"\"}}, \"*\")"
      ],
      "text/plain": [
       "<IPython.core.display.Javascript object>"
      ]
     },
     "metadata": {},
     "output_type": "display_data"
    },
    {
     "data": {
      "text/markdown": [
       "<span style=\"color:#33cc33\">Correct:</span> What?! You got it right without needing a hint or anything? Drats. Well hey, you should still continue to the next step to get some practice asking for a hint and checking solutions. (Even though you obviously don't need any help here.)"
      ],
      "text/plain": [
       "Correct: What?! You got it right without needing a hint or anything? Drats. Well hey, you should still continue to the next step to get some practice asking for a hint and checking solutions. (Even though you obviously don't need any help here.)"
      ]
     },
     "metadata": {},
     "output_type": "display_data"
    }
   ],
   "source": [
    "# create a variable called color with an appropriate value on the line below\n",
    "# (Remember, strings in Python must be enclosed in 'single' or \"double\" quotes)\n",
    "____\n",
    "color = \"blue\"\n",
    "print(color)\n",
    "\n",
    "# Check your answer\n",
    "q0.check()"
   ]
  },
  {
   "cell_type": "markdown",
   "id": "1f9728bd",
   "metadata": {
    "papermill": {
     "duration": 0.006068,
     "end_time": "2025-02-18T14:02:09.984155",
     "exception": false,
     "start_time": "2025-02-18T14:02:09.978087",
     "status": "completed"
    },
    "tags": []
   },
   "source": [
    "Didn't get the right answer? How do you not even know your own favorite color?!\n",
    "\n",
    "Delete the `#` in the line below to make one of the lines run. You can choose between getting a hint or the full answer by choosing which line to remove the `#` from. \n",
    "\n",
    "Removing the `#` is called uncommenting, because it changes that line from a \"comment\" which Python doesn't run to code, which Python does run."
   ]
  },
  {
   "cell_type": "code",
   "execution_count": 4,
   "id": "f5fa8779",
   "metadata": {
    "execution": {
     "iopub.execute_input": "2025-02-18T14:02:09.997550Z",
     "iopub.status.busy": "2025-02-18T14:02:09.997202Z",
     "iopub.status.idle": "2025-02-18T14:02:10.008211Z",
     "shell.execute_reply": "2025-02-18T14:02:10.007157Z"
    },
    "papermill": {
     "duration": 0.019489,
     "end_time": "2025-02-18T14:02:10.009872",
     "exception": false,
     "start_time": "2025-02-18T14:02:09.990383",
     "status": "completed"
    },
    "tags": []
   },
   "outputs": [
    {
     "data": {
      "application/javascript": [
       "parent.postMessage({\"jupyterEvent\": \"custom.exercise_interaction\", \"data\": {\"interactionType\": 2, \"questionType\": 2, \"questionId\": \"0_ExerciseFormatTutorial\", \"learnToolsVersion\": \"0.3.4\", \"valueTowardsCompletion\": 0.0, \"failureMessage\": \"\", \"exceptionClass\": \"\", \"trace\": \"\", \"outcomeType\": 4}}, \"*\")"
      ],
      "text/plain": [
       "<IPython.core.display.Javascript object>"
      ]
     },
     "metadata": {},
     "output_type": "display_data"
    },
    {
     "data": {
      "text/markdown": [
       "<span style=\"color:#3366cc\">Hint:</span> Your favorite color rhymes with *glue*."
      ],
      "text/plain": [
       "Hint: Your favorite color rhymes with *glue*."
      ]
     },
     "metadata": {},
     "output_type": "display_data"
    },
    {
     "data": {
      "application/javascript": [
       "parent.postMessage({\"jupyterEvent\": \"custom.exercise_interaction\", \"data\": {\"interactionType\": 3, \"questionType\": 2, \"questionId\": \"0_ExerciseFormatTutorial\", \"learnToolsVersion\": \"0.3.4\", \"valueTowardsCompletion\": 0.0, \"failureMessage\": \"\", \"exceptionClass\": \"\", \"trace\": \"\", \"outcomeType\": 4}}, \"*\")"
      ],
      "text/plain": [
       "<IPython.core.display.Javascript object>"
      ]
     },
     "metadata": {},
     "output_type": "display_data"
    },
    {
     "data": {
      "text/markdown": [
       "<span style=\"color:#33cc99\">Solution:</span> \n",
       "```python\n",
       "color = \"blue\"\n",
       "```"
      ],
      "text/plain": [
       "Solution: \n",
       "```python\n",
       "color = \"blue\"\n",
       "```"
      ]
     },
     "metadata": {},
     "output_type": "display_data"
    }
   ],
   "source": [
    "q0.hint()\n",
    "q0.solution()"
   ]
  },
  {
   "cell_type": "markdown",
   "id": "16347cab",
   "metadata": {
    "papermill": {
     "duration": 0.00603,
     "end_time": "2025-02-18T14:02:10.022364",
     "exception": false,
     "start_time": "2025-02-18T14:02:10.016334",
     "status": "completed"
    },
    "tags": []
   },
   "source": [
    "The upcoming questions work the same way. The only thing that will change are the question numbers. For the next question, you'll call `q1.check()`, `q1.hint()`, `q1.solution()`, for question 2, you'll call `q2.check()`, and so on."
   ]
  },
  {
   "cell_type": "markdown",
   "id": "087b54e6",
   "metadata": {
    "papermill": {
     "duration": 0.005802,
     "end_time": "2025-02-18T14:02:10.034289",
     "exception": false,
     "start_time": "2025-02-18T14:02:10.028487",
     "status": "completed"
    },
    "tags": []
   },
   "source": [
    "<hr/>\n",
    "\n",
    "# 1.\n",
    "\n",
    "Complete the code below. In case it's helpful, here is the table of available arithmetic operations:\n",
    "\n",
    "\n",
    "\n",
    "| Operator     | Name           | Description                                            |\n",
    "|--------------|----------------|--------------------------------------------------------|\n",
    "| ``a + b``    | Addition       | Sum of ``a`` and ``b``                                 |\n",
    "| ``a - b``    | Subtraction    | Difference of ``a`` and ``b``                          |\n",
    "| ``a * b``    | Multiplication | Product of ``a`` and ``b``                             |\n",
    "| ``a / b``    | True division  | Quotient of ``a`` and ``b``                            |\n",
    "| ``a // b``   | Floor division | Quotient of ``a`` and ``b``, removing fractional parts |\n",
    "| ``a % b``    | Modulus        | Integer remainder after division of ``a`` by ``b``     |\n",
    "| ``a ** b``   | Exponentiation | ``a`` raised to the power of ``b``                     |\n",
    "| ``-a``       | Negation       | The negative of ``a``                                  |\n",
    "\n",
    "<span style=\"display:none\"></span>\n"
   ]
  },
  {
   "cell_type": "code",
   "execution_count": 5,
   "id": "252c24df",
   "metadata": {
    "execution": {
     "iopub.execute_input": "2025-02-18T14:02:10.048265Z",
     "iopub.status.busy": "2025-02-18T14:02:10.047848Z",
     "iopub.status.idle": "2025-02-18T14:02:10.057319Z",
     "shell.execute_reply": "2025-02-18T14:02:10.056149Z"
    },
    "papermill": {
     "duration": 0.018037,
     "end_time": "2025-02-18T14:02:10.058855",
     "exception": false,
     "start_time": "2025-02-18T14:02:10.040818",
     "status": "completed"
    },
    "tags": []
   },
   "outputs": [
    {
     "name": "stdout",
     "output_type": "stream",
     "text": [
      "1.5\n",
      "7.0685775\n"
     ]
    },
    {
     "data": {
      "application/javascript": [
       "parent.postMessage({\"jupyterEvent\": \"custom.exercise_interaction\", \"data\": {\"outcomeType\": 1, \"valueTowardsCompletion\": 0.25, \"interactionType\": 1, \"questionType\": 1, \"questionId\": \"1_CircleArea\", \"learnToolsVersion\": \"0.3.4\", \"failureMessage\": \"\", \"exceptionClass\": \"\", \"trace\": \"\"}}, \"*\")"
      ],
      "text/plain": [
       "<IPython.core.display.Javascript object>"
      ]
     },
     "metadata": {},
     "output_type": "display_data"
    },
    {
     "data": {
      "text/markdown": [
       "<span style=\"color:#33cc33\">Correct</span>"
      ],
      "text/plain": [
       "Correct"
      ]
     },
     "metadata": {},
     "output_type": "display_data"
    }
   ],
   "source": [
    "pi = 3.14159 # approximate\n",
    "diameter = 3\n",
    "\n",
    "# Create a variable called 'radius' equal to half the diameter\n",
    "radius = diameter/2\n",
    "\n",
    "print(radius)\n",
    "____\n",
    "\n",
    "# Create a variable called 'area', using the formula for the area of a circle: pi times the radius squared\n",
    "area = pi * (radius**2)\n",
    "\n",
    "print(area)\n",
    "____\n",
    "\n",
    "# Check your answer\n",
    "q1.check()"
   ]
  },
  {
   "cell_type": "code",
   "execution_count": 6,
   "id": "ed4574fc",
   "metadata": {
    "execution": {
     "iopub.execute_input": "2025-02-18T14:02:10.073887Z",
     "iopub.status.busy": "2025-02-18T14:02:10.073565Z",
     "iopub.status.idle": "2025-02-18T14:02:10.077290Z",
     "shell.execute_reply": "2025-02-18T14:02:10.075906Z"
    },
    "papermill": {
     "duration": 0.013723,
     "end_time": "2025-02-18T14:02:10.079378",
     "exception": false,
     "start_time": "2025-02-18T14:02:10.065655",
     "status": "completed"
    },
    "tags": []
   },
   "outputs": [],
   "source": [
    "# Uncomment and run the lines below if you need help.\n",
    "#q1.hint()\n",
    "#q1.solution()"
   ]
  },
  {
   "cell_type": "markdown",
   "id": "28cb28d1",
   "metadata": {
    "papermill": {
     "duration": 0.006385,
     "end_time": "2025-02-18T14:02:10.092781",
     "exception": false,
     "start_time": "2025-02-18T14:02:10.086396",
     "status": "completed"
    },
    "tags": []
   },
   "source": [
    "<hr/>\n",
    "\n",
    "# 2.\n",
    "\n",
    "Add code to the following cell to swap variables `a` and `b` (so that `a` refers to the object previously referred to by `b` and vice versa)."
   ]
  },
  {
   "cell_type": "code",
   "execution_count": 7,
   "id": "12646c13",
   "metadata": {
    "execution": {
     "iopub.execute_input": "2025-02-18T14:02:10.107263Z",
     "iopub.status.busy": "2025-02-18T14:02:10.106856Z",
     "iopub.status.idle": "2025-02-18T14:02:10.116194Z",
     "shell.execute_reply": "2025-02-18T14:02:10.115197Z"
    },
    "papermill": {
     "duration": 0.018394,
     "end_time": "2025-02-18T14:02:10.117856",
     "exception": false,
     "start_time": "2025-02-18T14:02:10.099462",
     "status": "completed"
    },
    "tags": []
   },
   "outputs": [
    {
     "name": "stdout",
     "output_type": "stream",
     "text": [
      "[3, 2, 1]\n",
      "[1, 2, 3]\n"
     ]
    },
    {
     "data": {
      "application/javascript": [
       "parent.postMessage({\"jupyterEvent\": \"custom.exercise_interaction\", \"data\": {\"outcomeType\": 1, \"valueTowardsCompletion\": 0.25, \"interactionType\": 1, \"questionType\": 2, \"questionId\": \"2_VariableSwap\", \"learnToolsVersion\": \"0.3.4\", \"failureMessage\": \"\", \"exceptionClass\": \"\", \"trace\": \"\"}}, \"*\")"
      ],
      "text/plain": [
       "<IPython.core.display.Javascript object>"
      ]
     },
     "metadata": {},
     "output_type": "display_data"
    },
    {
     "data": {
      "text/markdown": [
       "<span style=\"color:#33cc33\">Correct:</span> \n",
       "\n",
       "The most straightforward solution is to use a third variable to temporarily store one of the old values. e.g.:\n",
       "\n",
       "    tmp = a\n",
       "    a = b\n",
       "    b = tmp\n",
       "\n",
       "If you've read lots of Python code, you might have seen the following trick to swap two variables in one line:\n",
       "\n",
       "    a, b = b, a\n",
       "\n",
       "We'll demystify this bit of Python magic later when we talk about *tuples*."
      ],
      "text/plain": [
       "Correct: \n",
       "\n",
       "The most straightforward solution is to use a third variable to temporarily store one of the old values. e.g.:\n",
       "\n",
       "    tmp = a\n",
       "    a = b\n",
       "    b = tmp\n",
       "\n",
       "If you've read lots of Python code, you might have seen the following trick to swap two variables in one line:\n",
       "\n",
       "    a, b = b, a\n",
       "\n",
       "We'll demystify this bit of Python magic later when we talk about *tuples*."
      ]
     },
     "metadata": {},
     "output_type": "display_data"
    }
   ],
   "source": [
    "########### Setup code - don't touch this part ######################\n",
    "# If you're curious, these are examples of lists. We'll talk about \n",
    "# them in depth a few lessons from now. For now, just know that they're\n",
    "# yet another type of Python object, like int or float.\n",
    "a = [1, 2, 3]\n",
    "b = [3, 2, 1]\n",
    "q2.store_original_ids()\n",
    "######################################################################\n",
    "\n",
    "# Your code goes here. Swap the values to which a and b refer.\n",
    "a, b = b, a\n",
    "print(a)\n",
    "print(b)\n",
    "# If you get stuck, you can always uncomment one or both of the lines in\n",
    "# the next cell for a hint, or to peek at the solution.\n",
    "\n",
    "######################################################################\n",
    "\n",
    "# Check your answer\n",
    "q2.check()"
   ]
  },
  {
   "cell_type": "code",
   "execution_count": 8,
   "id": "99a19ed1",
   "metadata": {
    "execution": {
     "iopub.execute_input": "2025-02-18T14:02:10.133092Z",
     "iopub.status.busy": "2025-02-18T14:02:10.132754Z",
     "iopub.status.idle": "2025-02-18T14:02:10.136532Z",
     "shell.execute_reply": "2025-02-18T14:02:10.135433Z"
    },
    "papermill": {
     "duration": 0.01317,
     "end_time": "2025-02-18T14:02:10.138227",
     "exception": false,
     "start_time": "2025-02-18T14:02:10.125057",
     "status": "completed"
    },
    "tags": []
   },
   "outputs": [],
   "source": [
    "#q2.hint()"
   ]
  },
  {
   "cell_type": "code",
   "execution_count": 9,
   "id": "aba7a5b1",
   "metadata": {
    "execution": {
     "iopub.execute_input": "2025-02-18T14:02:10.153420Z",
     "iopub.status.busy": "2025-02-18T14:02:10.153001Z",
     "iopub.status.idle": "2025-02-18T14:02:10.156916Z",
     "shell.execute_reply": "2025-02-18T14:02:10.155927Z"
    },
    "papermill": {
     "duration": 0.013213,
     "end_time": "2025-02-18T14:02:10.158586",
     "exception": false,
     "start_time": "2025-02-18T14:02:10.145373",
     "status": "completed"
    },
    "tags": []
   },
   "outputs": [],
   "source": [
    "#q2.solution()"
   ]
  },
  {
   "cell_type": "markdown",
   "id": "0e60a50b",
   "metadata": {
    "papermill": {
     "duration": 0.007028,
     "end_time": "2025-02-18T14:02:10.173256",
     "exception": false,
     "start_time": "2025-02-18T14:02:10.166228",
     "status": "completed"
    },
    "tags": []
   },
   "source": [
    "<hr/>\n",
    "\n",
    "# 3a.\n",
    "\n",
    "Add parentheses to the following expression so that it evaluates to 1."
   ]
  },
  {
   "cell_type": "code",
   "execution_count": 10,
   "id": "adc81c22",
   "metadata": {
    "execution": {
     "iopub.execute_input": "2025-02-18T14:02:10.188928Z",
     "iopub.status.busy": "2025-02-18T14:02:10.188563Z",
     "iopub.status.idle": "2025-02-18T14:02:10.193784Z",
     "shell.execute_reply": "2025-02-18T14:02:10.192617Z"
    },
    "papermill": {
     "duration": 0.014975,
     "end_time": "2025-02-18T14:02:10.195523",
     "exception": false,
     "start_time": "2025-02-18T14:02:10.180548",
     "status": "completed"
    },
    "tags": []
   },
   "outputs": [
    {
     "name": "stdout",
     "output_type": "stream",
     "text": [
      "1\n"
     ]
    }
   ],
   "source": [
    "a = (5 - 3) // 2\n",
    "print(a)"
   ]
  },
  {
   "cell_type": "code",
   "execution_count": 11,
   "id": "653c006a",
   "metadata": {
    "execution": {
     "iopub.execute_input": "2025-02-18T14:02:10.210763Z",
     "iopub.status.busy": "2025-02-18T14:02:10.210410Z",
     "iopub.status.idle": "2025-02-18T14:02:10.214304Z",
     "shell.execute_reply": "2025-02-18T14:02:10.213204Z"
    },
    "papermill": {
     "duration": 0.013303,
     "end_time": "2025-02-18T14:02:10.215928",
     "exception": false,
     "start_time": "2025-02-18T14:02:10.202625",
     "status": "completed"
    },
    "tags": []
   },
   "outputs": [],
   "source": [
    "#q3.a.hint()"
   ]
  },
  {
   "cell_type": "code",
   "execution_count": 12,
   "id": "4b497160",
   "metadata": {
    "execution": {
     "iopub.execute_input": "2025-02-18T14:02:10.231568Z",
     "iopub.status.busy": "2025-02-18T14:02:10.231201Z",
     "iopub.status.idle": "2025-02-18T14:02:10.238497Z",
     "shell.execute_reply": "2025-02-18T14:02:10.237461Z"
    },
    "papermill": {
     "duration": 0.016843,
     "end_time": "2025-02-18T14:02:10.240146",
     "exception": false,
     "start_time": "2025-02-18T14:02:10.223303",
     "status": "completed"
    },
    "tags": []
   },
   "outputs": [
    {
     "data": {
      "application/javascript": [
       "parent.postMessage({\"jupyterEvent\": \"custom.exercise_interaction\", \"data\": {\"interactionType\": 3, \"questionType\": 4, \"questionId\": \"3.1_ArithmeticParensEasy\", \"learnToolsVersion\": \"0.3.4\", \"valueTowardsCompletion\": 0.0, \"failureMessage\": \"\", \"exceptionClass\": \"\", \"trace\": \"\", \"outcomeType\": 4}}, \"*\")"
      ],
      "text/plain": [
       "<IPython.core.display.Javascript object>"
      ]
     },
     "metadata": {},
     "output_type": "display_data"
    },
    {
     "data": {
      "text/markdown": [
       "<span style=\"color:#33cc99\">Solution:</span> \n",
       "```python\n",
       "(5 - 3) // 2\n",
       "```"
      ],
      "text/plain": [
       "Solution: \n",
       "```python\n",
       "(5 - 3) // 2\n",
       "```"
      ]
     },
     "metadata": {},
     "output_type": "display_data"
    }
   ],
   "source": [
    "# Check your answer (Run this code cell to receive credit!)\n",
    "q3.a.solution()"
   ]
  },
  {
   "cell_type": "markdown",
   "id": "fa717313",
   "metadata": {
    "papermill": {
     "duration": 0.006915,
     "end_time": "2025-02-18T14:02:10.254268",
     "exception": false,
     "start_time": "2025-02-18T14:02:10.247353",
     "status": "completed"
    },
    "tags": []
   },
   "source": [
    "# 3b.  <span title=\"A bit spicy\" style=\"color: darkgreen \">🌶️</span>\n",
    "\n",
    "<small>Questions, like this one, marked a spicy pepper are a bit harder.</small>\n",
    "\n",
    "Add parentheses to the following expression so that it evaluates to 0."
   ]
  },
  {
   "cell_type": "code",
   "execution_count": 13,
   "id": "e831df77",
   "metadata": {
    "execution": {
     "iopub.execute_input": "2025-02-18T14:02:10.269554Z",
     "iopub.status.busy": "2025-02-18T14:02:10.269186Z",
     "iopub.status.idle": "2025-02-18T14:02:10.274527Z",
     "shell.execute_reply": "2025-02-18T14:02:10.273123Z"
    },
    "papermill": {
     "duration": 0.015681,
     "end_time": "2025-02-18T14:02:10.277000",
     "exception": false,
     "start_time": "2025-02-18T14:02:10.261319",
     "status": "completed"
    },
    "tags": []
   },
   "outputs": [
    {
     "name": "stdout",
     "output_type": "stream",
     "text": [
      "0\n"
     ]
    }
   ],
   "source": [
    "a = (8 - 3) * (2 - (1 + 1))\n",
    "print(a)"
   ]
  },
  {
   "cell_type": "code",
   "execution_count": 14,
   "id": "1c7706d7",
   "metadata": {
    "execution": {
     "iopub.execute_input": "2025-02-18T14:02:10.293565Z",
     "iopub.status.busy": "2025-02-18T14:02:10.293191Z",
     "iopub.status.idle": "2025-02-18T14:02:10.300432Z",
     "shell.execute_reply": "2025-02-18T14:02:10.299392Z"
    },
    "papermill": {
     "duration": 0.016946,
     "end_time": "2025-02-18T14:02:10.301969",
     "exception": false,
     "start_time": "2025-02-18T14:02:10.285023",
     "status": "completed"
    },
    "tags": []
   },
   "outputs": [
    {
     "data": {
      "application/javascript": [
       "parent.postMessage({\"jupyterEvent\": \"custom.exercise_interaction\", \"data\": {\"interactionType\": 2, \"questionType\": 4, \"questionId\": \"3.2_ArithmeticParensHard\", \"learnToolsVersion\": \"0.3.4\", \"valueTowardsCompletion\": 0.0, \"failureMessage\": \"\", \"exceptionClass\": \"\", \"trace\": \"\", \"outcomeType\": 4}}, \"*\")"
      ],
      "text/plain": [
       "<IPython.core.display.Javascript object>"
      ]
     },
     "metadata": {},
     "output_type": "display_data"
    },
    {
     "data": {
      "text/markdown": [
       "<span style=\"color:#3366cc\">Hint:</span> You may need to use several pairs of parentheses."
      ],
      "text/plain": [
       "Hint: You may need to use several pairs of parentheses."
      ]
     },
     "metadata": {},
     "output_type": "display_data"
    }
   ],
   "source": [
    "q3.b.hint()"
   ]
  },
  {
   "cell_type": "code",
   "execution_count": 15,
   "id": "89a7cc94",
   "metadata": {
    "execution": {
     "iopub.execute_input": "2025-02-18T14:02:10.318268Z",
     "iopub.status.busy": "2025-02-18T14:02:10.317852Z",
     "iopub.status.idle": "2025-02-18T14:02:10.324907Z",
     "shell.execute_reply": "2025-02-18T14:02:10.323944Z"
    },
    "papermill": {
     "duration": 0.017062,
     "end_time": "2025-02-18T14:02:10.326685",
     "exception": false,
     "start_time": "2025-02-18T14:02:10.309623",
     "status": "completed"
    },
    "tags": []
   },
   "outputs": [
    {
     "data": {
      "application/javascript": [
       "parent.postMessage({\"jupyterEvent\": \"custom.exercise_interaction\", \"data\": {\"interactionType\": 3, \"questionType\": 4, \"questionId\": \"3.2_ArithmeticParensHard\", \"learnToolsVersion\": \"0.3.4\", \"valueTowardsCompletion\": 0.0, \"failureMessage\": \"\", \"exceptionClass\": \"\", \"trace\": \"\", \"outcomeType\": 4}}, \"*\")"
      ],
      "text/plain": [
       "<IPython.core.display.Javascript object>"
      ]
     },
     "metadata": {},
     "output_type": "display_data"
    },
    {
     "data": {
      "text/markdown": [
       "<span style=\"color:#33cc99\">Solution:</span> `(8 - 3) * (2 - (1 + 1))` is one solution. There may be others."
      ],
      "text/plain": [
       "Solution: `(8 - 3) * (2 - (1 + 1))` is one solution. There may be others."
      ]
     },
     "metadata": {},
     "output_type": "display_data"
    }
   ],
   "source": [
    "# Check your answer (Run this code cell to receive credit!)\n",
    "q3.b.solution()"
   ]
  },
  {
   "cell_type": "markdown",
   "id": "bcf3b822",
   "metadata": {
    "papermill": {
     "duration": 0.007327,
     "end_time": "2025-02-18T14:02:10.341650",
     "exception": false,
     "start_time": "2025-02-18T14:02:10.334323",
     "status": "completed"
    },
    "tags": []
   },
   "source": [
    "<hr/>\n",
    "\n",
    "# 4. \n",
    "Alice, Bob and Carol have agreed to pool their Halloween candy and split it evenly among themselves.\n",
    "For the sake of their friendship, any candies left over will be smashed. For example, if they collectively\n",
    "bring home 91 candies, they'll take 30 each and smash 1.\n",
    "\n",
    "Write an arithmetic expression below to calculate how many candies they must smash for a given haul."
   ]
  },
  {
   "cell_type": "code",
   "execution_count": 16,
   "id": "a20ef36e",
   "metadata": {
    "execution": {
     "iopub.execute_input": "2025-02-18T14:02:10.358025Z",
     "iopub.status.busy": "2025-02-18T14:02:10.357681Z",
     "iopub.status.idle": "2025-02-18T14:02:10.365370Z",
     "shell.execute_reply": "2025-02-18T14:02:10.364439Z"
    },
    "papermill": {
     "duration": 0.017603,
     "end_time": "2025-02-18T14:02:10.366845",
     "exception": false,
     "start_time": "2025-02-18T14:02:10.349242",
     "status": "completed"
    },
    "tags": []
   },
   "outputs": [
    {
     "data": {
      "application/javascript": [
       "parent.postMessage({\"jupyterEvent\": \"custom.exercise_interaction\", \"data\": {\"outcomeType\": 1, \"valueTowardsCompletion\": 0.25, \"interactionType\": 1, \"questionType\": 1, \"questionId\": \"4_CandySplitting\", \"learnToolsVersion\": \"0.3.4\", \"failureMessage\": \"\", \"exceptionClass\": \"\", \"trace\": \"\"}}, \"*\")"
      ],
      "text/plain": [
       "<IPython.core.display.Javascript object>"
      ]
     },
     "metadata": {},
     "output_type": "display_data"
    },
    {
     "data": {
      "text/markdown": [
       "<span style=\"color:#33cc33\">Correct</span>"
      ],
      "text/plain": [
       "Correct"
      ]
     },
     "metadata": {},
     "output_type": "display_data"
    }
   ],
   "source": [
    "# Variables representing the number of candies collected by alice, bob, and carol\n",
    "alice_candies = 121\n",
    "bob_candies = 77\n",
    "carol_candies = 109\n",
    "\n",
    "# Your code goes here! Replace the right-hand side of this assignment with an expression\n",
    "(alice_candies + bob_candies + carol_candies) % 3\n",
    "# involving alice_candies, bob_candies, and carol_candies\n",
    "to_smash = (alice_candies + bob_candies + carol_candies) % 3\n",
    "\n",
    "# Check your answer\n",
    "q4.check()"
   ]
  },
  {
   "cell_type": "code",
   "execution_count": 17,
   "id": "08f5a8a1",
   "metadata": {
    "execution": {
     "iopub.execute_input": "2025-02-18T14:02:10.385582Z",
     "iopub.status.busy": "2025-02-18T14:02:10.385233Z",
     "iopub.status.idle": "2025-02-18T14:02:10.399014Z",
     "shell.execute_reply": "2025-02-18T14:02:10.398012Z"
    },
    "papermill": {
     "duration": 0.025805,
     "end_time": "2025-02-18T14:02:10.400586",
     "exception": false,
     "start_time": "2025-02-18T14:02:10.374781",
     "status": "completed"
    },
    "tags": []
   },
   "outputs": [
    {
     "data": {
      "application/javascript": [
       "parent.postMessage({\"jupyterEvent\": \"custom.exercise_interaction\", \"data\": {\"interactionType\": 2, \"questionType\": 1, \"questionId\": \"4_CandySplitting\", \"learnToolsVersion\": \"0.3.4\", \"valueTowardsCompletion\": 0.0, \"failureMessage\": \"\", \"exceptionClass\": \"\", \"trace\": \"\", \"outcomeType\": 4}}, \"*\")"
      ],
      "text/plain": [
       "<IPython.core.display.Javascript object>"
      ]
     },
     "metadata": {},
     "output_type": "display_data"
    },
    {
     "data": {
      "text/markdown": [
       "<span style=\"color:#3366cc\">Hint 1:</span> You'll probably want to use the modulo operator, `%`.\n",
       "(For another hint, call `.hint(2)`)"
      ],
      "text/plain": [
       "Hint 1: You'll probably want to use the modulo operator, `%`.\n",
       "(For another hint, call `.hint(2)`)"
      ]
     },
     "metadata": {},
     "output_type": "display_data"
    },
    {
     "data": {
      "application/javascript": [
       "parent.postMessage({\"jupyterEvent\": \"custom.exercise_interaction\", \"data\": {\"interactionType\": 2, \"questionType\": 1, \"questionId\": \"4_CandySplitting\", \"learnToolsVersion\": \"0.3.4\", \"valueTowardsCompletion\": 0.0, \"failureMessage\": \"\", \"exceptionClass\": \"\", \"trace\": \"\", \"outcomeType\": 4}}, \"*\")"
      ],
      "text/plain": [
       "<IPython.core.display.Javascript object>"
      ]
     },
     "metadata": {},
     "output_type": "display_data"
    },
    {
     "data": {
      "text/markdown": [
       "<span style=\"color:#3366cc\">Hint 2:</span> `j % k` is the remainder after dividing `j` by `k`"
      ],
      "text/plain": [
       "Hint 2: `j % k` is the remainder after dividing `j` by `k`"
      ]
     },
     "metadata": {},
     "output_type": "display_data"
    },
    {
     "data": {
      "application/javascript": [
       "parent.postMessage({\"jupyterEvent\": \"custom.exercise_interaction\", \"data\": {\"interactionType\": 3, \"questionType\": 1, \"questionId\": \"4_CandySplitting\", \"learnToolsVersion\": \"0.3.4\", \"valueTowardsCompletion\": 0.0, \"failureMessage\": \"\", \"exceptionClass\": \"\", \"trace\": \"\", \"outcomeType\": 4}}, \"*\")"
      ],
      "text/plain": [
       "<IPython.core.display.Javascript object>"
      ]
     },
     "metadata": {},
     "output_type": "display_data"
    },
    {
     "data": {
      "text/markdown": [
       "<span style=\"color:#33cc99\">Solution:</span> \n",
       "```python\n",
       "(alice_candies + bob_candies + carol_candies) % 3\n",
       "```"
      ],
      "text/plain": [
       "Solution: \n",
       "```python\n",
       "(alice_candies + bob_candies + carol_candies) % 3\n",
       "```"
      ]
     },
     "metadata": {},
     "output_type": "display_data"
    }
   ],
   "source": [
    "q4.hint()\n",
    "q4.hint(2)\n",
    "q4.solution()"
   ]
  },
  {
   "cell_type": "markdown",
   "id": "38413369",
   "metadata": {
    "papermill": {
     "duration": 0.008241,
     "end_time": "2025-02-18T14:02:10.417623",
     "exception": false,
     "start_time": "2025-02-18T14:02:10.409382",
     "status": "completed"
    },
    "tags": []
   },
   "source": [
    "# Keep Going\n",
    "\n",
    "Next up, you'll **[learn to write new functions and understand functions others write](https://www.kaggle.com/colinmorris/functions-and-getting-help)**. This will make you at least 10 times more productive as a Python programmer. "
   ]
  },
  {
   "cell_type": "markdown",
   "id": "8f209c60",
   "metadata": {
    "papermill": {
     "duration": 0.008084,
     "end_time": "2025-02-18T14:02:10.434238",
     "exception": false,
     "start_time": "2025-02-18T14:02:10.426154",
     "status": "completed"
    },
    "tags": []
   },
   "source": [
    "---\n",
    "\n",
    "\n",
    "\n",
    "\n",
    "*Have questions or comments? Visit the [course discussion forum](https://www.kaggle.com/learn/python/discussion) to chat with other learners.*"
   ]
  }
 ],
 "metadata": {
  "kaggle": {
   "accelerator": "none",
   "dataSources": [],
   "isGpuEnabled": false,
   "isInternetEnabled": false,
   "language": "python",
   "sourceType": "notebook"
  },
  "kernelspec": {
   "display_name": "Python 3",
   "language": "python",
   "name": "python3"
  },
  "language_info": {
   "codemirror_mode": {
    "name": "ipython",
    "version": 3
   },
   "file_extension": ".py",
   "mimetype": "text/x-python",
   "name": "python",
   "nbconvert_exporter": "python",
   "pygments_lexer": "ipython3",
   "version": "3.10.12"
  },
  "learntools_metadata": {
   "lesson_index": 0,
   "type": "exercise"
  },
  "papermill": {
   "default_parameters": {},
   "duration": 5.026502,
   "end_time": "2025-02-18T14:02:11.062344",
   "environment_variables": {},
   "exception": null,
   "input_path": "__notebook__.ipynb",
   "output_path": "__notebook__.ipynb",
   "parameters": {},
   "start_time": "2025-02-18T14:02:06.035842",
   "version": "2.6.0"
  }
 },
 "nbformat": 4,
 "nbformat_minor": 5
}
