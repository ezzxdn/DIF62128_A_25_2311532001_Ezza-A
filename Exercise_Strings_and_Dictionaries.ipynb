{
  "metadata": {
    "kernelspec": {
      "display_name": "Python 3",
      "language": "python",
      "name": "python3"
    },
    "language_info": {
      "name": "python",
      "version": "3.10.12",
      "mimetype": "text/x-python",
      "codemirror_mode": {
        "name": "ipython",
        "version": 3
      },
      "pygments_lexer": "ipython3",
      "nbconvert_exporter": "python",
      "file_extension": ".py"
    },
    "learntools_metadata": {
      "lesson_index": 5,
      "type": "exercise"
    },
    "kaggle": {
      "accelerator": "none",
      "dataSources": [],
      "isInternetEnabled": false,
      "language": "python",
      "sourceType": "notebook",
      "isGpuEnabled": false
    },
    "colab": {
      "name": "Exercise: Strings and Dictionaries",
      "provenance": []
    }
  },
  "nbformat_minor": 0,
  "nbformat": 4,
  "cells": [
    {
      "cell_type": "markdown",
      "source": [
        "**This notebook is an exercise in the [Python](https://www.kaggle.com/learn/python) course.  You can reference the tutorial at [this link](https://www.kaggle.com/colinmorris/strings-and-dictionaries).**\n",
        "\n",
        "---\n"
      ],
      "metadata": {
        "id": "xfgv-c0ajy0f"
      }
    },
    {
      "cell_type": "markdown",
      "source": [
        "You are almost done with the course. Nice job!\n",
        "\n",
        "We have a couple more interesting problems for you before you go.\n",
        "\n",
        "As always, run the setup code below before working on the questions."
      ],
      "metadata": {
        "id": "IHZgLDT1jy0h"
      }
    },
    {
      "cell_type": "code",
      "source": [
        "from learntools.core import binder; binder.bind(globals())\n",
        "from learntools.python.ex6 import *\n",
        "print('Setup complete.')"
      ],
      "metadata": {
        "trusted": true,
        "execution": {
          "iopub.status.busy": "2025-02-20T08:52:35.602762Z",
          "iopub.execute_input": "2025-02-20T08:52:35.603124Z",
          "iopub.status.idle": "2025-02-20T08:52:36.130376Z",
          "shell.execute_reply.started": "2025-02-20T08:52:35.603087Z",
          "shell.execute_reply": "2025-02-20T08:52:36.129179Z"
        },
        "id": "nSARBjmyjy0h",
        "outputId": "82845f65-77a6-4e07-a923-1d0a68987939"
      },
      "outputs": [
        {
          "name": "stdout",
          "text": "Setup complete.\n",
          "output_type": "stream"
        }
      ],
      "execution_count": null
    },
    {
      "cell_type": "markdown",
      "source": [
        "Let's start with a string lightning round to warm up. What are the lengths of the strings below?\n",
        "\n",
        "For each of the five strings below, predict what `len()` would return when passed that string. Use the variable `length` to record your answer, then run the cell to check whether you were right.  \n",
        "\n",
        "# 0a."
      ],
      "metadata": {
        "id": "wlsn5PlQjy0j"
      }
    },
    {
      "cell_type": "code",
      "source": [
        "a = \"\"\n",
        "length = 0\n",
        "q0.a.check()"
      ],
      "metadata": {
        "trusted": true,
        "execution": {
          "iopub.status.busy": "2025-02-20T08:52:36.131412Z",
          "iopub.execute_input": "2025-02-20T08:52:36.131931Z",
          "iopub.status.idle": "2025-02-20T08:52:36.141227Z",
          "shell.execute_reply.started": "2025-02-20T08:52:36.131904Z",
          "shell.execute_reply": "2025-02-20T08:52:36.140105Z"
        },
        "id": "kg2cUMoijy0k",
        "outputId": "49130db7-5744-4902-fd2b-7f0513164f61"
      },
      "outputs": [
        {
          "output_type": "display_data",
          "data": {
            "text/plain": "<IPython.core.display.Javascript object>",
            "application/javascript": "parent.postMessage({\"jupyterEvent\": \"custom.exercise_interaction\", \"data\": {\"outcomeType\": 1, \"valueTowardsCompletion\": 0.3333333333333333, \"interactionType\": 1, \"questionType\": 1, \"questionId\": \"0.1_ZA\", \"learnToolsVersion\": \"0.3.4\", \"failureMessage\": \"\", \"exceptionClass\": \"\", \"trace\": \"\"}}, \"*\")"
          },
          "metadata": {}
        },
        {
          "output_type": "display_data",
          "data": {
            "text/plain": "Correct: \n\nThe empty string has length zero. Note that the empty string is also the only string that Python considers as False when converting to boolean.",
            "text/markdown": "<span style=\"color:#33cc33\">Correct:</span> \n\nThe empty string has length zero. Note that the empty string is also the only string that Python considers as False when converting to boolean."
          },
          "metadata": {}
        }
      ],
      "execution_count": null
    },
    {
      "cell_type": "markdown",
      "source": [
        "# 0b."
      ],
      "metadata": {
        "id": "IT9xIoMNjy0k"
      }
    },
    {
      "cell_type": "code",
      "source": [
        "b = \"it's ok\"\n",
        "length = 7\n",
        "q0.b.check()"
      ],
      "metadata": {
        "trusted": true,
        "execution": {
          "iopub.status.busy": "2025-02-20T08:52:36.142225Z",
          "iopub.execute_input": "2025-02-20T08:52:36.142594Z",
          "iopub.status.idle": "2025-02-20T08:52:36.165639Z",
          "shell.execute_reply.started": "2025-02-20T08:52:36.142556Z",
          "shell.execute_reply": "2025-02-20T08:52:36.164458Z"
        },
        "id": "W9u6T0lijy0k",
        "outputId": "c60a9b34-47c4-442b-ec11-92d7bd96e793"
      },
      "outputs": [
        {
          "output_type": "display_data",
          "data": {
            "text/plain": "<IPython.core.display.Javascript object>",
            "application/javascript": "parent.postMessage({\"jupyterEvent\": \"custom.exercise_interaction\", \"data\": {\"outcomeType\": 1, \"valueTowardsCompletion\": 0.3333333333333333, \"interactionType\": 1, \"questionType\": 1, \"questionId\": \"0.2_ZB\", \"learnToolsVersion\": \"0.3.4\", \"failureMessage\": \"\", \"exceptionClass\": \"\", \"trace\": \"\"}}, \"*\")"
          },
          "metadata": {}
        },
        {
          "output_type": "display_data",
          "data": {
            "text/plain": "Correct: \n\nKeep in mind Python includes spaces (and punctuation) when counting string length.",
            "text/markdown": "<span style=\"color:#33cc33\">Correct:</span> \n\nKeep in mind Python includes spaces (and punctuation) when counting string length."
          },
          "metadata": {}
        }
      ],
      "execution_count": null
    },
    {
      "cell_type": "markdown",
      "source": [
        "# 0c."
      ],
      "metadata": {
        "id": "IVCQRYsNjy0l"
      }
    },
    {
      "cell_type": "code",
      "source": [
        "c = 'it\\'s ok'\n",
        "length = 7\n",
        "q0.c.check()"
      ],
      "metadata": {
        "trusted": true,
        "execution": {
          "iopub.status.busy": "2025-02-20T08:52:36.167975Z",
          "iopub.execute_input": "2025-02-20T08:52:36.168353Z",
          "iopub.status.idle": "2025-02-20T08:52:36.186851Z",
          "shell.execute_reply.started": "2025-02-20T08:52:36.168325Z",
          "shell.execute_reply": "2025-02-20T08:52:36.185829Z"
        },
        "id": "A2fEdTvwjy0l",
        "outputId": "68e4a6f5-bbec-4a80-cd51-ccad62501510"
      },
      "outputs": [
        {
          "output_type": "display_data",
          "data": {
            "text/plain": "<IPython.core.display.Javascript object>",
            "application/javascript": "parent.postMessage({\"jupyterEvent\": \"custom.exercise_interaction\", \"data\": {\"outcomeType\": 1, \"valueTowardsCompletion\": 0.3333333333333333, \"interactionType\": 1, \"questionType\": 1, \"questionId\": \"0.3_ZC\", \"learnToolsVersion\": \"0.3.4\", \"failureMessage\": \"\", \"exceptionClass\": \"\", \"trace\": \"\"}}, \"*\")"
          },
          "metadata": {}
        },
        {
          "output_type": "display_data",
          "data": {
            "text/plain": "Correct: \n\nEven though we use different syntax to create it, the string `c` is identical to `b`. In particular, note that the backslash is not part of the string, so it doesn't contribute to its length.",
            "text/markdown": "<span style=\"color:#33cc33\">Correct:</span> \n\nEven though we use different syntax to create it, the string `c` is identical to `b`. In particular, note that the backslash is not part of the string, so it doesn't contribute to its length."
          },
          "metadata": {}
        }
      ],
      "execution_count": null
    },
    {
      "cell_type": "markdown",
      "source": [
        "# 0d."
      ],
      "metadata": {
        "id": "p3U0dTEVjy0m"
      }
    },
    {
      "cell_type": "code",
      "source": [
        "d = \"\"\"hey\"\"\"\n",
        "length = 3\n",
        "q0.d.check()"
      ],
      "metadata": {
        "trusted": true,
        "execution": {
          "iopub.status.busy": "2025-02-20T08:52:36.188509Z",
          "iopub.execute_input": "2025-02-20T08:52:36.188798Z",
          "iopub.status.idle": "2025-02-20T08:52:36.207118Z",
          "shell.execute_reply.started": "2025-02-20T08:52:36.188769Z",
          "shell.execute_reply": "2025-02-20T08:52:36.206012Z"
        },
        "id": "TB0yQ0l-jy0m",
        "outputId": "b6040ba8-0e7a-4e98-8345-786bff26b81e"
      },
      "outputs": [
        {
          "output_type": "display_data",
          "data": {
            "text/plain": "<IPython.core.display.Javascript object>",
            "application/javascript": "parent.postMessage({\"jupyterEvent\": \"custom.exercise_interaction\", \"data\": {\"outcomeType\": 1, \"valueTowardsCompletion\": 0.3333333333333333, \"interactionType\": 1, \"questionType\": 1, \"questionId\": \"0.4_ZD\", \"learnToolsVersion\": \"0.3.4\", \"failureMessage\": \"\", \"exceptionClass\": \"\", \"trace\": \"\"}}, \"*\")"
          },
          "metadata": {}
        },
        {
          "output_type": "display_data",
          "data": {
            "text/plain": "Correct: \n\nThe fact that this string was created using triple-quote syntax doesn't make any difference in terms of its content or length. This string is exactly the same as `'hey'`.",
            "text/markdown": "<span style=\"color:#33cc33\">Correct:</span> \n\nThe fact that this string was created using triple-quote syntax doesn't make any difference in terms of its content or length. This string is exactly the same as `'hey'`."
          },
          "metadata": {}
        }
      ],
      "execution_count": null
    },
    {
      "cell_type": "markdown",
      "source": [
        "# 0e."
      ],
      "metadata": {
        "id": "g-z-OwzLjy0n"
      }
    },
    {
      "cell_type": "code",
      "source": [
        "e = '\\n'\n",
        "length = 1\n",
        "q0.e.check()"
      ],
      "metadata": {
        "trusted": true,
        "execution": {
          "iopub.status.busy": "2025-02-20T08:52:36.208331Z",
          "iopub.execute_input": "2025-02-20T08:52:36.208762Z",
          "iopub.status.idle": "2025-02-20T08:52:36.229072Z",
          "shell.execute_reply.started": "2025-02-20T08:52:36.208719Z",
          "shell.execute_reply": "2025-02-20T08:52:36.227956Z"
        },
        "id": "HofJnBPsjy0n",
        "outputId": "97b0d343-f306-49da-c3bb-88e57d44c19a"
      },
      "outputs": [
        {
          "output_type": "display_data",
          "data": {
            "text/plain": "<IPython.core.display.Javascript object>",
            "application/javascript": "parent.postMessage({\"jupyterEvent\": \"custom.exercise_interaction\", \"data\": {\"outcomeType\": 1, \"valueTowardsCompletion\": 0.3333333333333333, \"interactionType\": 1, \"questionType\": 1, \"questionId\": \"0.5_ZE\", \"learnToolsVersion\": \"0.3.4\", \"failureMessage\": \"\", \"exceptionClass\": \"\", \"trace\": \"\"}}, \"*\")"
          },
          "metadata": {}
        },
        {
          "output_type": "display_data",
          "data": {
            "text/plain": "Correct: \n\nThe newline character is just a single character! (Even though we represent it to Python using a combination of two characters.)",
            "text/markdown": "<span style=\"color:#33cc33\">Correct:</span> \n\nThe newline character is just a single character! (Even though we represent it to Python using a combination of two characters.)"
          },
          "metadata": {}
        }
      ],
      "execution_count": null
    },
    {
      "cell_type": "markdown",
      "source": [
        "# 1.\n",
        "\n",
        "There is a saying that \"Data scientists spend 80% of their time cleaning data, and 20% of their time complaining about cleaning data.\" Let's see if you can write a function to help clean US zip code data. Given a string, it should return whether or not that string represents a valid zip code. For our purposes, a valid zip code is any string consisting of exactly 5 digits.\n",
        "\n",
        "HINT: `str` has a method that will be useful here. Use `help(str)` to review a list of string methods."
      ],
      "metadata": {
        "id": "aiNcz3Brjy0n"
      }
    },
    {
      "cell_type": "code",
      "source": [
        "def is_valid_zip(zip_code):\n",
        "    return len(zip_code) == 5 and zip_code.isdigit()\n",
        "    \"\"\"Returns whether the input string is a valid (5 digit) zip code\n",
        "    \"\"\"\n",
        "    pass\n",
        "\n",
        "# Check your answer\n",
        "q1.check()"
      ],
      "metadata": {
        "trusted": true,
        "execution": {
          "iopub.status.busy": "2025-02-20T08:52:36.230175Z",
          "iopub.execute_input": "2025-02-20T08:52:36.230555Z",
          "iopub.status.idle": "2025-02-20T08:52:36.25063Z",
          "shell.execute_reply.started": "2025-02-20T08:52:36.230514Z",
          "shell.execute_reply": "2025-02-20T08:52:36.249709Z"
        },
        "id": "Wo2L8B6Djy0o",
        "outputId": "bb8876df-47f4-4dc7-c71e-9173e7ccbca1"
      },
      "outputs": [
        {
          "output_type": "display_data",
          "data": {
            "text/plain": "<IPython.core.display.Javascript object>",
            "application/javascript": "parent.postMessage({\"jupyterEvent\": \"custom.exercise_interaction\", \"data\": {\"outcomeType\": 1, \"valueTowardsCompletion\": 0.3333333333333333, \"interactionType\": 1, \"questionType\": 2, \"questionId\": \"1_ZipValidator\", \"learnToolsVersion\": \"0.3.4\", \"failureMessage\": \"\", \"exceptionClass\": \"\", \"trace\": \"\"}}, \"*\")"
          },
          "metadata": {}
        },
        {
          "output_type": "display_data",
          "data": {
            "text/plain": "Correct",
            "text/markdown": "<span style=\"color:#33cc33\">Correct</span>"
          },
          "metadata": {}
        }
      ],
      "execution_count": null
    },
    {
      "cell_type": "code",
      "source": [
        "#q1.hint()\n",
        "#q1.solution()"
      ],
      "metadata": {
        "trusted": true,
        "execution": {
          "iopub.status.busy": "2025-02-20T08:52:36.251767Z",
          "iopub.execute_input": "2025-02-20T08:52:36.252138Z",
          "iopub.status.idle": "2025-02-20T08:52:36.267891Z",
          "shell.execute_reply.started": "2025-02-20T08:52:36.252113Z",
          "shell.execute_reply": "2025-02-20T08:52:36.266374Z"
        },
        "id": "cEa6Spc0jy0o"
      },
      "outputs": [],
      "execution_count": null
    },
    {
      "cell_type": "markdown",
      "source": [
        "# 2.\n",
        "\n",
        "A researcher has gathered thousands of news articles. But she wants to focus her attention on articles including a specific word. Complete the function below to help her filter her list of articles.\n",
        "\n",
        "Your function should meet the following criteria:\n",
        "\n",
        "- Do not include documents where the keyword string shows up only as a part of a larger word. For example, if she were looking for the keyword “closed”, you would not include the string “enclosed.”\n",
        "- She does not want you to distinguish upper case from lower case letters. So the phrase “Closed the case.” would be included when the keyword is “closed”\n",
        "- Do not let periods or commas affect what is matched. “It is closed.” would be included when the keyword is “closed”. But you can assume there are no other types of punctuation."
      ],
      "metadata": {
        "id": "kmCytGaTjy0o"
      }
    },
    {
      "cell_type": "code",
      "source": [
        "def word_search(doc_list, keyword):\n",
        "    # list to hold the indices of matching documents\n",
        "    indices = []\n",
        "    # Iterate through the indices (i) and elements (doc) of documents\n",
        "    for i, doc in enumerate(doc_list):\n",
        "        # Split the string doc into a list of words (according to whitespace)\n",
        "        tokens = doc.split()\n",
        "        # Make a transformed list where we 'normalize' each word to facilitate matching.\n",
        "        # Periods and commas are removed from the end of each word, and it's set to all lowercase.\n",
        "        normalized = [token.rstrip('.,').lower() for token in tokens]\n",
        "        # Is there a match? If so, update the list of matching indices.\n",
        "        if keyword.lower() in normalized:\n",
        "            indices.append(i)\n",
        "    return indices\n",
        "\n",
        "    \"\"\"\n",
        "    Takes a list of documents (each document is a string) and a keyword.\n",
        "    Returns list of the index values into the original list for all documents\n",
        "    containing the keyword.\n",
        "\n",
        "    Example:\n",
        "    doc_list = [\"The Learn Python Challenge Casino.\", \"They bought a car\", \"Casinoville\"]\n",
        "    >>> word_search(doc_list, 'casino')\n",
        "    >>> [0]\n",
        "    \"\"\"\n",
        "    pass\n",
        "\n",
        "# Check your answer\n",
        "q2.check()"
      ],
      "metadata": {
        "trusted": true,
        "execution": {
          "iopub.status.busy": "2025-02-20T08:52:36.269076Z",
          "iopub.execute_input": "2025-02-20T08:52:36.269479Z",
          "iopub.status.idle": "2025-02-20T08:52:36.293446Z",
          "shell.execute_reply.started": "2025-02-20T08:52:36.269441Z",
          "shell.execute_reply": "2025-02-20T08:52:36.29249Z"
        },
        "id": "F17IyBxajy0p",
        "outputId": "fc2cc0c0-4b1d-471a-c3c1-fefe6aeb9270"
      },
      "outputs": [
        {
          "output_type": "display_data",
          "data": {
            "text/plain": "<IPython.core.display.Javascript object>",
            "application/javascript": "parent.postMessage({\"jupyterEvent\": \"custom.exercise_interaction\", \"data\": {\"outcomeType\": 1, \"valueTowardsCompletion\": 0.3333333333333333, \"interactionType\": 1, \"questionType\": 2, \"questionId\": \"2_WordSearch\", \"learnToolsVersion\": \"0.3.4\", \"failureMessage\": \"\", \"exceptionClass\": \"\", \"trace\": \"\"}}, \"*\")"
          },
          "metadata": {}
        },
        {
          "output_type": "display_data",
          "data": {
            "text/plain": "Correct",
            "text/markdown": "<span style=\"color:#33cc33\">Correct</span>"
          },
          "metadata": {}
        }
      ],
      "execution_count": null
    },
    {
      "cell_type": "code",
      "source": [
        "#q2.hint()\n",
        "#q2.solution()"
      ],
      "metadata": {
        "trusted": true,
        "execution": {
          "iopub.status.busy": "2025-02-20T08:52:36.294162Z",
          "iopub.execute_input": "2025-02-20T08:52:36.29447Z",
          "iopub.status.idle": "2025-02-20T08:52:36.351336Z",
          "shell.execute_reply.started": "2025-02-20T08:52:36.294441Z",
          "shell.execute_reply": "2025-02-20T08:52:36.349022Z"
        },
        "id": "VIMn5uzMjy0p"
      },
      "outputs": [],
      "execution_count": null
    },
    {
      "cell_type": "markdown",
      "source": [
        "# 3.\n",
        "\n",
        "Now the researcher wants to supply multiple keywords to search for. Complete the function below to help her.\n",
        "\n",
        "(You're encouraged to use the `word_search` function you just wrote when implementing this function. Reusing code in this way makes your programs more robust and readable - and it saves typing!)"
      ],
      "metadata": {
        "id": "r3aDtsE6jy0q"
      }
    },
    {
      "cell_type": "code",
      "source": [
        "def multi_word_search(documents, keywords):\n",
        "    keyword_to_indices = {}\n",
        "    for keyword in keywords:\n",
        "        keyword_to_indices[keyword] = word_search(documents, keyword)\n",
        "    return keyword_to_indices\n",
        "    \"\"\"\n",
        "    Takes list of documents (each document is a string) and a list of keywords.\n",
        "    Returns a dictionary where each key is a keyword, and the value is a list of indices\n",
        "    (from doc_list) of the documents containing that keyword\n",
        "\n",
        "    >>> doc_list = [\"The Learn Python Challenge Casino.\", \"They bought a car and a casino\", \"Casinoville\"]\n",
        "    >>> keywords = ['casino', 'they']\n",
        "    >>> multi_word_search(doc_list, keywords)\n",
        "    {'casino': [0, 1], 'they': [1]}\n",
        "    \"\"\"\n",
        "    pass\n",
        "\n",
        "# Check your answer\n",
        "q3.check()"
      ],
      "metadata": {
        "trusted": true,
        "execution": {
          "iopub.status.busy": "2025-02-20T08:52:36.352187Z",
          "iopub.execute_input": "2025-02-20T08:52:36.352502Z",
          "iopub.status.idle": "2025-02-20T08:52:36.377132Z",
          "shell.execute_reply.started": "2025-02-20T08:52:36.352475Z",
          "shell.execute_reply": "2025-02-20T08:52:36.374414Z"
        },
        "id": "wnCIdG5Ujy0q",
        "outputId": "615a6930-bcad-4423-d80b-5cc1e7eebef1"
      },
      "outputs": [
        {
          "output_type": "display_data",
          "data": {
            "text/plain": "<IPython.core.display.Javascript object>",
            "application/javascript": "parent.postMessage({\"jupyterEvent\": \"custom.exercise_interaction\", \"data\": {\"outcomeType\": 1, \"valueTowardsCompletion\": 0.3333333333333333, \"interactionType\": 1, \"questionType\": 2, \"questionId\": \"3_MultiWordSearch\", \"learnToolsVersion\": \"0.3.4\", \"failureMessage\": \"\", \"exceptionClass\": \"\", \"trace\": \"\"}}, \"*\")"
          },
          "metadata": {}
        },
        {
          "output_type": "display_data",
          "data": {
            "text/plain": "Correct",
            "text/markdown": "<span style=\"color:#33cc33\">Correct</span>"
          },
          "metadata": {}
        }
      ],
      "execution_count": null
    },
    {
      "cell_type": "code",
      "source": [
        "#q3.solution()"
      ],
      "metadata": {
        "trusted": true,
        "execution": {
          "iopub.status.busy": "2025-02-20T08:52:36.37949Z",
          "iopub.execute_input": "2025-02-20T08:52:36.381697Z",
          "iopub.status.idle": "2025-02-20T08:52:36.391013Z",
          "shell.execute_reply.started": "2025-02-20T08:52:36.381659Z",
          "shell.execute_reply": "2025-02-20T08:52:36.38858Z"
        },
        "id": "lHmo8wK-jy0q"
      },
      "outputs": [],
      "execution_count": null
    },
    {
      "cell_type": "markdown",
      "source": [
        "# Keep Going\n",
        "\n",
        "You've learned a lot. But even the best programmers rely heavily on \"libraries\" of code from other programmers. You'll learn about that in **[the last lesson](https://www.kaggle.com/colinmorris/working-with-external-libraries)**.\n"
      ],
      "metadata": {
        "id": "OEeVVbuajy0q"
      }
    },
    {
      "cell_type": "markdown",
      "source": [
        "---\n",
        "\n",
        "\n",
        "\n",
        "\n",
        "*Have questions or comments? Visit the [course discussion forum](https://www.kaggle.com/learn/python/discussion) to chat with other learners.*"
      ],
      "metadata": {
        "id": "5WXYtDCDjy0r"
      }
    }
  ]
}