{
 "cells": [
  {
   "cell_type": "markdown",
   "id": "48b8ff5c",
   "metadata": {
    "papermill": {
     "duration": 0.004555,
     "end_time": "2025-02-18T14:00:50.862738",
     "exception": false,
     "start_time": "2025-02-18T14:00:50.858183",
     "status": "completed"
    },
    "tags": []
   },
   "source": [
    "**This notebook is an exercise in the [Python](https://www.kaggle.com/learn/python) course.  You can reference the tutorial at [this link](https://www.kaggle.com/colinmorris/lists).**\n",
    "\n",
    "---\n"
   ]
  },
  {
   "cell_type": "markdown",
   "id": "d80364c4",
   "metadata": {
    "papermill": {
     "duration": 0.003135,
     "end_time": "2025-02-18T14:00:50.869674",
     "exception": false,
     "start_time": "2025-02-18T14:00:50.866539",
     "status": "completed"
    },
    "tags": []
   },
   "source": [
    "Things get more interesting with lists. You'll apply your new knowledge to solve the questions below. Remember to run the following cell first."
   ]
  },
  {
   "cell_type": "code",
   "execution_count": 1,
   "id": "67c0f722",
   "metadata": {
    "execution": {
     "iopub.execute_input": "2025-02-18T14:00:50.877825Z",
     "iopub.status.busy": "2025-02-18T14:00:50.877482Z",
     "iopub.status.idle": "2025-02-18T14:00:51.814140Z",
     "shell.execute_reply": "2025-02-18T14:00:51.812871Z"
    },
    "papermill": {
     "duration": 0.942816,
     "end_time": "2025-02-18T14:00:51.815808",
     "exception": false,
     "start_time": "2025-02-18T14:00:50.872992",
     "status": "completed"
    },
    "tags": []
   },
   "outputs": [
    {
     "name": "stdout",
     "output_type": "stream",
     "text": [
      "Setup complete.\n"
     ]
    }
   ],
   "source": [
    "from learntools.core import binder; binder.bind(globals())\n",
    "from learntools.python.ex4 import *\n",
    "print('Setup complete.')"
   ]
  },
  {
   "cell_type": "markdown",
   "id": "d138d7c5",
   "metadata": {
    "papermill": {
     "duration": 0.003585,
     "end_time": "2025-02-18T14:00:51.823385",
     "exception": false,
     "start_time": "2025-02-18T14:00:51.819800",
     "status": "completed"
    },
    "tags": []
   },
   "source": [
    "# 1.\n",
    "\n",
    "Complete the function below according to its docstring."
   ]
  },
  {
   "cell_type": "code",
   "execution_count": 2,
   "id": "9104d3e1",
   "metadata": {
    "execution": {
     "iopub.execute_input": "2025-02-18T14:00:51.831473Z",
     "iopub.status.busy": "2025-02-18T14:00:51.831094Z",
     "iopub.status.idle": "2025-02-18T14:00:51.839865Z",
     "shell.execute_reply": "2025-02-18T14:00:51.838917Z"
    },
    "papermill": {
     "duration": 0.014462,
     "end_time": "2025-02-18T14:00:51.841350",
     "exception": false,
     "start_time": "2025-02-18T14:00:51.826888",
     "status": "completed"
    },
    "tags": []
   },
   "outputs": [
    {
     "data": {
      "application/javascript": [
       "parent.postMessage({\"jupyterEvent\": \"custom.exercise_interaction\", \"data\": {\"outcomeType\": 1, \"valueTowardsCompletion\": 0.2, \"interactionType\": 1, \"questionType\": 2, \"questionId\": \"1_SelectSecondItem\", \"learnToolsVersion\": \"0.3.4\", \"failureMessage\": \"\", \"exceptionClass\": \"\", \"trace\": \"\"}}, \"*\")"
      ],
      "text/plain": [
       "<IPython.core.display.Javascript object>"
      ]
     },
     "metadata": {},
     "output_type": "display_data"
    },
    {
     "data": {
      "text/markdown": [
       "<span style=\"color:#33cc33\">Correct</span>"
      ],
      "text/plain": [
       "Correct"
      ]
     },
     "metadata": {},
     "output_type": "display_data"
    }
   ],
   "source": [
    "def select_second(L):\n",
    "    \"\"\"Return the second element of the given list. If the list has no second\n",
    "    element, return None.\n",
    "    \"\"\"\n",
    "    pass\n",
    "    if len(L) < 2:\n",
    "        return None\n",
    "    return L[1]\n",
    "\n",
    "# Check your answer\n",
    "q1.check()"
   ]
  },
  {
   "cell_type": "code",
   "execution_count": 3,
   "id": "9712c648",
   "metadata": {
    "execution": {
     "iopub.execute_input": "2025-02-18T14:00:51.850316Z",
     "iopub.status.busy": "2025-02-18T14:00:51.850053Z",
     "iopub.status.idle": "2025-02-18T14:00:51.853529Z",
     "shell.execute_reply": "2025-02-18T14:00:51.852612Z"
    },
    "papermill": {
     "duration": 0.009653,
     "end_time": "2025-02-18T14:00:51.855011",
     "exception": false,
     "start_time": "2025-02-18T14:00:51.845358",
     "status": "completed"
    },
    "tags": []
   },
   "outputs": [],
   "source": [
    "#q1.hint()\n",
    "#q1.solution()"
   ]
  },
  {
   "cell_type": "markdown",
   "id": "9cf14671",
   "metadata": {
    "papermill": {
     "duration": 0.003636,
     "end_time": "2025-02-18T14:00:51.862494",
     "exception": false,
     "start_time": "2025-02-18T14:00:51.858858",
     "status": "completed"
    },
    "tags": []
   },
   "source": [
    "# 2.\n",
    "\n",
    "You are analyzing sports teams.  Members of each team are stored in a list. The Coach is the first name in the list, the captain is the second name in the list, and other players are listed after that. \n",
    "These lists are stored in another list, which starts with the best team and proceeds through the list to the worst team last.  Complete the function below to select the **captain** of the worst team."
   ]
  },
  {
   "cell_type": "code",
   "execution_count": 4,
   "id": "c1e569cf",
   "metadata": {
    "execution": {
     "iopub.execute_input": "2025-02-18T14:00:51.871021Z",
     "iopub.status.busy": "2025-02-18T14:00:51.870689Z",
     "iopub.status.idle": "2025-02-18T14:00:51.877372Z",
     "shell.execute_reply": "2025-02-18T14:00:51.876616Z"
    },
    "papermill": {
     "duration": 0.012446,
     "end_time": "2025-02-18T14:00:51.878757",
     "exception": false,
     "start_time": "2025-02-18T14:00:51.866311",
     "status": "completed"
    },
    "tags": []
   },
   "outputs": [
    {
     "data": {
      "application/javascript": [
       "parent.postMessage({\"jupyterEvent\": \"custom.exercise_interaction\", \"data\": {\"outcomeType\": 1, \"valueTowardsCompletion\": 0.2, \"interactionType\": 1, \"questionType\": 2, \"questionId\": \"2_LosingTeamCaptain\", \"learnToolsVersion\": \"0.3.4\", \"failureMessage\": \"\", \"exceptionClass\": \"\", \"trace\": \"\"}}, \"*\")"
      ],
      "text/plain": [
       "<IPython.core.display.Javascript object>"
      ]
     },
     "metadata": {},
     "output_type": "display_data"
    },
    {
     "data": {
      "text/markdown": [
       "<span style=\"color:#33cc33\">Correct</span>"
      ],
      "text/plain": [
       "Correct"
      ]
     },
     "metadata": {},
     "output_type": "display_data"
    }
   ],
   "source": [
    "def losing_team_captain(teams):\n",
    "    \"\"\"Given a list of teams, where each team is a list of names, return the 2nd player (captain)\n",
    "    from the last listed team\n",
    "    \"\"\"\n",
    "    pass\n",
    "    return teams[-1][1]\n",
    "\n",
    "# Check your answer\n",
    "q2.check()"
   ]
  },
  {
   "cell_type": "code",
   "execution_count": 5,
   "id": "7d047911",
   "metadata": {
    "execution": {
     "iopub.execute_input": "2025-02-18T14:00:51.887973Z",
     "iopub.status.busy": "2025-02-18T14:00:51.887639Z",
     "iopub.status.idle": "2025-02-18T14:00:51.897376Z",
     "shell.execute_reply": "2025-02-18T14:00:51.896486Z"
    },
    "papermill": {
     "duration": 0.015752,
     "end_time": "2025-02-18T14:00:51.898708",
     "exception": false,
     "start_time": "2025-02-18T14:00:51.882956",
     "status": "completed"
    },
    "tags": []
   },
   "outputs": [
    {
     "data": {
      "application/javascript": [
       "parent.postMessage({\"jupyterEvent\": \"custom.exercise_interaction\", \"data\": {\"interactionType\": 2, \"questionType\": 2, \"questionId\": \"2_LosingTeamCaptain\", \"learnToolsVersion\": \"0.3.4\", \"valueTowardsCompletion\": 0.0, \"failureMessage\": \"\", \"exceptionClass\": \"\", \"trace\": \"\", \"outcomeType\": 4}}, \"*\")"
      ],
      "text/plain": [
       "<IPython.core.display.Javascript object>"
      ]
     },
     "metadata": {},
     "output_type": "display_data"
    },
    {
     "data": {
      "text/markdown": [
       "<span style=\"color:#3366cc\">Hint:</span> The last item in a list `L` can be selected with `L[-1]`. The first item in the first sublist would be selected as `L[0][0]`"
      ],
      "text/plain": [
       "Hint: The last item in a list `L` can be selected with `L[-1]`. The first item in the first sublist would be selected as `L[0][0]`"
      ]
     },
     "metadata": {},
     "output_type": "display_data"
    },
    {
     "data": {
      "application/javascript": [
       "parent.postMessage({\"jupyterEvent\": \"custom.exercise_interaction\", \"data\": {\"interactionType\": 3, \"questionType\": 2, \"questionId\": \"2_LosingTeamCaptain\", \"learnToolsVersion\": \"0.3.4\", \"valueTowardsCompletion\": 0.0, \"failureMessage\": \"\", \"exceptionClass\": \"\", \"trace\": \"\", \"outcomeType\": 4}}, \"*\")"
      ],
      "text/plain": [
       "<IPython.core.display.Javascript object>"
      ]
     },
     "metadata": {},
     "output_type": "display_data"
    },
    {
     "data": {
      "text/markdown": [
       "<span style=\"color:#33cc99\">Solution:</span> \n",
       "```python\n",
       "def losing_team_captain(teams):\n",
       "    return teams[-1][1]\n",
       "```"
      ],
      "text/plain": [
       "Solution: \n",
       "```python\n",
       "def losing_team_captain(teams):\n",
       "    return teams[-1][1]\n",
       "```"
      ]
     },
     "metadata": {},
     "output_type": "display_data"
    }
   ],
   "source": [
    "q2.hint()\n",
    "q2.solution()"
   ]
  },
  {
   "cell_type": "markdown",
   "id": "87096fe8",
   "metadata": {
    "papermill": {
     "duration": 0.004331,
     "end_time": "2025-02-18T14:00:51.908155",
     "exception": false,
     "start_time": "2025-02-18T14:00:51.903824",
     "status": "completed"
    },
    "tags": []
   },
   "source": [
    "# 3.\n",
    "\n",
    "The next iteration of Mario Kart will feature an extra-infuriating new item, the *Purple Shell*. When used, it warps the last place racer into first place and the first place racer into last place. Complete the function below to implement the Purple Shell's effect."
   ]
  },
  {
   "cell_type": "code",
   "execution_count": 6,
   "id": "e4d96338",
   "metadata": {
    "execution": {
     "iopub.execute_input": "2025-02-18T14:00:51.918483Z",
     "iopub.status.busy": "2025-02-18T14:00:51.918121Z",
     "iopub.status.idle": "2025-02-18T14:00:51.925509Z",
     "shell.execute_reply": "2025-02-18T14:00:51.924486Z"
    },
    "papermill": {
     "duration": 0.014358,
     "end_time": "2025-02-18T14:00:51.926951",
     "exception": false,
     "start_time": "2025-02-18T14:00:51.912593",
     "status": "completed"
    },
    "tags": []
   },
   "outputs": [
    {
     "data": {
      "application/javascript": [
       "parent.postMessage({\"jupyterEvent\": \"custom.exercise_interaction\", \"data\": {\"outcomeType\": 1, \"valueTowardsCompletion\": 0.2, \"interactionType\": 1, \"questionType\": 2, \"questionId\": \"3_PurpleShell\", \"learnToolsVersion\": \"0.3.4\", \"failureMessage\": \"\", \"exceptionClass\": \"\", \"trace\": \"\"}}, \"*\")"
      ],
      "text/plain": [
       "<IPython.core.display.Javascript object>"
      ]
     },
     "metadata": {},
     "output_type": "display_data"
    },
    {
     "data": {
      "text/markdown": [
       "<span style=\"color:#33cc33\">Correct</span>"
      ],
      "text/plain": [
       "Correct"
      ]
     },
     "metadata": {},
     "output_type": "display_data"
    }
   ],
   "source": [
    "def purple_shell(racers):\n",
    "    \"\"\"Given a list of racers, set the first place racer (at the front of the list) to last\n",
    "    place and vice versa.\n",
    "    \n",
    "    >>> r = [\"Mario\", \"Bowser\", \"Luigi\"]\n",
    "    >>> purple_shell(r)\n",
    "    >>> r\n",
    "    [\"Luigi\", \"Bowser\", \"Mario\"]\n",
    "    \"\"\"\n",
    "    pass\n",
    "    temp = racers[0]\n",
    "    racers[0] = racers[-1]\n",
    "    racers[-1] = temp\n",
    "\n",
    "# Check your answer\n",
    "q3.check()"
   ]
  },
  {
   "cell_type": "code",
   "execution_count": 7,
   "id": "b760a7ea",
   "metadata": {
    "execution": {
     "iopub.execute_input": "2025-02-18T14:00:51.936851Z",
     "iopub.status.busy": "2025-02-18T14:00:51.936569Z",
     "iopub.status.idle": "2025-02-18T14:00:51.939634Z",
     "shell.execute_reply": "2025-02-18T14:00:51.938879Z"
    },
    "papermill": {
     "duration": 0.009783,
     "end_time": "2025-02-18T14:00:51.941248",
     "exception": false,
     "start_time": "2025-02-18T14:00:51.931465",
     "status": "completed"
    },
    "tags": []
   },
   "outputs": [],
   "source": [
    "#q3.hint()\n",
    "#q3.solution()"
   ]
  },
  {
   "cell_type": "markdown",
   "id": "b59987c4",
   "metadata": {
    "papermill": {
     "duration": 0.004333,
     "end_time": "2025-02-18T14:00:51.950352",
     "exception": false,
     "start_time": "2025-02-18T14:00:51.946019",
     "status": "completed"
    },
    "tags": []
   },
   "source": [
    "# 4.\n",
    "\n",
    "What are the lengths of the following lists? Fill in the variable `lengths` with your predictions. (Try to make a prediction for each list *without* just calling `len()` on it.)"
   ]
  },
  {
   "cell_type": "code",
   "execution_count": 8,
   "id": "3a9503bc",
   "metadata": {
    "execution": {
     "iopub.execute_input": "2025-02-18T14:00:51.960856Z",
     "iopub.status.busy": "2025-02-18T14:00:51.960520Z",
     "iopub.status.idle": "2025-02-18T14:00:51.967864Z",
     "shell.execute_reply": "2025-02-18T14:00:51.967069Z"
    },
    "papermill": {
     "duration": 0.014186,
     "end_time": "2025-02-18T14:00:51.969388",
     "exception": false,
     "start_time": "2025-02-18T14:00:51.955202",
     "status": "completed"
    },
    "tags": []
   },
   "outputs": [
    {
     "data": {
      "application/javascript": [
       "parent.postMessage({\"jupyterEvent\": \"custom.exercise_interaction\", \"data\": {\"outcomeType\": 1, \"valueTowardsCompletion\": 0.2, \"interactionType\": 1, \"questionType\": 1, \"questionId\": \"4_UnderstandLen\", \"learnToolsVersion\": \"0.3.4\", \"failureMessage\": \"\", \"exceptionClass\": \"\", \"trace\": \"\"}}, \"*\")"
      ],
      "text/plain": [
       "<IPython.core.display.Javascript object>"
      ]
     },
     "metadata": {},
     "output_type": "display_data"
    },
    {
     "data": {
      "text/markdown": [
       "<span style=\"color:#33cc33\">Correct:</span> \n",
       "\n",
       "\n",
       "- a: There are three items in this list. Nothing tricky yet.\n",
       "- b: The list `[2, 3]` counts as a single item. It has one item before it. So we have 2 items in the list\n",
       "- c: The empty list has 0 items\n",
       "- d: The expression is the same as the list `[2, 3]`, which has length 2."
      ],
      "text/plain": [
       "Correct: \n",
       "\n",
       "\n",
       "- a: There are three items in this list. Nothing tricky yet.\n",
       "- b: The list `[2, 3]` counts as a single item. It has one item before it. So we have 2 items in the list\n",
       "- c: The empty list has 0 items\n",
       "- d: The expression is the same as the list `[2, 3]`, which has length 2."
      ]
     },
     "metadata": {},
     "output_type": "display_data"
    }
   ],
   "source": [
    "a = [1, 2, 3]\n",
    "b = [1, [2, 3]]\n",
    "c = []\n",
    "d = [1, 2, 3][1:]\n",
    "\n",
    "# Put your predictions in the list below. Lengths should contain 4 numbers, the\n",
    "# first being the length of a, the second being the length of b and so on.\n",
    "lengths = [3, 2, 0, 2]\n",
    "\n",
    "# Check your answer\n",
    "q4.check()"
   ]
  },
  {
   "cell_type": "code",
   "execution_count": 9,
   "id": "a0ff9b71",
   "metadata": {
    "execution": {
     "iopub.execute_input": "2025-02-18T14:00:51.980042Z",
     "iopub.status.busy": "2025-02-18T14:00:51.979708Z",
     "iopub.status.idle": "2025-02-18T14:00:51.983108Z",
     "shell.execute_reply": "2025-02-18T14:00:51.982236Z"
    },
    "papermill": {
     "duration": 0.010347,
     "end_time": "2025-02-18T14:00:51.984623",
     "exception": false,
     "start_time": "2025-02-18T14:00:51.974276",
     "status": "completed"
    },
    "tags": []
   },
   "outputs": [],
   "source": [
    "# line below provides some explanation\n",
    "#q4.solution()"
   ]
  },
  {
   "cell_type": "markdown",
   "id": "2f4d7c6b",
   "metadata": {
    "papermill": {
     "duration": 0.004353,
     "end_time": "2025-02-18T14:00:51.993679",
     "exception": false,
     "start_time": "2025-02-18T14:00:51.989326",
     "status": "completed"
    },
    "tags": []
   },
   "source": [
    "# 5. <span title=\"A bit spicy\" style=\"color: darkgreen \">🌶️</span>\n",
    "\n",
    "We're using lists to record people who attended our party and what order they arrived in. For example, the following list represents a party with 7 guests, in which Adela showed up first and Ford was the last to arrive:\n",
    "\n",
    "    party_attendees = ['Adela', 'Fleda', 'Owen', 'May', 'Mona', 'Gilbert', 'Ford']\n",
    "\n",
    "A guest is considered 'fashionably late' if they arrived after at least half of the party's guests. However, they must not be the very last guest (that's taking it too far). In the above example, Mona and Gilbert are the only guests who were fashionably late.\n",
    "\n",
    "Complete the function below which takes a list of party attendees as well as a person, and tells us whether that person is fashionably late."
   ]
  },
  {
   "cell_type": "code",
   "execution_count": 10,
   "id": "c15d21bf",
   "metadata": {
    "execution": {
     "iopub.execute_input": "2025-02-18T14:00:52.004054Z",
     "iopub.status.busy": "2025-02-18T14:00:52.003759Z",
     "iopub.status.idle": "2025-02-18T14:00:52.011083Z",
     "shell.execute_reply": "2025-02-18T14:00:52.010139Z"
    },
    "papermill": {
     "duration": 0.014227,
     "end_time": "2025-02-18T14:00:52.012478",
     "exception": false,
     "start_time": "2025-02-18T14:00:51.998251",
     "status": "completed"
    },
    "tags": []
   },
   "outputs": [
    {
     "data": {
      "application/javascript": [
       "parent.postMessage({\"jupyterEvent\": \"custom.exercise_interaction\", \"data\": {\"outcomeType\": 2, \"failureMessage\": \"Got a return value of `None` given `arrivals=['Adela', 'Fleda', 'Owen', 'May', 'Mona', 'Gilbert', 'Ford']`, `name='Adela'`, but expected a value of type `bool`. (Did you forget a `return` statement?)\", \"interactionType\": 1, \"questionType\": 2, \"questionId\": \"5_FashionablyLate\", \"learnToolsVersion\": \"0.3.4\", \"valueTowardsCompletion\": 0.0, \"exceptionClass\": \"\", \"trace\": \"\"}}, \"*\")"
      ],
      "text/plain": [
       "<IPython.core.display.Javascript object>"
      ]
     },
     "metadata": {},
     "output_type": "display_data"
    },
    {
     "data": {
      "text/markdown": [
       "<span style=\"color:#cc3333\">Incorrect:</span> Got a return value of `None` given `arrivals=['Adela', 'Fleda', 'Owen', 'May', 'Mona', 'Gilbert', 'Ford']`, `name='Adela'`, but expected a value of type `bool`. (Did you forget a `return` statement?)"
      ],
      "text/plain": [
       "Incorrect: Got a return value of `None` given `arrivals=['Adela', 'Fleda', 'Owen', 'May', 'Mona', 'Gilbert', 'Ford']`, `name='Adela'`, but expected a value of type `bool`. (Did you forget a `return` statement?)"
      ]
     },
     "metadata": {},
     "output_type": "display_data"
    }
   ],
   "source": [
    "def fashionably_late(arrivals, name):\n",
    "    \"\"\"Given an ordered list of arrivals to the party and a name, return whether the guest with that\n",
    "    name was fashionably late.\n",
    "    \"\"\"\n",
    "    pass\n",
    "    total_guests = len(arrivals)\n",
    "    person_index = arrivals.index(name)\n",
    "\n",
    "    \n",
    "\n",
    "# Check your answer\n",
    "q5.check()"
   ]
  },
  {
   "cell_type": "code",
   "execution_count": 11,
   "id": "0cb8d9b7",
   "metadata": {
    "execution": {
     "iopub.execute_input": "2025-02-18T14:00:52.023299Z",
     "iopub.status.busy": "2025-02-18T14:00:52.023067Z",
     "iopub.status.idle": "2025-02-18T14:00:52.029617Z",
     "shell.execute_reply": "2025-02-18T14:00:52.028662Z"
    },
    "papermill": {
     "duration": 0.013643,
     "end_time": "2025-02-18T14:00:52.031021",
     "exception": false,
     "start_time": "2025-02-18T14:00:52.017378",
     "status": "completed"
    },
    "tags": []
   },
   "outputs": [
    {
     "data": {
      "application/javascript": [
       "parent.postMessage({\"jupyterEvent\": \"custom.exercise_interaction\", \"data\": {\"interactionType\": 3, \"questionType\": 2, \"questionId\": \"5_FashionablyLate\", \"learnToolsVersion\": \"0.3.4\", \"valueTowardsCompletion\": 0.0, \"failureMessage\": \"\", \"exceptionClass\": \"\", \"trace\": \"\", \"outcomeType\": 4}}, \"*\")"
      ],
      "text/plain": [
       "<IPython.core.display.Javascript object>"
      ]
     },
     "metadata": {},
     "output_type": "display_data"
    },
    {
     "data": {
      "text/markdown": [
       "<span style=\"color:#33cc99\">Solution:</span> \n",
       "```python\n",
       "def fashionably_late(arrivals, name):\n",
       "    order = arrivals.index(name)\n",
       "    return order >= len(arrivals) / 2 and order != len(arrivals) - 1\n",
       "```"
      ],
      "text/plain": [
       "Solution: \n",
       "```python\n",
       "def fashionably_late(arrivals, name):\n",
       "    order = arrivals.index(name)\n",
       "    return order >= len(arrivals) / 2 and order != len(arrivals) - 1\n",
       "```"
      ]
     },
     "metadata": {},
     "output_type": "display_data"
    }
   ],
   "source": [
    "#q5.hint()\n",
    "q5.solution()"
   ]
  },
  {
   "cell_type": "markdown",
   "id": "83cee398",
   "metadata": {
    "papermill": {
     "duration": 0.006389,
     "end_time": "2025-02-18T14:00:52.042607",
     "exception": false,
     "start_time": "2025-02-18T14:00:52.036218",
     "status": "completed"
    },
    "tags": []
   },
   "source": [
    "# Keep Going\n",
    "\n",
    "That's it for lists and tuples! Now you have the baseline knowledge to **[learn about loops](https://www.kaggle.com/colinmorris/loops-and-list-comprehensions)**, which is where lists and tuples get really interesting. "
   ]
  },
  {
   "cell_type": "markdown",
   "id": "c2ea1b07",
   "metadata": {
    "papermill": {
     "duration": 0.005005,
     "end_time": "2025-02-18T14:00:52.052979",
     "exception": false,
     "start_time": "2025-02-18T14:00:52.047974",
     "status": "completed"
    },
    "tags": []
   },
   "source": [
    "---\n",
    "\n",
    "\n",
    "\n",
    "\n",
    "*Have questions or comments? Visit the [course discussion forum](https://www.kaggle.com/learn/python/discussion) to chat with other learners.*"
   ]
  }
 ],
 "metadata": {
  "kaggle": {
   "accelerator": "none",
   "dataSources": [],
   "isGpuEnabled": false,
   "isInternetEnabled": false,
   "language": "python",
   "sourceType": "notebook"
  },
  "kernelspec": {
   "display_name": "Python 3",
   "language": "python",
   "name": "python3"
  },
  "language_info": {
   "codemirror_mode": {
    "name": "ipython",
    "version": 3
   },
   "file_extension": ".py",
   "mimetype": "text/x-python",
   "name": "python",
   "nbconvert_exporter": "python",
   "pygments_lexer": "ipython3",
   "version": "3.10.12"
  },
  "learntools_metadata": {
   "lesson_index": 3,
   "type": "exercise"
  },
  "papermill": {
   "default_parameters": {},
   "duration": 5.042485,
   "end_time": "2025-02-18T14:00:52.577323",
   "environment_variables": {},
   "exception": null,
   "input_path": "__notebook__.ipynb",
   "output_path": "__notebook__.ipynb",
   "parameters": {},
   "start_time": "2025-02-18T14:00:47.534838",
   "version": "2.6.0"
  }
 },
 "nbformat": 4,
 "nbformat_minor": 5
}
