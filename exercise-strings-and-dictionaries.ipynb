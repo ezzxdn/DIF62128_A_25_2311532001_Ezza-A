{
 "cells": [
  {
   "cell_type": "markdown",
   "id": "1b7159e7",
   "metadata": {
    "papermill": {
     "duration": 0.004278,
     "end_time": "2025-02-19T14:25:46.951103",
     "exception": false,
     "start_time": "2025-02-19T14:25:46.946825",
     "status": "completed"
    },
    "tags": []
   },
   "source": [
    "**This notebook is an exercise in the [Python](https://www.kaggle.com/learn/python) course.  You can reference the tutorial at [this link](https://www.kaggle.com/colinmorris/strings-and-dictionaries).**\n",
    "\n",
    "---\n"
   ]
  },
  {
   "cell_type": "markdown",
   "id": "db607772",
   "metadata": {
    "papermill": {
     "duration": 0.002847,
     "end_time": "2025-02-19T14:25:46.957153",
     "exception": false,
     "start_time": "2025-02-19T14:25:46.954306",
     "status": "completed"
    },
    "tags": []
   },
   "source": [
    "You are almost done with the course. Nice job!\n",
    "\n",
    "We have a couple more interesting problems for you before you go. \n",
    "\n",
    "As always, run the setup code below before working on the questions."
   ]
  },
  {
   "cell_type": "code",
   "execution_count": 1,
   "id": "d7d9ff59",
   "metadata": {
    "execution": {
     "iopub.execute_input": "2025-02-19T14:25:46.964635Z",
     "iopub.status.busy": "2025-02-19T14:25:46.964240Z",
     "iopub.status.idle": "2025-02-19T14:25:48.253508Z",
     "shell.execute_reply": "2025-02-19T14:25:48.252693Z"
    },
    "papermill": {
     "duration": 1.294681,
     "end_time": "2025-02-19T14:25:48.254881",
     "exception": false,
     "start_time": "2025-02-19T14:25:46.960200",
     "status": "completed"
    },
    "tags": []
   },
   "outputs": [
    {
     "name": "stdout",
     "output_type": "stream",
     "text": [
      "Setup complete.\n"
     ]
    }
   ],
   "source": [
    "from learntools.core import binder; binder.bind(globals())\n",
    "from learntools.python.ex6 import *\n",
    "print('Setup complete.')"
   ]
  },
  {
   "cell_type": "markdown",
   "id": "e107c5b8",
   "metadata": {
    "papermill": {
     "duration": 0.0031,
     "end_time": "2025-02-19T14:25:48.261976",
     "exception": false,
     "start_time": "2025-02-19T14:25:48.258876",
     "status": "completed"
    },
    "tags": []
   },
   "source": [
    "Let's start with a string lightning round to warm up. What are the lengths of the strings below?\n",
    "\n",
    "For each of the five strings below, predict what `len()` would return when passed that string. Use the variable `length` to record your answer, then run the cell to check whether you were right.  \n",
    "\n",
    "# 0a."
   ]
  },
  {
   "cell_type": "code",
   "execution_count": 2,
   "id": "1442cb81",
   "metadata": {
    "execution": {
     "iopub.execute_input": "2025-02-19T14:25:48.269331Z",
     "iopub.status.busy": "2025-02-19T14:25:48.268894Z",
     "iopub.status.idle": "2025-02-19T14:25:48.276286Z",
     "shell.execute_reply": "2025-02-19T14:25:48.275095Z"
    },
    "papermill": {
     "duration": 0.01255,
     "end_time": "2025-02-19T14:25:48.277634",
     "exception": false,
     "start_time": "2025-02-19T14:25:48.265084",
     "status": "completed"
    },
    "tags": []
   },
   "outputs": [
    {
     "data": {
      "application/javascript": [
       "parent.postMessage({\"jupyterEvent\": \"custom.exercise_interaction\", \"data\": {\"outcomeType\": 1, \"valueTowardsCompletion\": 0.3333333333333333, \"interactionType\": 1, \"questionType\": 1, \"questionId\": \"0.1_ZA\", \"learnToolsVersion\": \"0.3.4\", \"failureMessage\": \"\", \"exceptionClass\": \"\", \"trace\": \"\"}}, \"*\")"
      ],
      "text/plain": [
       "<IPython.core.display.Javascript object>"
      ]
     },
     "metadata": {},
     "output_type": "display_data"
    },
    {
     "data": {
      "text/markdown": [
       "<span style=\"color:#33cc33\">Correct:</span> \n",
       "\n",
       "The empty string has length zero. Note that the empty string is also the only string that Python considers as False when converting to boolean."
      ],
      "text/plain": [
       "Correct: \n",
       "\n",
       "The empty string has length zero. Note that the empty string is also the only string that Python considers as False when converting to boolean."
      ]
     },
     "metadata": {},
     "output_type": "display_data"
    }
   ],
   "source": [
    "a = \"\"\n",
    "length = 0\n",
    "q0.a.check()"
   ]
  },
  {
   "cell_type": "markdown",
   "id": "436dc088",
   "metadata": {
    "papermill": {
     "duration": 0.00301,
     "end_time": "2025-02-19T14:25:48.284445",
     "exception": false,
     "start_time": "2025-02-19T14:25:48.281435",
     "status": "completed"
    },
    "tags": []
   },
   "source": [
    "# 0b."
   ]
  },
  {
   "cell_type": "code",
   "execution_count": 3,
   "id": "5971d4f9",
   "metadata": {
    "execution": {
     "iopub.execute_input": "2025-02-19T14:25:48.292414Z",
     "iopub.status.busy": "2025-02-19T14:25:48.291982Z",
     "iopub.status.idle": "2025-02-19T14:25:48.298727Z",
     "shell.execute_reply": "2025-02-19T14:25:48.297982Z"
    },
    "papermill": {
     "duration": 0.012418,
     "end_time": "2025-02-19T14:25:48.300104",
     "exception": false,
     "start_time": "2025-02-19T14:25:48.287686",
     "status": "completed"
    },
    "tags": []
   },
   "outputs": [
    {
     "data": {
      "application/javascript": [
       "parent.postMessage({\"jupyterEvent\": \"custom.exercise_interaction\", \"data\": {\"outcomeType\": 1, \"valueTowardsCompletion\": 0.3333333333333333, \"interactionType\": 1, \"questionType\": 1, \"questionId\": \"0.2_ZB\", \"learnToolsVersion\": \"0.3.4\", \"failureMessage\": \"\", \"exceptionClass\": \"\", \"trace\": \"\"}}, \"*\")"
      ],
      "text/plain": [
       "<IPython.core.display.Javascript object>"
      ]
     },
     "metadata": {},
     "output_type": "display_data"
    },
    {
     "data": {
      "text/markdown": [
       "<span style=\"color:#33cc33\">Correct:</span> \n",
       "\n",
       "Keep in mind Python includes spaces (and punctuation) when counting string length."
      ],
      "text/plain": [
       "Correct: \n",
       "\n",
       "Keep in mind Python includes spaces (and punctuation) when counting string length."
      ]
     },
     "metadata": {},
     "output_type": "display_data"
    }
   ],
   "source": [
    "b = \"it's ok\"\n",
    "length = 7\n",
    "q0.b.check()"
   ]
  },
  {
   "cell_type": "markdown",
   "id": "7681b909",
   "metadata": {
    "papermill": {
     "duration": 0.003252,
     "end_time": "2025-02-19T14:25:48.307322",
     "exception": false,
     "start_time": "2025-02-19T14:25:48.304070",
     "status": "completed"
    },
    "tags": []
   },
   "source": [
    "# 0c."
   ]
  },
  {
   "cell_type": "code",
   "execution_count": 4,
   "id": "9387263b",
   "metadata": {
    "execution": {
     "iopub.execute_input": "2025-02-19T14:25:48.315482Z",
     "iopub.status.busy": "2025-02-19T14:25:48.315149Z",
     "iopub.status.idle": "2025-02-19T14:25:48.321301Z",
     "shell.execute_reply": "2025-02-19T14:25:48.320015Z"
    },
    "papermill": {
     "duration": 0.012616,
     "end_time": "2025-02-19T14:25:48.323492",
     "exception": false,
     "start_time": "2025-02-19T14:25:48.310876",
     "status": "completed"
    },
    "tags": []
   },
   "outputs": [
    {
     "data": {
      "application/javascript": [
       "parent.postMessage({\"jupyterEvent\": \"custom.exercise_interaction\", \"data\": {\"outcomeType\": 1, \"valueTowardsCompletion\": 0.3333333333333333, \"interactionType\": 1, \"questionType\": 1, \"questionId\": \"0.3_ZC\", \"learnToolsVersion\": \"0.3.4\", \"failureMessage\": \"\", \"exceptionClass\": \"\", \"trace\": \"\"}}, \"*\")"
      ],
      "text/plain": [
       "<IPython.core.display.Javascript object>"
      ]
     },
     "metadata": {},
     "output_type": "display_data"
    },
    {
     "data": {
      "text/markdown": [
       "<span style=\"color:#33cc33\">Correct:</span> \n",
       "\n",
       "Even though we use different syntax to create it, the string `c` is identical to `b`. In particular, note that the backslash is not part of the string, so it doesn't contribute to its length."
      ],
      "text/plain": [
       "Correct: \n",
       "\n",
       "Even though we use different syntax to create it, the string `c` is identical to `b`. In particular, note that the backslash is not part of the string, so it doesn't contribute to its length."
      ]
     },
     "metadata": {},
     "output_type": "display_data"
    }
   ],
   "source": [
    "c = 'it\\'s ok'\n",
    "length = 7\n",
    "q0.c.check()"
   ]
  },
  {
   "cell_type": "markdown",
   "id": "c992ea19",
   "metadata": {
    "papermill": {
     "duration": 0.003644,
     "end_time": "2025-02-19T14:25:48.331627",
     "exception": false,
     "start_time": "2025-02-19T14:25:48.327983",
     "status": "completed"
    },
    "tags": []
   },
   "source": [
    "# 0d."
   ]
  },
  {
   "cell_type": "code",
   "execution_count": 5,
   "id": "e29e36b0",
   "metadata": {
    "execution": {
     "iopub.execute_input": "2025-02-19T14:25:48.341229Z",
     "iopub.status.busy": "2025-02-19T14:25:48.340801Z",
     "iopub.status.idle": "2025-02-19T14:25:48.347227Z",
     "shell.execute_reply": "2025-02-19T14:25:48.346038Z"
    },
    "papermill": {
     "duration": 0.013653,
     "end_time": "2025-02-19T14:25:48.349014",
     "exception": false,
     "start_time": "2025-02-19T14:25:48.335361",
     "status": "completed"
    },
    "tags": []
   },
   "outputs": [
    {
     "data": {
      "application/javascript": [
       "parent.postMessage({\"jupyterEvent\": \"custom.exercise_interaction\", \"data\": {\"outcomeType\": 1, \"valueTowardsCompletion\": 0.3333333333333333, \"interactionType\": 1, \"questionType\": 1, \"questionId\": \"0.4_ZD\", \"learnToolsVersion\": \"0.3.4\", \"failureMessage\": \"\", \"exceptionClass\": \"\", \"trace\": \"\"}}, \"*\")"
      ],
      "text/plain": [
       "<IPython.core.display.Javascript object>"
      ]
     },
     "metadata": {},
     "output_type": "display_data"
    },
    {
     "data": {
      "text/markdown": [
       "<span style=\"color:#33cc33\">Correct:</span> \n",
       "\n",
       "The fact that this string was created using triple-quote syntax doesn't make any difference in terms of its content or length. This string is exactly the same as `'hey'`."
      ],
      "text/plain": [
       "Correct: \n",
       "\n",
       "The fact that this string was created using triple-quote syntax doesn't make any difference in terms of its content or length. This string is exactly the same as `'hey'`."
      ]
     },
     "metadata": {},
     "output_type": "display_data"
    }
   ],
   "source": [
    "d = \"\"\"hey\"\"\"\n",
    "length = 3\n",
    "q0.d.check()"
   ]
  },
  {
   "cell_type": "markdown",
   "id": "c5fecf0b",
   "metadata": {
    "papermill": {
     "duration": 0.003721,
     "end_time": "2025-02-19T14:25:48.357365",
     "exception": false,
     "start_time": "2025-02-19T14:25:48.353644",
     "status": "completed"
    },
    "tags": []
   },
   "source": [
    "# 0e."
   ]
  },
  {
   "cell_type": "code",
   "execution_count": 6,
   "id": "f87ce0cd",
   "metadata": {
    "execution": {
     "iopub.execute_input": "2025-02-19T14:25:48.366134Z",
     "iopub.status.busy": "2025-02-19T14:25:48.365809Z",
     "iopub.status.idle": "2025-02-19T14:25:48.373004Z",
     "shell.execute_reply": "2025-02-19T14:25:48.371806Z"
    },
    "papermill": {
     "duration": 0.013484,
     "end_time": "2025-02-19T14:25:48.374665",
     "exception": false,
     "start_time": "2025-02-19T14:25:48.361181",
     "status": "completed"
    },
    "tags": []
   },
   "outputs": [
    {
     "data": {
      "application/javascript": [
       "parent.postMessage({\"jupyterEvent\": \"custom.exercise_interaction\", \"data\": {\"outcomeType\": 1, \"valueTowardsCompletion\": 0.3333333333333333, \"interactionType\": 1, \"questionType\": 1, \"questionId\": \"0.5_ZE\", \"learnToolsVersion\": \"0.3.4\", \"failureMessage\": \"\", \"exceptionClass\": \"\", \"trace\": \"\"}}, \"*\")"
      ],
      "text/plain": [
       "<IPython.core.display.Javascript object>"
      ]
     },
     "metadata": {},
     "output_type": "display_data"
    },
    {
     "data": {
      "text/markdown": [
       "<span style=\"color:#33cc33\">Correct:</span> \n",
       "\n",
       "The newline character is just a single character! (Even though we represent it to Python using a combination of two characters.)"
      ],
      "text/plain": [
       "Correct: \n",
       "\n",
       "The newline character is just a single character! (Even though we represent it to Python using a combination of two characters.)"
      ]
     },
     "metadata": {},
     "output_type": "display_data"
    }
   ],
   "source": [
    "e = '\\n'\n",
    "length = 1\n",
    "q0.e.check()"
   ]
  },
  {
   "cell_type": "markdown",
   "id": "3567f691",
   "metadata": {
    "papermill": {
     "duration": 0.003783,
     "end_time": "2025-02-19T14:25:48.382998",
     "exception": false,
     "start_time": "2025-02-19T14:25:48.379215",
     "status": "completed"
    },
    "tags": []
   },
   "source": [
    "# 1.\n",
    "\n",
    "There is a saying that \"Data scientists spend 80% of their time cleaning data, and 20% of their time complaining about cleaning data.\" Let's see if you can write a function to help clean US zip code data. Given a string, it should return whether or not that string represents a valid zip code. For our purposes, a valid zip code is any string consisting of exactly 5 digits.\n",
    "\n",
    "HINT: `str` has a method that will be useful here. Use `help(str)` to review a list of string methods."
   ]
  },
  {
   "cell_type": "code",
   "execution_count": 7,
   "id": "3d4929a8",
   "metadata": {
    "execution": {
     "iopub.execute_input": "2025-02-19T14:25:48.391857Z",
     "iopub.status.busy": "2025-02-19T14:25:48.391571Z",
     "iopub.status.idle": "2025-02-19T14:25:48.398618Z",
     "shell.execute_reply": "2025-02-19T14:25:48.397463Z"
    },
    "papermill": {
     "duration": 0.01352,
     "end_time": "2025-02-19T14:25:48.400385",
     "exception": false,
     "start_time": "2025-02-19T14:25:48.386865",
     "status": "completed"
    },
    "tags": []
   },
   "outputs": [
    {
     "data": {
      "application/javascript": [
       "parent.postMessage({\"jupyterEvent\": \"custom.exercise_interaction\", \"data\": {\"outcomeType\": 1, \"valueTowardsCompletion\": 0.3333333333333333, \"interactionType\": 1, \"questionType\": 2, \"questionId\": \"1_ZipValidator\", \"learnToolsVersion\": \"0.3.4\", \"failureMessage\": \"\", \"exceptionClass\": \"\", \"trace\": \"\"}}, \"*\")"
      ],
      "text/plain": [
       "<IPython.core.display.Javascript object>"
      ]
     },
     "metadata": {},
     "output_type": "display_data"
    },
    {
     "data": {
      "text/markdown": [
       "<span style=\"color:#33cc33\">Correct</span>"
      ],
      "text/plain": [
       "Correct"
      ]
     },
     "metadata": {},
     "output_type": "display_data"
    }
   ],
   "source": [
    "def is_valid_zip(zip_code):\n",
    "    return len(zip_code) == 5 and zip_code.isdigit()\n",
    "    \"\"\"Returns whether the input string is a valid (5 digit) zip code\n",
    "    \"\"\"\n",
    "    pass\n",
    "\n",
    "# Check your answer\n",
    "q1.check()"
   ]
  },
  {
   "cell_type": "code",
   "execution_count": 8,
   "id": "f9e6d34a",
   "metadata": {
    "execution": {
     "iopub.execute_input": "2025-02-19T14:25:48.410404Z",
     "iopub.status.busy": "2025-02-19T14:25:48.410081Z",
     "iopub.status.idle": "2025-02-19T14:25:48.413948Z",
     "shell.execute_reply": "2025-02-19T14:25:48.412780Z"
    },
    "papermill": {
     "duration": 0.010742,
     "end_time": "2025-02-19T14:25:48.415824",
     "exception": false,
     "start_time": "2025-02-19T14:25:48.405082",
     "status": "completed"
    },
    "tags": []
   },
   "outputs": [],
   "source": [
    "#q1.hint()\n",
    "#q1.solution()"
   ]
  },
  {
   "cell_type": "markdown",
   "id": "caf859f9",
   "metadata": {
    "papermill": {
     "duration": 0.004167,
     "end_time": "2025-02-19T14:25:48.425395",
     "exception": false,
     "start_time": "2025-02-19T14:25:48.421228",
     "status": "completed"
    },
    "tags": []
   },
   "source": [
    "# 2.\n",
    "\n",
    "A researcher has gathered thousands of news articles. But she wants to focus her attention on articles including a specific word. Complete the function below to help her filter her list of articles.\n",
    "\n",
    "Your function should meet the following criteria:\n",
    "\n",
    "- Do not include documents where the keyword string shows up only as a part of a larger word. For example, if she were looking for the keyword “closed”, you would not include the string “enclosed.” \n",
    "- She does not want you to distinguish upper case from lower case letters. So the phrase “Closed the case.” would be included when the keyword is “closed”\n",
    "- Do not let periods or commas affect what is matched. “It is closed.” would be included when the keyword is “closed”. But you can assume there are no other types of punctuation."
   ]
  },
  {
   "cell_type": "code",
   "execution_count": 9,
   "id": "108e1473",
   "metadata": {
    "execution": {
     "iopub.execute_input": "2025-02-19T14:25:48.435063Z",
     "iopub.status.busy": "2025-02-19T14:25:48.434787Z",
     "iopub.status.idle": "2025-02-19T14:25:48.442488Z",
     "shell.execute_reply": "2025-02-19T14:25:48.441294Z"
    },
    "papermill": {
     "duration": 0.014346,
     "end_time": "2025-02-19T14:25:48.443880",
     "exception": false,
     "start_time": "2025-02-19T14:25:48.429534",
     "status": "completed"
    },
    "tags": []
   },
   "outputs": [
    {
     "data": {
      "application/javascript": [
       "parent.postMessage({\"jupyterEvent\": \"custom.exercise_interaction\", \"data\": {\"outcomeType\": 1, \"valueTowardsCompletion\": 0.3333333333333333, \"interactionType\": 1, \"questionType\": 2, \"questionId\": \"2_WordSearch\", \"learnToolsVersion\": \"0.3.4\", \"failureMessage\": \"\", \"exceptionClass\": \"\", \"trace\": \"\"}}, \"*\")"
      ],
      "text/plain": [
       "<IPython.core.display.Javascript object>"
      ]
     },
     "metadata": {},
     "output_type": "display_data"
    },
    {
     "data": {
      "text/markdown": [
       "<span style=\"color:#33cc33\">Correct</span>"
      ],
      "text/plain": [
       "Correct"
      ]
     },
     "metadata": {},
     "output_type": "display_data"
    }
   ],
   "source": [
    "def word_search(doc_list, keyword):\n",
    "    # list to hold the indices of matching documents\n",
    "    indices = [] \n",
    "    # Iterate through the indices (i) and elements (doc) of documents\n",
    "    for i, doc in enumerate(doc_list):\n",
    "        # Split the string doc into a list of words (according to whitespace)\n",
    "        tokens = doc.split()\n",
    "        # Make a transformed list where we 'normalize' each word to facilitate matching.\n",
    "        # Periods and commas are removed from the end of each word, and it's set to all lowercase.\n",
    "        normalized = [token.rstrip('.,').lower() for token in tokens]\n",
    "        # Is there a match? If so, update the list of matching indices.\n",
    "        if keyword.lower() in normalized:\n",
    "            indices.append(i)\n",
    "    return indices\n",
    "\n",
    "    \"\"\"\n",
    "    Takes a list of documents (each document is a string) and a keyword. \n",
    "    Returns list of the index values into the original list for all documents \n",
    "    containing the keyword.\n",
    "\n",
    "    Example:\n",
    "    doc_list = [\"The Learn Python Challenge Casino.\", \"They bought a car\", \"Casinoville\"]\n",
    "    >>> word_search(doc_list, 'casino')\n",
    "    >>> [0]\n",
    "    \"\"\"\n",
    "    pass\n",
    "\n",
    "# Check your answer\n",
    "q2.check()"
   ]
  },
  {
   "cell_type": "code",
   "execution_count": 10,
   "id": "d0b4cbc9",
   "metadata": {
    "execution": {
     "iopub.execute_input": "2025-02-19T14:25:48.453897Z",
     "iopub.status.busy": "2025-02-19T14:25:48.453623Z",
     "iopub.status.idle": "2025-02-19T14:25:48.457049Z",
     "shell.execute_reply": "2025-02-19T14:25:48.456171Z"
    },
    "papermill": {
     "duration": 0.009607,
     "end_time": "2025-02-19T14:25:48.458311",
     "exception": false,
     "start_time": "2025-02-19T14:25:48.448704",
     "status": "completed"
    },
    "tags": []
   },
   "outputs": [],
   "source": [
    "#q2.hint()\n",
    "#q2.solution()"
   ]
  },
  {
   "cell_type": "markdown",
   "id": "ac36341e",
   "metadata": {
    "papermill": {
     "duration": 0.004133,
     "end_time": "2025-02-19T14:25:48.467204",
     "exception": false,
     "start_time": "2025-02-19T14:25:48.463071",
     "status": "completed"
    },
    "tags": []
   },
   "source": [
    "# 3.\n",
    "\n",
    "Now the researcher wants to supply multiple keywords to search for. Complete the function below to help her.\n",
    "\n",
    "(You're encouraged to use the `word_search` function you just wrote when implementing this function. Reusing code in this way makes your programs more robust and readable - and it saves typing!)"
   ]
  },
  {
   "cell_type": "code",
   "execution_count": 11,
   "id": "ea687788",
   "metadata": {
    "execution": {
     "iopub.execute_input": "2025-02-19T14:25:48.476687Z",
     "iopub.status.busy": "2025-02-19T14:25:48.476398Z",
     "iopub.status.idle": "2025-02-19T14:25:48.483012Z",
     "shell.execute_reply": "2025-02-19T14:25:48.482251Z"
    },
    "papermill": {
     "duration": 0.012746,
     "end_time": "2025-02-19T14:25:48.484189",
     "exception": false,
     "start_time": "2025-02-19T14:25:48.471443",
     "status": "completed"
    },
    "tags": []
   },
   "outputs": [
    {
     "data": {
      "application/javascript": [
       "parent.postMessage({\"jupyterEvent\": \"custom.exercise_interaction\", \"data\": {\"outcomeType\": 1, \"valueTowardsCompletion\": 0.3333333333333333, \"interactionType\": 1, \"questionType\": 2, \"questionId\": \"3_MultiWordSearch\", \"learnToolsVersion\": \"0.3.4\", \"failureMessage\": \"\", \"exceptionClass\": \"\", \"trace\": \"\"}}, \"*\")"
      ],
      "text/plain": [
       "<IPython.core.display.Javascript object>"
      ]
     },
     "metadata": {},
     "output_type": "display_data"
    },
    {
     "data": {
      "text/markdown": [
       "<span style=\"color:#33cc33\">Correct</span>"
      ],
      "text/plain": [
       "Correct"
      ]
     },
     "metadata": {},
     "output_type": "display_data"
    }
   ],
   "source": [
    "def multi_word_search(documents, keywords):\n",
    "    keyword_to_indices = {}\n",
    "    for keyword in keywords:\n",
    "        keyword_to_indices[keyword] = word_search(documents, keyword)\n",
    "    return keyword_to_indices\n",
    "    \"\"\"\n",
    "    Takes list of documents (each document is a string) and a list of keywords.  \n",
    "    Returns a dictionary where each key is a keyword, and the value is a list of indices\n",
    "    (from doc_list) of the documents containing that keyword\n",
    "\n",
    "    >>> doc_list = [\"The Learn Python Challenge Casino.\", \"They bought a car and a casino\", \"Casinoville\"]\n",
    "    >>> keywords = ['casino', 'they']\n",
    "    >>> multi_word_search(doc_list, keywords)\n",
    "    {'casino': [0, 1], 'they': [1]}\n",
    "    \"\"\"\n",
    "    pass\n",
    "\n",
    "# Check your answer\n",
    "q3.check()"
   ]
  },
  {
   "cell_type": "code",
   "execution_count": 12,
   "id": "306705b8",
   "metadata": {
    "execution": {
     "iopub.execute_input": "2025-02-19T14:25:48.494562Z",
     "iopub.status.busy": "2025-02-19T14:25:48.494243Z",
     "iopub.status.idle": "2025-02-19T14:25:48.497962Z",
     "shell.execute_reply": "2025-02-19T14:25:48.496966Z"
    },
    "papermill": {
     "duration": 0.010554,
     "end_time": "2025-02-19T14:25:48.499531",
     "exception": false,
     "start_time": "2025-02-19T14:25:48.488977",
     "status": "completed"
    },
    "tags": []
   },
   "outputs": [],
   "source": [
    "#q3.solution()"
   ]
  },
  {
   "cell_type": "markdown",
   "id": "c7422dcb",
   "metadata": {
    "papermill": {
     "duration": 0.004122,
     "end_time": "2025-02-19T14:25:48.508537",
     "exception": false,
     "start_time": "2025-02-19T14:25:48.504415",
     "status": "completed"
    },
    "tags": []
   },
   "source": [
    "# Keep Going\n",
    "\n",
    "You've learned a lot. But even the best programmers rely heavily on \"libraries\" of code from other programmers. You'll learn about that in **[the last lesson](https://www.kaggle.com/colinmorris/working-with-external-libraries)**.\n"
   ]
  },
  {
   "cell_type": "markdown",
   "id": "6e1aa02c",
   "metadata": {
    "papermill": {
     "duration": 0.004096,
     "end_time": "2025-02-19T14:25:48.516891",
     "exception": false,
     "start_time": "2025-02-19T14:25:48.512795",
     "status": "completed"
    },
    "tags": []
   },
   "source": [
    "---\n",
    "\n",
    "\n",
    "\n",
    "\n",
    "*Have questions or comments? Visit the [course discussion forum](https://www.kaggle.com/learn/python/discussion) to chat with other learners.*"
   ]
  }
 ],
 "metadata": {
  "kaggle": {
   "accelerator": "none",
   "dataSources": [],
   "isGpuEnabled": false,
   "isInternetEnabled": false,
   "language": "python",
   "sourceType": "notebook"
  },
  "kernelspec": {
   "display_name": "Python 3",
   "language": "python",
   "name": "python3"
  },
  "language_info": {
   "codemirror_mode": {
    "name": "ipython",
    "version": 3
   },
   "file_extension": ".py",
   "mimetype": "text/x-python",
   "name": "python",
   "nbconvert_exporter": "python",
   "pygments_lexer": "ipython3",
   "version": "3.10.12"
  },
  "learntools_metadata": {
   "lesson_index": 5,
   "type": "exercise"
  },
  "papermill": {
   "default_parameters": {},
   "duration": 4.503115,
   "end_time": "2025-02-19T14:25:49.041142",
   "environment_variables": {},
   "exception": null,
   "input_path": "__notebook__.ipynb",
   "output_path": "__notebook__.ipynb",
   "parameters": {},
   "start_time": "2025-02-19T14:25:44.538027",
   "version": "2.6.0"
  }
 },
 "nbformat": 4,
 "nbformat_minor": 5
}
