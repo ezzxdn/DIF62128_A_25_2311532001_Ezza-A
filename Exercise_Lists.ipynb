{
  "metadata": {
    "kernelspec": {
      "display_name": "Python 3",
      "language": "python",
      "name": "python3"
    },
    "language_info": {
      "name": "python",
      "version": "3.10.12",
      "mimetype": "text/x-python",
      "codemirror_mode": {
        "name": "ipython",
        "version": 3
      },
      "pygments_lexer": "ipython3",
      "nbconvert_exporter": "python",
      "file_extension": ".py"
    },
    "learntools_metadata": {
      "lesson_index": 3,
      "type": "exercise"
    },
    "kaggle": {
      "accelerator": "none",
      "dataSources": [],
      "isInternetEnabled": false,
      "language": "python",
      "sourceType": "notebook",
      "isGpuEnabled": false
    },
    "colab": {
      "name": "Exercise: Lists",
      "provenance": []
    }
  },
  "nbformat_minor": 0,
  "nbformat": 4,
  "cells": [
    {
      "cell_type": "markdown",
      "source": [
        "**This notebook is an exercise in the [Python](https://www.kaggle.com/learn/python) course.  You can reference the tutorial at [this link](https://www.kaggle.com/colinmorris/lists).**\n",
        "\n",
        "---\n"
      ],
      "metadata": {
        "id": "xOqoxwOFjVzd"
      }
    },
    {
      "cell_type": "markdown",
      "source": [
        "Things get more interesting with lists. You'll apply your new knowledge to solve the questions below. Remember to run the following cell first."
      ],
      "metadata": {
        "id": "hjW6Vv4njVzg"
      }
    },
    {
      "cell_type": "code",
      "source": [
        "from learntools.core import binder; binder.bind(globals())\n",
        "from learntools.python.ex4 import *\n",
        "print('Setup complete.')"
      ],
      "metadata": {
        "trusted": true,
        "execution": {
          "iopub.status.busy": "2025-02-18T12:18:31.112547Z",
          "iopub.execute_input": "2025-02-18T12:18:31.112854Z",
          "iopub.status.idle": "2025-02-18T12:18:31.558267Z",
          "shell.execute_reply.started": "2025-02-18T12:18:31.112828Z",
          "shell.execute_reply": "2025-02-18T12:18:31.55688Z"
        },
        "id": "YSw0qadqjVzg"
      },
      "outputs": [],
      "execution_count": null
    },
    {
      "cell_type": "markdown",
      "source": [
        "# 1.\n",
        "\n",
        "Complete the function below according to its docstring."
      ],
      "metadata": {
        "id": "Lrso3Rj_jVzh"
      }
    },
    {
      "cell_type": "code",
      "source": [
        "def select_second(L):\n",
        "    \"\"\"Return the second element of the given list. If the list has no second\n",
        "    element, return None.\n",
        "    \"\"\"\n",
        "    pass\n",
        "    if len(L) < 2:\n",
        "        return None\n",
        "    return L[1]\n",
        "\n",
        "# Check your answer\n",
        "q1.check()"
      ],
      "metadata": {
        "trusted": true,
        "execution": {
          "iopub.status.busy": "2025-02-18T12:22:35.930379Z",
          "iopub.execute_input": "2025-02-18T12:22:35.930674Z",
          "iopub.status.idle": "2025-02-18T12:22:35.938355Z",
          "shell.execute_reply.started": "2025-02-18T12:22:35.930652Z",
          "shell.execute_reply": "2025-02-18T12:22:35.93745Z"
        },
        "id": "wZXGJRfvjVzi"
      },
      "outputs": [],
      "execution_count": null
    },
    {
      "cell_type": "code",
      "source": [
        "#q1.hint()\n",
        "#q1.solution()"
      ],
      "metadata": {
        "trusted": true,
        "execution": {
          "iopub.status.busy": "2025-02-18T12:22:44.316501Z",
          "iopub.execute_input": "2025-02-18T12:22:44.31681Z",
          "iopub.status.idle": "2025-02-18T12:22:44.320721Z",
          "shell.execute_reply.started": "2025-02-18T12:22:44.316786Z",
          "shell.execute_reply": "2025-02-18T12:22:44.319579Z"
        },
        "id": "yI_USt09jVzi"
      },
      "outputs": [],
      "execution_count": null
    },
    {
      "cell_type": "markdown",
      "source": [
        "# 2.\n",
        "\n",
        "You are analyzing sports teams.  Members of each team are stored in a list. The Coach is the first name in the list, the captain is the second name in the list, and other players are listed after that.\n",
        "These lists are stored in another list, which starts with the best team and proceeds through the list to the worst team last.  Complete the function below to select the **captain** of the worst team."
      ],
      "metadata": {
        "id": "QWzf8-7tjVzl"
      }
    },
    {
      "cell_type": "code",
      "source": [
        "def losing_team_captain(teams):\n",
        "    \"\"\"Given a list of teams, where each team is a list of names, return the 2nd player (captain)\n",
        "    from the last listed team\n",
        "    \"\"\"\n",
        "    pass\n",
        "    return teams[-1][1]\n",
        "\n",
        "# Check your answer\n",
        "q2.check()"
      ],
      "metadata": {
        "trusted": true,
        "execution": {
          "iopub.status.busy": "2025-02-18T12:27:12.448707Z",
          "iopub.execute_input": "2025-02-18T12:27:12.449066Z",
          "iopub.status.idle": "2025-02-18T12:27:12.457419Z",
          "shell.execute_reply.started": "2025-02-18T12:27:12.449039Z",
          "shell.execute_reply": "2025-02-18T12:27:12.456316Z"
        },
        "id": "YisfaNrJjVzm"
      },
      "outputs": [],
      "execution_count": null
    },
    {
      "cell_type": "code",
      "source": [
        "q2.hint()\n",
        "q2.solution()"
      ],
      "metadata": {
        "trusted": true,
        "execution": {
          "iopub.status.busy": "2025-02-18T12:26:53.700128Z",
          "iopub.execute_input": "2025-02-18T12:26:53.700494Z",
          "iopub.status.idle": "2025-02-18T12:26:53.711723Z",
          "shell.execute_reply.started": "2025-02-18T12:26:53.700464Z",
          "shell.execute_reply": "2025-02-18T12:26:53.710707Z"
        },
        "id": "ib53quQwjVzn"
      },
      "outputs": [],
      "execution_count": null
    },
    {
      "cell_type": "markdown",
      "source": [
        "# 3.\n",
        "\n",
        "The next iteration of Mario Kart will feature an extra-infuriating new item, the *Purple Shell*. When used, it warps the last place racer into first place and the first place racer into last place. Complete the function below to implement the Purple Shell's effect."
      ],
      "metadata": {
        "id": "tmV409UZjVzn"
      }
    },
    {
      "cell_type": "code",
      "source": [
        "def purple_shell(racers):\n",
        "    \"\"\"Given a list of racers, set the first place racer (at the front of the list) to last\n",
        "    place and vice versa.\n",
        "\n",
        "    >>> r = [\"Mario\", \"Bowser\", \"Luigi\"]\n",
        "    >>> purple_shell(r)\n",
        "    >>> r\n",
        "    [\"Luigi\", \"Bowser\", \"Mario\"]\n",
        "    \"\"\"\n",
        "    pass\n",
        "    temp = racers[0]\n",
        "    racers[0] = racers[-1]\n",
        "    racers[-1] = temp\n",
        "\n",
        "# Check your answer\n",
        "q3.check()"
      ],
      "metadata": {
        "trusted": true,
        "execution": {
          "iopub.status.busy": "2025-02-18T12:32:09.254962Z",
          "iopub.execute_input": "2025-02-18T12:32:09.255367Z",
          "iopub.status.idle": "2025-02-18T12:32:09.263142Z",
          "shell.execute_reply.started": "2025-02-18T12:32:09.255339Z",
          "shell.execute_reply": "2025-02-18T12:32:09.262241Z"
        },
        "id": "M5BBK8oHjVzn"
      },
      "outputs": [],
      "execution_count": null
    },
    {
      "cell_type": "code",
      "source": [
        "#q3.hint()\n",
        "#q3.solution()"
      ],
      "metadata": {
        "trusted": true,
        "execution": {
          "iopub.status.busy": "2025-02-18T12:32:17.956847Z",
          "iopub.execute_input": "2025-02-18T12:32:17.957246Z",
          "iopub.status.idle": "2025-02-18T12:32:17.960895Z",
          "shell.execute_reply.started": "2025-02-18T12:32:17.957216Z",
          "shell.execute_reply": "2025-02-18T12:32:17.959758Z"
        },
        "id": "7gfKLOZqjVzo"
      },
      "outputs": [],
      "execution_count": null
    },
    {
      "cell_type": "markdown",
      "source": [
        "# 4.\n",
        "\n",
        "What are the lengths of the following lists? Fill in the variable `lengths` with your predictions. (Try to make a prediction for each list *without* just calling `len()` on it.)"
      ],
      "metadata": {
        "id": "ZwdN6_DwjVzo"
      }
    },
    {
      "cell_type": "code",
      "source": [
        "a = [1, 2, 3]\n",
        "b = [1, [2, 3]]\n",
        "c = []\n",
        "d = [1, 2, 3][1:]\n",
        "\n",
        "# Put your predictions in the list below. Lengths should contain 4 numbers, the\n",
        "# first being the length of a, the second being the length of b and so on.\n",
        "lengths = [3, 2, 0, 2]\n",
        "\n",
        "# Check your answer\n",
        "q4.check()"
      ],
      "metadata": {
        "trusted": true,
        "execution": {
          "iopub.status.busy": "2025-02-18T12:38:55.769522Z",
          "iopub.execute_input": "2025-02-18T12:38:55.769823Z",
          "iopub.status.idle": "2025-02-18T12:38:55.77777Z",
          "shell.execute_reply.started": "2025-02-18T12:38:55.769801Z",
          "shell.execute_reply": "2025-02-18T12:38:55.776585Z"
        },
        "id": "9a-qexkejVzo"
      },
      "outputs": [],
      "execution_count": null
    },
    {
      "cell_type": "code",
      "source": [
        "# line below provides some explanation\n",
        "#q4.solution()"
      ],
      "metadata": {
        "trusted": true,
        "execution": {
          "iopub.status.busy": "2025-02-18T12:45:39.066866Z",
          "iopub.execute_input": "2025-02-18T12:45:39.067239Z",
          "iopub.status.idle": "2025-02-18T12:45:39.071063Z",
          "shell.execute_reply.started": "2025-02-18T12:45:39.067211Z",
          "shell.execute_reply": "2025-02-18T12:45:39.070067Z"
        },
        "id": "ojsOZFGWjVzp"
      },
      "outputs": [],
      "execution_count": null
    },
    {
      "cell_type": "markdown",
      "source": [
        "# 5. <span title=\"A bit spicy\" style=\"color: darkgreen \">🌶️</span>\n",
        "\n",
        "We're using lists to record people who attended our party and what order they arrived in. For example, the following list represents a party with 7 guests, in which Adela showed up first and Ford was the last to arrive:\n",
        "\n",
        "    party_attendees = ['Adela', 'Fleda', 'Owen', 'May', 'Mona', 'Gilbert', 'Ford']\n",
        "\n",
        "A guest is considered 'fashionably late' if they arrived after at least half of the party's guests. However, they must not be the very last guest (that's taking it too far). In the above example, Mona and Gilbert are the only guests who were fashionably late.\n",
        "\n",
        "Complete the function below which takes a list of party attendees as well as a person, and tells us whether that person is fashionably late."
      ],
      "metadata": {
        "id": "BJ-nic_VjVzp"
      }
    },
    {
      "cell_type": "code",
      "source": [
        "def fashionably_late(arrivals, name):\n",
        "    \"\"\"Given an ordered list of arrivals to the party and a name, return whether the guest with that\n",
        "    name was fashionably late.\n",
        "    \"\"\"\n",
        "    pass\n",
        "    total_guests = len(arrivals)\n",
        "    person_index = arrivals.index(name)\n",
        "\n",
        "\n",
        "\n",
        "# Check your answer\n",
        "q5.check()"
      ],
      "metadata": {
        "trusted": true,
        "execution": {
          "iopub.status.busy": "2025-02-18T12:45:50.160823Z",
          "iopub.execute_input": "2025-02-18T12:45:50.161195Z",
          "iopub.status.idle": "2025-02-18T12:45:50.170013Z",
          "shell.execute_reply.started": "2025-02-18T12:45:50.161157Z",
          "shell.execute_reply": "2025-02-18T12:45:50.168967Z"
        },
        "id": "Easool5JjVzp"
      },
      "outputs": [],
      "execution_count": null
    },
    {
      "cell_type": "code",
      "source": [
        "#q5.hint()\n",
        "q5.solution()"
      ],
      "metadata": {
        "trusted": true,
        "id": "R5akZbkNjVzq"
      },
      "outputs": [],
      "execution_count": null
    },
    {
      "cell_type": "markdown",
      "source": [
        "# Keep Going\n",
        "\n",
        "That's it for lists and tuples! Now you have the baseline knowledge to **[learn about loops](https://www.kaggle.com/colinmorris/loops-and-list-comprehensions)**, which is where lists and tuples get really interesting."
      ],
      "metadata": {
        "id": "xog4z1h6jVzq"
      }
    },
    {
      "cell_type": "markdown",
      "source": [
        "---\n",
        "\n",
        "\n",
        "\n",
        "\n",
        "*Have questions or comments? Visit the [course discussion forum](https://www.kaggle.com/learn/python/discussion) to chat with other learners.*"
      ],
      "metadata": {
        "id": "vLFO68ukjVzq"
      }
    }
  ]
}