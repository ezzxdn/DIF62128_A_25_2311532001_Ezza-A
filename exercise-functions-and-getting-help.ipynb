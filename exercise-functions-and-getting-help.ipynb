{
 "cells": [
  {
   "cell_type": "markdown",
   "id": "21bfad51",
   "metadata": {
    "papermill": {
     "duration": 0.004758,
     "end_time": "2025-02-18T14:03:29.675475",
     "exception": false,
     "start_time": "2025-02-18T14:03:29.670717",
     "status": "completed"
    },
    "tags": []
   },
   "source": [
    "**This notebook is an exercise in the [Python](https://www.kaggle.com/learn/python) course.  You can reference the tutorial at [this link](https://www.kaggle.com/colinmorris/functions-and-getting-help).**\n",
    "\n",
    "---\n"
   ]
  },
  {
   "cell_type": "markdown",
   "id": "80be7827",
   "metadata": {
    "papermill": {
     "duration": 0.003777,
     "end_time": "2025-02-18T14:03:29.683616",
     "exception": false,
     "start_time": "2025-02-18T14:03:29.679839",
     "status": "completed"
    },
    "tags": []
   },
   "source": [
    "Functions are powerful. Try writing some yourself.\n",
    "\n",
    "As before, don't forget to run the setup code below before jumping into question 1."
   ]
  },
  {
   "cell_type": "code",
   "execution_count": 1,
   "id": "27623172",
   "metadata": {
    "_kg_hide-input": true,
    "_kg_hide-output": true,
    "execution": {
     "iopub.execute_input": "2025-02-18T14:03:29.693068Z",
     "iopub.status.busy": "2025-02-18T14:03:29.692731Z",
     "iopub.status.idle": "2025-02-18T14:03:30.721932Z",
     "shell.execute_reply": "2025-02-18T14:03:30.720501Z"
    },
    "papermill": {
     "duration": 1.036426,
     "end_time": "2025-02-18T14:03:30.724126",
     "exception": false,
     "start_time": "2025-02-18T14:03:29.687700",
     "status": "completed"
    },
    "tags": []
   },
   "outputs": [
    {
     "name": "stdout",
     "output_type": "stream",
     "text": [
      "Setup complete.\n"
     ]
    }
   ],
   "source": [
    "# SETUP. You don't need to worry for now about what this code does or how it works.\n",
    "from learntools.core import binder; binder.bind(globals())\n",
    "from learntools.python.ex2 import *\n",
    "print('Setup complete.')"
   ]
  },
  {
   "cell_type": "markdown",
   "id": "bda53de7",
   "metadata": {
    "papermill": {
     "duration": 0.003919,
     "end_time": "2025-02-18T14:03:30.732416",
     "exception": false,
     "start_time": "2025-02-18T14:03:30.728497",
     "status": "completed"
    },
    "tags": []
   },
   "source": [
    "# 1.\n",
    "\n",
    "Complete the body of the following function according to its docstring.\n",
    "\n",
    "HINT: Python has a built-in function `round`."
   ]
  },
  {
   "cell_type": "code",
   "execution_count": 2,
   "id": "150aeb88",
   "metadata": {
    "execution": {
     "iopub.execute_input": "2025-02-18T14:03:30.741989Z",
     "iopub.status.busy": "2025-02-18T14:03:30.741512Z",
     "iopub.status.idle": "2025-02-18T14:03:30.750890Z",
     "shell.execute_reply": "2025-02-18T14:03:30.749996Z"
    },
    "papermill": {
     "duration": 0.01595,
     "end_time": "2025-02-18T14:03:30.752406",
     "exception": false,
     "start_time": "2025-02-18T14:03:30.736456",
     "status": "completed"
    },
    "tags": []
   },
   "outputs": [
    {
     "data": {
      "application/javascript": [
       "parent.postMessage({\"jupyterEvent\": \"custom.exercise_interaction\", \"data\": {\"outcomeType\": 1, \"valueTowardsCompletion\": 0.16666666666666666, \"interactionType\": 1, \"questionType\": 2, \"questionId\": \"1_RoundFunctionProblem\", \"learnToolsVersion\": \"0.3.4\", \"failureMessage\": \"\", \"exceptionClass\": \"\", \"trace\": \"\"}}, \"*\")"
      ],
      "text/plain": [
       "<IPython.core.display.Javascript object>"
      ]
     },
     "metadata": {},
     "output_type": "display_data"
    },
    {
     "data": {
      "text/markdown": [
       "<span style=\"color:#33cc33\">Correct</span>"
      ],
      "text/plain": [
       "Correct"
      ]
     },
     "metadata": {},
     "output_type": "display_data"
    }
   ],
   "source": [
    "def round_to_two_places(num):\n",
    "    \"\"\"Return the given number rounded to two decimal places. \n",
    "    \n",
    "    >>> round_to_two_places(3.14159)\n",
    "    3.14\n",
    "    \"\"\"\n",
    "    return round(num, 2)\n",
    "    # Replace this body with your own code.\n",
    "    # (\"pass\" is a keyword that does literally nothing. We used it as a placeholder\n",
    "    # because after we begin a code block, Python requires at least one line of code)\n",
    "    pass\n",
    "\n",
    "# Check your answer\n",
    "q1.check()"
   ]
  },
  {
   "cell_type": "code",
   "execution_count": 3,
   "id": "a53ce043",
   "metadata": {
    "execution": {
     "iopub.execute_input": "2025-02-18T14:03:30.763103Z",
     "iopub.status.busy": "2025-02-18T14:03:30.762766Z",
     "iopub.status.idle": "2025-02-18T14:03:30.766633Z",
     "shell.execute_reply": "2025-02-18T14:03:30.765455Z"
    },
    "papermill": {
     "duration": 0.011347,
     "end_time": "2025-02-18T14:03:30.768404",
     "exception": false,
     "start_time": "2025-02-18T14:03:30.757057",
     "status": "completed"
    },
    "tags": []
   },
   "outputs": [],
   "source": [
    "# Uncomment the following for a hint\n",
    "#q1.hint()\n",
    "# Or uncomment the following to peek at the solution\n",
    "#q1.solution()"
   ]
  },
  {
   "cell_type": "markdown",
   "id": "83e6a079",
   "metadata": {
    "papermill": {
     "duration": 0.00415,
     "end_time": "2025-02-18T14:03:30.777068",
     "exception": false,
     "start_time": "2025-02-18T14:03:30.772918",
     "status": "completed"
    },
    "tags": []
   },
   "source": [
    "# 2.\n",
    "The help for `round` says that `ndigits` (the second argument) may be negative.\n",
    "What do you think will happen when it is? Try some examples in the following cell."
   ]
  },
  {
   "cell_type": "code",
   "execution_count": 4,
   "id": "bf5cfe2b",
   "metadata": {
    "execution": {
     "iopub.execute_input": "2025-02-18T14:03:30.786971Z",
     "iopub.status.busy": "2025-02-18T14:03:30.786595Z",
     "iopub.status.idle": "2025-02-18T14:03:30.792122Z",
     "shell.execute_reply": "2025-02-18T14:03:30.791070Z"
    },
    "papermill": {
     "duration": 0.012985,
     "end_time": "2025-02-18T14:03:30.794359",
     "exception": false,
     "start_time": "2025-02-18T14:03:30.781374",
     "status": "completed"
    },
    "tags": []
   },
   "outputs": [
    {
     "name": "stdout",
     "output_type": "stream",
     "text": [
      "2400.0\n"
     ]
    }
   ],
   "source": [
    "# Put your test code here\n",
    "print(round(2357.2576, -2))"
   ]
  },
  {
   "cell_type": "markdown",
   "id": "babcb4ac",
   "metadata": {
    "papermill": {
     "duration": 0.004079,
     "end_time": "2025-02-18T14:03:30.803010",
     "exception": false,
     "start_time": "2025-02-18T14:03:30.798931",
     "status": "completed"
    },
    "tags": []
   },
   "source": [
    "Can you think of a case where this would be useful?  Once you're ready, run the code cell below to see the answer and to receive credit for completing the problem."
   ]
  },
  {
   "cell_type": "code",
   "execution_count": 5,
   "id": "198740d7",
   "metadata": {
    "execution": {
     "iopub.execute_input": "2025-02-18T14:03:30.813708Z",
     "iopub.status.busy": "2025-02-18T14:03:30.813261Z",
     "iopub.status.idle": "2025-02-18T14:03:30.821043Z",
     "shell.execute_reply": "2025-02-18T14:03:30.819868Z"
    },
    "papermill": {
     "duration": 0.015678,
     "end_time": "2025-02-18T14:03:30.823076",
     "exception": false,
     "start_time": "2025-02-18T14:03:30.807398",
     "status": "completed"
    },
    "tags": []
   },
   "outputs": [
    {
     "data": {
      "application/javascript": [
       "parent.postMessage({\"jupyterEvent\": \"custom.exercise_interaction\", \"data\": {\"interactionType\": 3, \"questionType\": 4, \"questionId\": \"2_RoundNdigitsProblem\", \"learnToolsVersion\": \"0.3.4\", \"valueTowardsCompletion\": 0.0, \"failureMessage\": \"\", \"exceptionClass\": \"\", \"trace\": \"\", \"outcomeType\": 4}}, \"*\")"
      ],
      "text/plain": [
       "<IPython.core.display.Javascript object>"
      ]
     },
     "metadata": {},
     "output_type": "display_data"
    },
    {
     "data": {
      "text/markdown": [
       "<span style=\"color:#33cc99\">Solution:</span> As you've seen, `ndigits=-1` rounds to the nearest 10, `ndigits=-2` rounds to the nearest 100 and so on. Where might this be useful? Suppose we're dealing with large numbers:\n",
       "\n",
       "> The area of Finland is 338,424 km²  \n",
       "> The area of Greenland is 2,166,086 km²\n",
       "\n",
       "We probably don't care whether it's really 338,424, or 338,425, or 338,177. All those digits of accuracy are just distracting. We can chop them off by calling `round()` with `ndigits=-3`:\n",
       "\n",
       "> The area of Finland is 338,000 km²  \n",
       "> The area of Greenland is 2,166,000 km²\n",
       "\n",
       "(We'll talk about how we would get the commas later when we talk about string formatting :))\n"
      ],
      "text/plain": [
       "Solution: As you've seen, `ndigits=-1` rounds to the nearest 10, `ndigits=-2` rounds to the nearest 100 and so on. Where might this be useful? Suppose we're dealing with large numbers:\n",
       "\n",
       "> The area of Finland is 338,424 km²  \n",
       "> The area of Greenland is 2,166,086 km²\n",
       "\n",
       "We probably don't care whether it's really 338,424, or 338,425, or 338,177. All those digits of accuracy are just distracting. We can chop them off by calling `round()` with `ndigits=-3`:\n",
       "\n",
       "> The area of Finland is 338,000 km²  \n",
       "> The area of Greenland is 2,166,000 km²\n",
       "\n",
       "(We'll talk about how we would get the commas later when we talk about string formatting :))"
      ]
     },
     "metadata": {},
     "output_type": "display_data"
    }
   ],
   "source": [
    "# Check your answer (Run this code cell to receive credit!)\n",
    "q2.solution()"
   ]
  },
  {
   "cell_type": "markdown",
   "id": "955e3fbf",
   "metadata": {
    "papermill": {
     "duration": 0.004336,
     "end_time": "2025-02-18T14:03:30.832273",
     "exception": false,
     "start_time": "2025-02-18T14:03:30.827937",
     "status": "completed"
    },
    "tags": []
   },
   "source": [
    "# 3.\n",
    "\n",
    "In the previous exercise, the candy-sharing friends Alice, Bob and Carol tried to split candies evenly. For the sake of their friendship, any candies left over would be smashed. For example, if they collectively bring home 91 candies, they'll take 30 each and smash 1.\n",
    "\n",
    "Below is a simple function that will calculate the number of candies to smash for *any* number of total candies.\n",
    "\n",
    "Modify it so that it optionally takes a second argument representing the number of friends the candies are being split between. If no second argument is provided, it should assume 3 friends, as before.\n",
    "\n",
    "Update the docstring to reflect this new behaviour."
   ]
  },
  {
   "cell_type": "code",
   "execution_count": 6,
   "id": "10f2e6d8",
   "metadata": {
    "execution": {
     "iopub.execute_input": "2025-02-18T14:03:30.842997Z",
     "iopub.status.busy": "2025-02-18T14:03:30.842670Z",
     "iopub.status.idle": "2025-02-18T14:03:30.852064Z",
     "shell.execute_reply": "2025-02-18T14:03:30.850989Z"
    },
    "papermill": {
     "duration": 0.01686,
     "end_time": "2025-02-18T14:03:30.853999",
     "exception": false,
     "start_time": "2025-02-18T14:03:30.837139",
     "status": "completed"
    },
    "tags": []
   },
   "outputs": [
    {
     "name": "stdout",
     "output_type": "stream",
     "text": [
      "2\n",
      "1\n"
     ]
    },
    {
     "data": {
      "application/javascript": [
       "parent.postMessage({\"jupyterEvent\": \"custom.exercise_interaction\", \"data\": {\"outcomeType\": 1, \"valueTowardsCompletion\": 0.16666666666666666, \"interactionType\": 1, \"questionType\": 2, \"questionId\": \"3_CandySmashingFunctionProblem\", \"learnToolsVersion\": \"0.3.4\", \"failureMessage\": \"\", \"exceptionClass\": \"\", \"trace\": \"\"}}, \"*\")"
      ],
      "text/plain": [
       "<IPython.core.display.Javascript object>"
      ]
     },
     "metadata": {},
     "output_type": "display_data"
    },
    {
     "data": {
      "text/markdown": [
       "<span style=\"color:#33cc33\">Correct</span>"
      ],
      "text/plain": [
       "Correct"
      ]
     },
     "metadata": {},
     "output_type": "display_data"
    }
   ],
   "source": [
    "def to_smash(total_candies, num_friends=3):\n",
    "    \"\"\"Return the number of leftover candies that must be smashed after distributing\n",
    "    the given number of candies evenly between 3 friends.\n",
    "    \n",
    "    >>> to_smash(91)\n",
    "    1\n",
    "    \"\"\"\n",
    "    return total_candies % num_friends\n",
    "\n",
    "print(to_smash(101))\n",
    "print(to_smash(101, 5))\n",
    "\n",
    "# Check your answer\n",
    "q3.check()"
   ]
  },
  {
   "cell_type": "code",
   "execution_count": 7,
   "id": "e4a93938",
   "metadata": {
    "execution": {
     "iopub.execute_input": "2025-02-18T14:03:30.865475Z",
     "iopub.status.busy": "2025-02-18T14:03:30.865039Z",
     "iopub.status.idle": "2025-02-18T14:03:30.869090Z",
     "shell.execute_reply": "2025-02-18T14:03:30.867861Z"
    },
    "papermill": {
     "duration": 0.01169,
     "end_time": "2025-02-18T14:03:30.870869",
     "exception": false,
     "start_time": "2025-02-18T14:03:30.859179",
     "status": "completed"
    },
    "tags": []
   },
   "outputs": [],
   "source": [
    "#q3.hint()"
   ]
  },
  {
   "cell_type": "code",
   "execution_count": 8,
   "id": "a44e348a",
   "metadata": {
    "execution": {
     "iopub.execute_input": "2025-02-18T14:03:30.882474Z",
     "iopub.status.busy": "2025-02-18T14:03:30.882059Z",
     "iopub.status.idle": "2025-02-18T14:03:30.886678Z",
     "shell.execute_reply": "2025-02-18T14:03:30.885199Z"
    },
    "papermill": {
     "duration": 0.012725,
     "end_time": "2025-02-18T14:03:30.888873",
     "exception": false,
     "start_time": "2025-02-18T14:03:30.876148",
     "status": "completed"
    },
    "tags": []
   },
   "outputs": [],
   "source": [
    "#q3.solution()"
   ]
  },
  {
   "cell_type": "markdown",
   "id": "e311a274",
   "metadata": {
    "papermill": {
     "duration": 0.005876,
     "end_time": "2025-02-18T14:03:30.899963",
     "exception": false,
     "start_time": "2025-02-18T14:03:30.894087",
     "status": "completed"
    },
    "tags": []
   },
   "source": [
    "# 4. (Optional)\n",
    "\n",
    "It may not be fun, but reading and understanding error messages will be an important part of your Python career.\n",
    "\n",
    "Each code cell below contains some commented buggy code. For each cell...\n",
    "\n",
    "1. Read the code and predict what you think will happen when it's run.\n",
    "2. Then uncomment the code and run it to see what happens. (**Tip**: In the kernel editor, you can highlight several lines and press `ctrl`+`/` to toggle commenting.)\n",
    "3. Fix the code (so that it accomplishes its intended purpose without throwing an exception)\n",
    "\n",
    "<!-- TODO: should this be autochecked? Delta is probably pretty small. -->"
   ]
  },
  {
   "cell_type": "code",
   "execution_count": 9,
   "id": "1c104afc",
   "metadata": {
    "execution": {
     "iopub.execute_input": "2025-02-18T14:03:30.911137Z",
     "iopub.status.busy": "2025-02-18T14:03:30.910808Z",
     "iopub.status.idle": "2025-02-18T14:03:30.916532Z",
     "shell.execute_reply": "2025-02-18T14:03:30.915404Z"
    },
    "papermill": {
     "duration": 0.013265,
     "end_time": "2025-02-18T14:03:30.918285",
     "exception": false,
     "start_time": "2025-02-18T14:03:30.905020",
     "status": "completed"
    },
    "tags": []
   },
   "outputs": [
    {
     "data": {
      "text/plain": [
       "10.0"
      ]
     },
     "execution_count": 9,
     "metadata": {},
     "output_type": "execute_result"
    }
   ],
   "source": [
    "# ruound_to_two_places(9.9999)\n",
    "round_to_two_places(9.9999)"
   ]
  },
  {
   "cell_type": "code",
   "execution_count": 10,
   "id": "1a88fea8",
   "metadata": {
    "execution": {
     "iopub.execute_input": "2025-02-18T14:03:30.930087Z",
     "iopub.status.busy": "2025-02-18T14:03:30.929630Z",
     "iopub.status.idle": "2025-02-18T14:03:30.935457Z",
     "shell.execute_reply": "2025-02-18T14:03:30.934227Z"
    },
    "papermill": {
     "duration": 0.013873,
     "end_time": "2025-02-18T14:03:30.937620",
     "exception": false,
     "start_time": "2025-02-18T14:03:30.923747",
     "status": "completed"
    },
    "tags": []
   },
   "outputs": [
    {
     "name": "stdout",
     "output_type": "stream",
     "text": [
      "5\n"
     ]
    }
   ],
   "source": [
    "x = -10\n",
    "y = 5\n",
    "# # Which of the two variables above has the smallest absolute value?\n",
    "smallest_abs = min(abs(x), y)\n",
    "print(smallest_abs)"
   ]
  },
  {
   "cell_type": "code",
   "execution_count": 11,
   "id": "4c970e13",
   "metadata": {
    "execution": {
     "iopub.execute_input": "2025-02-18T14:03:30.949286Z",
     "iopub.status.busy": "2025-02-18T14:03:30.948952Z",
     "iopub.status.idle": "2025-02-18T14:03:30.954287Z",
     "shell.execute_reply": "2025-02-18T14:03:30.953142Z"
    },
    "papermill": {
     "duration": 0.013167,
     "end_time": "2025-02-18T14:03:30.956035",
     "exception": false,
     "start_time": "2025-02-18T14:03:30.942868",
     "status": "completed"
    },
    "tags": []
   },
   "outputs": [
    {
     "name": "stdout",
     "output_type": "stream",
     "text": [
      "5\n"
     ]
    }
   ],
   "source": [
    "def f(x):\n",
    "    y = abs(x)\n",
    "    return y\n",
    "\n",
    "print(f(5))"
   ]
  },
  {
   "cell_type": "markdown",
   "id": "92558386",
   "metadata": {
    "papermill": {
     "duration": 0.005041,
     "end_time": "2025-02-18T14:03:30.966877",
     "exception": false,
     "start_time": "2025-02-18T14:03:30.961836",
     "status": "completed"
    },
    "tags": []
   },
   "source": [
    "# Keep Going\n",
    "\n",
    "Nice job with the code. Next up, you'll learn about *conditionals*, which you'll need to **[write interesting programs](https://www.kaggle.com/colinmorris/booleans-and-conditionals)**. "
   ]
  },
  {
   "cell_type": "markdown",
   "id": "ce6b880a",
   "metadata": {
    "papermill": {
     "duration": 0.005894,
     "end_time": "2025-02-18T14:03:30.978359",
     "exception": false,
     "start_time": "2025-02-18T14:03:30.972465",
     "status": "completed"
    },
    "tags": []
   },
   "source": [
    "---\n",
    "\n",
    "\n",
    "\n",
    "\n",
    "*Have questions or comments? Visit the [course discussion forum](https://www.kaggle.com/learn/python/discussion) to chat with other learners.*"
   ]
  }
 ],
 "metadata": {
  "kaggle": {
   "accelerator": "none",
   "dataSources": [],
   "isGpuEnabled": false,
   "isInternetEnabled": false,
   "language": "python",
   "sourceType": "notebook"
  },
  "kernelspec": {
   "display_name": "Python 3",
   "language": "python",
   "name": "python3"
  },
  "language_info": {
   "codemirror_mode": {
    "name": "ipython",
    "version": 3
   },
   "file_extension": ".py",
   "mimetype": "text/x-python",
   "name": "python",
   "nbconvert_exporter": "python",
   "pygments_lexer": "ipython3",
   "version": "3.10.12"
  },
  "learntools_metadata": {
   "lesson_index": 1,
   "type": "exercise"
  },
  "papermill": {
   "default_parameters": {},
   "duration": 4.788088,
   "end_time": "2025-02-18T14:03:31.604422",
   "environment_variables": {},
   "exception": null,
   "input_path": "__notebook__.ipynb",
   "output_path": "__notebook__.ipynb",
   "parameters": {},
   "start_time": "2025-02-18T14:03:26.816334",
   "version": "2.6.0"
  }
 },
 "nbformat": 4,
 "nbformat_minor": 5
}
