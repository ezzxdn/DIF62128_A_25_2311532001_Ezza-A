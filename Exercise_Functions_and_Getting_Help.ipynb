{
  "metadata": {
    "kernelspec": {
      "display_name": "Python 3",
      "language": "python",
      "name": "python3"
    },
    "language_info": {
      "name": "python",
      "version": "3.10.12",
      "mimetype": "text/x-python",
      "codemirror_mode": {
        "name": "ipython",
        "version": 3
      },
      "pygments_lexer": "ipython3",
      "nbconvert_exporter": "python",
      "file_extension": ".py"
    },
    "learntools_metadata": {
      "lesson_index": 1,
      "type": "exercise"
    },
    "kaggle": {
      "accelerator": "none",
      "dataSources": [],
      "isInternetEnabled": false,
      "language": "python",
      "sourceType": "notebook",
      "isGpuEnabled": false
    },
    "colab": {
      "name": "Exercise: Functions and Getting Help",
      "provenance": []
    }
  },
  "nbformat_minor": 0,
  "nbformat": 4,
  "cells": [
    {
      "cell_type": "markdown",
      "source": [
        "**This notebook is an exercise in the [Python](https://www.kaggle.com/learn/python) course.  You can reference the tutorial at [this link](https://www.kaggle.com/colinmorris/functions-and-getting-help).**\n",
        "\n",
        "---\n"
      ],
      "metadata": {
        "id": "cU798MkSi-8_"
      }
    },
    {
      "cell_type": "markdown",
      "source": [
        "Functions are powerful. Try writing some yourself.\n",
        "\n",
        "As before, don't forget to run the setup code below before jumping into question 1."
      ],
      "metadata": {
        "id": "OlQHMolSi-9B"
      }
    },
    {
      "cell_type": "code",
      "source": [
        "# SETUP. You don't need to worry for now about what this code does or how it works.\n",
        "from learntools.core import binder; binder.bind(globals())\n",
        "from learntools.python.ex2 import *\n",
        "print('Setup complete.')"
      ],
      "metadata": {
        "_kg_hide-input": true,
        "_kg_hide-output": true,
        "trusted": true,
        "execution": {
          "iopub.status.busy": "2025-02-15T08:06:50.402433Z",
          "iopub.execute_input": "2025-02-15T08:06:50.402723Z",
          "iopub.status.idle": "2025-02-15T08:06:51.324037Z",
          "shell.execute_reply.started": "2025-02-15T08:06:50.402692Z",
          "shell.execute_reply": "2025-02-15T08:06:51.32294Z"
        },
        "id": "sdQafYgPi-9C"
      },
      "outputs": [],
      "execution_count": null
    },
    {
      "cell_type": "markdown",
      "source": [
        "# 1.\n",
        "\n",
        "Complete the body of the following function according to its docstring.\n",
        "\n",
        "HINT: Python has a built-in function `round`."
      ],
      "metadata": {
        "id": "YvOLd3wKi-9C"
      }
    },
    {
      "cell_type": "code",
      "source": [
        "def round_to_two_places(num):\n",
        "    \"\"\"Return the given number rounded to two decimal places.\n",
        "\n",
        "    >>> round_to_two_places(3.14159)\n",
        "    3.14\n",
        "    \"\"\"\n",
        "    return round(num, 2)\n",
        "    # Replace this body with your own code.\n",
        "    # (\"pass\" is a keyword that does literally nothing. We used it as a placeholder\n",
        "    # because after we begin a code block, Python requires at least one line of code)\n",
        "    pass\n",
        "\n",
        "# Check your answer\n",
        "q1.check()"
      ],
      "metadata": {
        "trusted": true,
        "execution": {
          "iopub.status.busy": "2025-02-15T08:09:07.233782Z",
          "iopub.execute_input": "2025-02-15T08:09:07.234479Z",
          "iopub.status.idle": "2025-02-15T08:09:07.24903Z",
          "shell.execute_reply.started": "2025-02-15T08:09:07.234427Z",
          "shell.execute_reply": "2025-02-15T08:09:07.247123Z"
        },
        "id": "D2Crlsmgi-9D"
      },
      "outputs": [],
      "execution_count": null
    },
    {
      "cell_type": "code",
      "source": [
        "# Uncomment the following for a hint\n",
        "#q1.hint()\n",
        "# Or uncomment the following to peek at the solution\n",
        "#q1.solution()"
      ],
      "metadata": {
        "trusted": true,
        "execution": {
          "iopub.status.busy": "2025-02-15T08:09:32.7997Z",
          "iopub.execute_input": "2025-02-15T08:09:32.800029Z",
          "iopub.status.idle": "2025-02-15T08:09:32.80488Z",
          "shell.execute_reply.started": "2025-02-15T08:09:32.800001Z",
          "shell.execute_reply": "2025-02-15T08:09:32.803008Z"
        },
        "id": "ry0o4dj9i-9E"
      },
      "outputs": [],
      "execution_count": null
    },
    {
      "cell_type": "markdown",
      "source": [
        "# 2.\n",
        "The help for `round` says that `ndigits` (the second argument) may be negative.\n",
        "What do you think will happen when it is? Try some examples in the following cell."
      ],
      "metadata": {
        "id": "itTy087Pi-9E"
      }
    },
    {
      "cell_type": "code",
      "source": [
        "# Put your test code here\n",
        "print(round(2357.2576, -2))"
      ],
      "metadata": {
        "trusted": true,
        "execution": {
          "iopub.status.busy": "2025-02-15T08:12:02.015558Z",
          "iopub.execute_input": "2025-02-15T08:12:02.015889Z",
          "iopub.status.idle": "2025-02-15T08:12:02.022928Z",
          "shell.execute_reply.started": "2025-02-15T08:12:02.015869Z",
          "shell.execute_reply": "2025-02-15T08:12:02.021051Z"
        },
        "id": "lBj4iXuyi-9F"
      },
      "outputs": [],
      "execution_count": null
    },
    {
      "cell_type": "markdown",
      "source": [
        "Can you think of a case where this would be useful?  Once you're ready, run the code cell below to see the answer and to receive credit for completing the problem."
      ],
      "metadata": {
        "id": "iUDcg5v-i-9F"
      }
    },
    {
      "cell_type": "code",
      "source": [
        "# Check your answer (Run this code cell to receive credit!)\n",
        "q2.solution()"
      ],
      "metadata": {
        "trusted": true,
        "execution": {
          "iopub.status.busy": "2025-02-15T08:12:09.865433Z",
          "iopub.execute_input": "2025-02-15T08:12:09.865728Z",
          "iopub.status.idle": "2025-02-15T08:12:09.872059Z",
          "shell.execute_reply.started": "2025-02-15T08:12:09.865709Z",
          "shell.execute_reply": "2025-02-15T08:12:09.871204Z"
        },
        "id": "_XMNSfJri-9F"
      },
      "outputs": [],
      "execution_count": null
    },
    {
      "cell_type": "markdown",
      "source": [
        "# 3.\n",
        "\n",
        "In the previous exercise, the candy-sharing friends Alice, Bob and Carol tried to split candies evenly. For the sake of their friendship, any candies left over would be smashed. For example, if they collectively bring home 91 candies, they'll take 30 each and smash 1.\n",
        "\n",
        "Below is a simple function that will calculate the number of candies to smash for *any* number of total candies.\n",
        "\n",
        "Modify it so that it optionally takes a second argument representing the number of friends the candies are being split between. If no second argument is provided, it should assume 3 friends, as before.\n",
        "\n",
        "Update the docstring to reflect this new behaviour."
      ],
      "metadata": {
        "id": "sl7d2CJBi-9F"
      }
    },
    {
      "cell_type": "code",
      "source": [
        "def to_smash(total_candies, num_friends=3):\n",
        "    \"\"\"Return the number of leftover candies that must be smashed after distributing\n",
        "    the given number of candies evenly between 3 friends.\n",
        "\n",
        "    >>> to_smash(91)\n",
        "    1\n",
        "    \"\"\"\n",
        "    return total_candies % num_friends\n",
        "\n",
        "print(to_smash(101))\n",
        "print(to_smash(101, 5))\n",
        "\n",
        "# Check your answer\n",
        "q3.check()"
      ],
      "metadata": {
        "trusted": true,
        "execution": {
          "iopub.status.busy": "2025-02-15T08:16:24.962061Z",
          "iopub.execute_input": "2025-02-15T08:16:24.962459Z",
          "iopub.status.idle": "2025-02-15T08:16:24.972649Z",
          "shell.execute_reply.started": "2025-02-15T08:16:24.962429Z",
          "shell.execute_reply": "2025-02-15T08:16:24.971142Z"
        },
        "id": "Hk-T4gXUi-9G"
      },
      "outputs": [],
      "execution_count": null
    },
    {
      "cell_type": "code",
      "source": [
        "#q3.hint()"
      ],
      "metadata": {
        "id": "TyDWuYeti-9G"
      },
      "outputs": [],
      "execution_count": null
    },
    {
      "cell_type": "code",
      "source": [
        "#q3.solution()"
      ],
      "metadata": {
        "id": "nUetE-Sgi-9G"
      },
      "outputs": [],
      "execution_count": null
    },
    {
      "cell_type": "markdown",
      "source": [
        "# 4. (Optional)\n",
        "\n",
        "It may not be fun, but reading and understanding error messages will be an important part of your Python career.\n",
        "\n",
        "Each code cell below contains some commented buggy code. For each cell...\n",
        "\n",
        "1. Read the code and predict what you think will happen when it's run.\n",
        "2. Then uncomment the code and run it to see what happens. (**Tip**: In the kernel editor, you can highlight several lines and press `ctrl`+`/` to toggle commenting.)\n",
        "3. Fix the code (so that it accomplishes its intended purpose without throwing an exception)\n",
        "\n",
        "<!-- TODO: should this be autochecked? Delta is probably pretty small. -->"
      ],
      "metadata": {
        "id": "eYGdrFdKi-9H"
      }
    },
    {
      "cell_type": "code",
      "source": [
        "# ruound_to_two_places(9.9999)\n",
        "round_to_two_places(9.9999)"
      ],
      "metadata": {
        "trusted": true,
        "execution": {
          "iopub.status.busy": "2025-02-15T08:17:20.333523Z",
          "iopub.execute_input": "2025-02-15T08:17:20.333881Z",
          "iopub.status.idle": "2025-02-15T08:17:20.339298Z",
          "shell.execute_reply.started": "2025-02-15T08:17:20.333855Z",
          "shell.execute_reply": "2025-02-15T08:17:20.338311Z"
        },
        "id": "8whOI_4Hi-9H"
      },
      "outputs": [],
      "execution_count": null
    },
    {
      "cell_type": "code",
      "source": [
        "x = -10\n",
        "y = 5\n",
        "# # Which of the two variables above has the smallest absolute value?\n",
        "smallest_abs = min(abs(x), y)\n",
        "print(smallest_abs)"
      ],
      "metadata": {
        "trusted": true,
        "execution": {
          "iopub.status.busy": "2025-02-15T08:18:21.441787Z",
          "iopub.execute_input": "2025-02-15T08:18:21.442142Z",
          "iopub.status.idle": "2025-02-15T08:18:21.447892Z",
          "shell.execute_reply.started": "2025-02-15T08:18:21.442114Z",
          "shell.execute_reply": "2025-02-15T08:18:21.446352Z"
        },
        "id": "_CIKjezRi-9H"
      },
      "outputs": [],
      "execution_count": null
    },
    {
      "cell_type": "code",
      "source": [
        "def f(x):\n",
        "    y = abs(x)\n",
        "    return y\n",
        "\n",
        "print(f(5))"
      ],
      "metadata": {
        "trusted": true,
        "execution": {
          "iopub.status.busy": "2025-02-15T08:18:38.977795Z",
          "iopub.execute_input": "2025-02-15T08:18:38.978094Z",
          "iopub.status.idle": "2025-02-15T08:18:38.983499Z",
          "shell.execute_reply.started": "2025-02-15T08:18:38.97807Z",
          "shell.execute_reply": "2025-02-15T08:18:38.982348Z"
        },
        "id": "99fdVyHbi-9I"
      },
      "outputs": [],
      "execution_count": null
    },
    {
      "cell_type": "markdown",
      "source": [
        "# Keep Going\n",
        "\n",
        "Nice job with the code. Next up, you'll learn about *conditionals*, which you'll need to **[write interesting programs](https://www.kaggle.com/colinmorris/booleans-and-conditionals)**."
      ],
      "metadata": {
        "id": "Ib7Kcnfdi-9I"
      }
    },
    {
      "cell_type": "markdown",
      "source": [
        "---\n",
        "\n",
        "\n",
        "\n",
        "\n",
        "*Have questions or comments? Visit the [course discussion forum](https://www.kaggle.com/learn/python/discussion) to chat with other learners.*"
      ],
      "metadata": {
        "id": "Mi5fmzSHi-9I"
      }
    }
  ]
}