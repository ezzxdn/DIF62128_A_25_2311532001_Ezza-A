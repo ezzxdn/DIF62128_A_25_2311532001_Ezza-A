{
 "cells": [
  {
   "cell_type": "markdown",
   "id": "d3293d48",
   "metadata": {
    "papermill": {
     "duration": 0.005519,
     "end_time": "2025-02-19T13:22:25.329711",
     "exception": false,
     "start_time": "2025-02-19T13:22:25.324192",
     "status": "completed"
    },
    "tags": []
   },
   "source": [
    "**This notebook is an exercise in the [Python](https://www.kaggle.com/learn/python) course.  You can reference the tutorial at [this link](https://www.kaggle.com/colinmorris/loops-and-list-comprehensions).**\n",
    "\n",
    "---\n"
   ]
  },
  {
   "cell_type": "markdown",
   "id": "599617ac",
   "metadata": {
    "papermill": {
     "duration": 0.004223,
     "end_time": "2025-02-19T13:22:25.338764",
     "exception": false,
     "start_time": "2025-02-19T13:22:25.334541",
     "status": "completed"
    },
    "tags": []
   },
   "source": [
    "With all you've learned, you can start writing much more interesting programs. See if you can solve the problems below.\n",
    "\n",
    "As always, run the setup code below before working on the questions."
   ]
  },
  {
   "cell_type": "code",
   "execution_count": 1,
   "id": "5f520784",
   "metadata": {
    "execution": {
     "iopub.execute_input": "2025-02-19T13:22:25.349192Z",
     "iopub.status.busy": "2025-02-19T13:22:25.348780Z",
     "iopub.status.idle": "2025-02-19T13:22:26.483627Z",
     "shell.execute_reply": "2025-02-19T13:22:26.482209Z"
    },
    "papermill": {
     "duration": 1.141986,
     "end_time": "2025-02-19T13:22:26.485325",
     "exception": false,
     "start_time": "2025-02-19T13:22:25.343339",
     "status": "completed"
    },
    "tags": []
   },
   "outputs": [
    {
     "name": "stdout",
     "output_type": "stream",
     "text": [
      "Setup complete.\n"
     ]
    }
   ],
   "source": [
    "from learntools.core import binder; binder.bind(globals())\n",
    "from learntools.python.ex5 import *\n",
    "print('Setup complete.')"
   ]
  },
  {
   "cell_type": "markdown",
   "id": "fb2084c9",
   "metadata": {
    "papermill": {
     "duration": 0.004707,
     "end_time": "2025-02-19T13:22:26.495059",
     "exception": false,
     "start_time": "2025-02-19T13:22:26.490352",
     "status": "completed"
    },
    "tags": []
   },
   "source": [
    "# 1.\n",
    "\n",
    "Have you ever felt debugging involved a bit of luck? The following program has a bug. Try to identify the bug and fix it."
   ]
  },
  {
   "cell_type": "code",
   "execution_count": 2,
   "id": "73366b44",
   "metadata": {
    "execution": {
     "iopub.execute_input": "2025-02-19T13:22:26.505784Z",
     "iopub.status.busy": "2025-02-19T13:22:26.505293Z",
     "iopub.status.idle": "2025-02-19T13:22:26.510684Z",
     "shell.execute_reply": "2025-02-19T13:22:26.509510Z"
    },
    "papermill": {
     "duration": 0.012974,
     "end_time": "2025-02-19T13:22:26.512637",
     "exception": false,
     "start_time": "2025-02-19T13:22:26.499663",
     "status": "completed"
    },
    "tags": []
   },
   "outputs": [],
   "source": [
    "def has_lucky_number(nums):\n",
    "    \"\"\"Return whether the given list of numbers is lucky. A lucky list contains\n",
    "    at least one number divisible by 7.\n",
    "    \"\"\"\n",
    "    for num in nums:\n",
    "        if num % 7 == 0:\n",
    "            return True\n",
    "        else:\n",
    "            return False"
   ]
  },
  {
   "cell_type": "markdown",
   "id": "5e53e4c8",
   "metadata": {
    "papermill": {
     "duration": 0.004475,
     "end_time": "2025-02-19T13:22:26.522050",
     "exception": false,
     "start_time": "2025-02-19T13:22:26.517575",
     "status": "completed"
    },
    "tags": []
   },
   "source": [
    "Try to identify the bug and fix it in the cell below:"
   ]
  },
  {
   "cell_type": "code",
   "execution_count": 3,
   "id": "4a038394",
   "metadata": {
    "execution": {
     "iopub.execute_input": "2025-02-19T13:22:26.533103Z",
     "iopub.status.busy": "2025-02-19T13:22:26.532627Z",
     "iopub.status.idle": "2025-02-19T13:22:26.543837Z",
     "shell.execute_reply": "2025-02-19T13:22:26.542790Z"
    },
    "papermill": {
     "duration": 0.018732,
     "end_time": "2025-02-19T13:22:26.545509",
     "exception": false,
     "start_time": "2025-02-19T13:22:26.526777",
     "status": "completed"
    },
    "tags": []
   },
   "outputs": [
    {
     "name": "stdout",
     "output_type": "stream",
     "text": [
      "\n",
      "\n",
      "\n",
      "\n",
      "\n",
      "\n",
      "\n",
      "\n",
      "\n",
      "\n",
      "\n"
     ]
    },
    {
     "data": {
      "application/javascript": [
       "parent.postMessage({\"jupyterEvent\": \"custom.exercise_interaction\", \"data\": {\"outcomeType\": 1, \"valueTowardsCompletion\": 0.25, \"interactionType\": 1, \"questionType\": 2, \"questionId\": \"1_EarlyExitDebugging\", \"learnToolsVersion\": \"0.3.4\", \"failureMessage\": \"\", \"exceptionClass\": \"\", \"trace\": \"\"}}, \"*\")"
      ],
      "text/plain": [
       "<IPython.core.display.Javascript object>"
      ]
     },
     "metadata": {},
     "output_type": "display_data"
    },
    {
     "data": {
      "text/markdown": [
       "<span style=\"color:#33cc33\">Correct:</span> \n",
       "\n",
       "Remember that `return` causes a function to exit immediately. So our original implementation always ran for just one iteration. We can only return `False` if we've looked at every element of the list (and confirmed that none of them are lucky). Though we can return early if the answer is `True`:\n",
       "\n",
       "```python\n",
       "def has_lucky_number(nums):\n",
       "    for num in nums:\n",
       "        if num % 7 == 0:\n",
       "            return True\n",
       "    # We've exhausted the list without finding a lucky number\n",
       "    return False\n",
       "```\n",
       "\n",
       "Here's a one-line version using a list comprehension with Python's `any` function (you can read about what it does by calling `help(any)`):\n",
       "\n",
       "```python\n",
       "def has_lucky_number(nums):\n",
       "    return any([num % 7 == 0 for num in nums])\n",
       "```\n"
      ],
      "text/plain": [
       "Correct: \n",
       "\n",
       "Remember that `return` causes a function to exit immediately. So our original implementation always ran for just one iteration. We can only return `False` if we've looked at every element of the list (and confirmed that none of them are lucky). Though we can return early if the answer is `True`:\n",
       "\n",
       "```python\n",
       "def has_lucky_number(nums):\n",
       "    for num in nums:\n",
       "        if num % 7 == 0:\n",
       "            return True\n",
       "    # We've exhausted the list without finding a lucky number\n",
       "    return False\n",
       "```\n",
       "\n",
       "Here's a one-line version using a list comprehension with Python's `any` function (you can read about what it does by calling `help(any)`):\n",
       "\n",
       "```python\n",
       "def has_lucky_number(nums):\n",
       "    return any([num % 7 == 0 for num in nums])\n",
       "```"
      ]
     },
     "metadata": {},
     "output_type": "display_data"
    }
   ],
   "source": [
    "def has_lucky_number(nums):\n",
    "    \"\"\"Return whether the given list of numbers is lucky. A lucky list contains\n",
    "    at least one number divisible by 7.\n",
    "    \"\"\"\n",
    "    for num in nums:\n",
    "        print()\n",
    "        if num % 7 == 0:\n",
    "            return True\n",
    "            \n",
    "    return False\n",
    "\n",
    "# Check your answer\n",
    "q1.check()"
   ]
  },
  {
   "cell_type": "code",
   "execution_count": 4,
   "id": "9532fd54",
   "metadata": {
    "execution": {
     "iopub.execute_input": "2025-02-19T13:22:26.557217Z",
     "iopub.status.busy": "2025-02-19T13:22:26.556818Z",
     "iopub.status.idle": "2025-02-19T13:22:26.560628Z",
     "shell.execute_reply": "2025-02-19T13:22:26.559609Z"
    },
    "papermill": {
     "duration": 0.011598,
     "end_time": "2025-02-19T13:22:26.562534",
     "exception": false,
     "start_time": "2025-02-19T13:22:26.550936",
     "status": "completed"
    },
    "tags": []
   },
   "outputs": [],
   "source": [
    "#q1.hint()\n",
    "#q1.solution()"
   ]
  },
  {
   "cell_type": "markdown",
   "id": "a018362f",
   "metadata": {
    "papermill": {
     "duration": 0.004682,
     "end_time": "2025-02-19T13:22:26.572490",
     "exception": false,
     "start_time": "2025-02-19T13:22:26.567808",
     "status": "completed"
    },
    "tags": []
   },
   "source": [
    "# 2.\n",
    "Look at the Python expression below. What do you think we'll get when we run it? When you've made your prediction, uncomment the code and run the cell to see if you were right."
   ]
  },
  {
   "cell_type": "code",
   "execution_count": 5,
   "id": "9e363b08",
   "metadata": {
    "execution": {
     "iopub.execute_input": "2025-02-19T13:22:26.583753Z",
     "iopub.status.busy": "2025-02-19T13:22:26.583392Z",
     "iopub.status.idle": "2025-02-19T13:22:26.587630Z",
     "shell.execute_reply": "2025-02-19T13:22:26.586394Z"
    },
    "papermill": {
     "duration": 0.012084,
     "end_time": "2025-02-19T13:22:26.589493",
     "exception": false,
     "start_time": "2025-02-19T13:22:26.577409",
     "status": "completed"
    },
    "tags": []
   },
   "outputs": [],
   "source": [
    "#[1, 2, 3, 4] > 2"
   ]
  },
  {
   "cell_type": "markdown",
   "id": "a5d138a5",
   "metadata": {
    "papermill": {
     "duration": 0.004876,
     "end_time": "2025-02-19T13:22:26.599612",
     "exception": false,
     "start_time": "2025-02-19T13:22:26.594736",
     "status": "completed"
    },
    "tags": []
   },
   "source": [
    "R and Python have some libraries (like numpy and pandas) compare each element of the list to 2 (i.e. do an 'element-wise' comparison) and give us a list of booleans like `[False, False, True, True]`. \n",
    "\n",
    "Implement a function that reproduces this behaviour, returning a list of booleans corresponding to whether the corresponding element is greater than n."
   ]
  },
  {
   "cell_type": "code",
   "execution_count": 6,
   "id": "8228b9dc",
   "metadata": {
    "execution": {
     "iopub.execute_input": "2025-02-19T13:22:26.610912Z",
     "iopub.status.busy": "2025-02-19T13:22:26.610561Z",
     "iopub.status.idle": "2025-02-19T13:22:26.618916Z",
     "shell.execute_reply": "2025-02-19T13:22:26.617868Z"
    },
    "papermill": {
     "duration": 0.016118,
     "end_time": "2025-02-19T13:22:26.620680",
     "exception": false,
     "start_time": "2025-02-19T13:22:26.604562",
     "status": "completed"
    },
    "tags": []
   },
   "outputs": [
    {
     "data": {
      "application/javascript": [
       "parent.postMessage({\"jupyterEvent\": \"custom.exercise_interaction\", \"data\": {\"outcomeType\": 1, \"valueTowardsCompletion\": 0.25, \"interactionType\": 1, \"questionType\": 2, \"questionId\": \"2_ElementWiseComparison\", \"learnToolsVersion\": \"0.3.4\", \"failureMessage\": \"\", \"exceptionClass\": \"\", \"trace\": \"\"}}, \"*\")"
      ],
      "text/plain": [
       "<IPython.core.display.Javascript object>"
      ]
     },
     "metadata": {},
     "output_type": "display_data"
    },
    {
     "data": {
      "text/markdown": [
       "<span style=\"color:#33cc33\">Correct:</span> \n",
       "\n",
       "Here's one solution:\n",
       "```python\n",
       "def elementwise_greater_than(L, thresh):\n",
       "    res = []\n",
       "    for ele in L:\n",
       "        res.append(ele > thresh)\n",
       "    return res\n",
       "```\n",
       "\n",
       "And here's the list comprehension version:\n",
       "```python\n",
       "def elementwise_greater_than(L, thresh):\n",
       "    return [ele > thresh for ele in L]\n",
       "```\n"
      ],
      "text/plain": [
       "Correct: \n",
       "\n",
       "Here's one solution:\n",
       "```python\n",
       "def elementwise_greater_than(L, thresh):\n",
       "    res = []\n",
       "    for ele in L:\n",
       "        res.append(ele > thresh)\n",
       "    return res\n",
       "```\n",
       "\n",
       "And here's the list comprehension version:\n",
       "```python\n",
       "def elementwise_greater_than(L, thresh):\n",
       "    return [ele > thresh for ele in L]\n",
       "```"
      ]
     },
     "metadata": {},
     "output_type": "display_data"
    }
   ],
   "source": [
    "def elementwise_greater_than(L, thresh):\n",
    "    res = []\n",
    "    for ele in L:\n",
    "        res.append(ele > thresh)\n",
    "    return res\n",
    "    \"\"\"Return a list with the same length as L, where the value at index i is \n",
    "    True if L[i] is greater than thresh, and False otherwise.\n",
    "    \n",
    "    >>> elementwise_greater_than([1, 2, 3, 4], 2)\n",
    "    [False, False, True, True]\n",
    "    \"\"\"\n",
    "    pass\n",
    "\n",
    "# Check your answer\n",
    "q2.check()"
   ]
  },
  {
   "cell_type": "code",
   "execution_count": 7,
   "id": "e0772ef2",
   "metadata": {
    "execution": {
     "iopub.execute_input": "2025-02-19T13:22:26.632714Z",
     "iopub.status.busy": "2025-02-19T13:22:26.632361Z",
     "iopub.status.idle": "2025-02-19T13:22:26.636493Z",
     "shell.execute_reply": "2025-02-19T13:22:26.635170Z"
    },
    "papermill": {
     "duration": 0.011986,
     "end_time": "2025-02-19T13:22:26.638165",
     "exception": false,
     "start_time": "2025-02-19T13:22:26.626179",
     "status": "completed"
    },
    "tags": []
   },
   "outputs": [],
   "source": [
    "#q2.solution()"
   ]
  },
  {
   "cell_type": "markdown",
   "id": "963a2494",
   "metadata": {
    "papermill": {
     "duration": 0.005083,
     "end_time": "2025-02-19T13:22:26.649004",
     "exception": false,
     "start_time": "2025-02-19T13:22:26.643921",
     "status": "completed"
    },
    "tags": []
   },
   "source": [
    "# 3.\n",
    "\n",
    "Complete the body of the function below according to its docstring."
   ]
  },
  {
   "cell_type": "code",
   "execution_count": 8,
   "id": "818508a1",
   "metadata": {
    "execution": {
     "iopub.execute_input": "2025-02-19T13:22:26.660664Z",
     "iopub.status.busy": "2025-02-19T13:22:26.660306Z",
     "iopub.status.idle": "2025-02-19T13:22:26.668674Z",
     "shell.execute_reply": "2025-02-19T13:22:26.667568Z"
    },
    "papermill": {
     "duration": 0.016212,
     "end_time": "2025-02-19T13:22:26.670373",
     "exception": false,
     "start_time": "2025-02-19T13:22:26.654161",
     "status": "completed"
    },
    "tags": []
   },
   "outputs": [
    {
     "data": {
      "application/javascript": [
       "parent.postMessage({\"jupyterEvent\": \"custom.exercise_interaction\", \"data\": {\"outcomeType\": 1, \"valueTowardsCompletion\": 0.25, \"interactionType\": 1, \"questionType\": 2, \"questionId\": \"3_BoringMenu\", \"learnToolsVersion\": \"0.3.4\", \"failureMessage\": \"\", \"exceptionClass\": \"\", \"trace\": \"\"}}, \"*\")"
      ],
      "text/plain": [
       "<IPython.core.display.Javascript object>"
      ]
     },
     "metadata": {},
     "output_type": "display_data"
    },
    {
     "data": {
      "text/markdown": [
       "<span style=\"color:#33cc33\">Correct:</span> \n",
       "\n",
       "\n",
       "\n",
       "```python\n",
       "def menu_is_boring(meals):\n",
       "    # Iterate over all indices of the list, except the last one\n",
       "    for i in range(len(meals)-1):\n",
       "        if meals[i] == meals[i+1]:\n",
       "            return True\n",
       "    return False\n",
       "```\n",
       "\n",
       "The key to our solution is the call to `range`. `range(len(meals))` would give us all the indices of `meals`. If we had used that range, the last iteration of the loop would be comparing the last element to the element after it, which is... `IndexError`! `range(len(meals)-1)` gives us all the indices except the index of the last element.\n",
       "\n",
       "But don't we need to check if `meals` is empty? Turns out that `range(0) == range(-1)` - they're both empty. So if `meals` has length 0 or 1, we just won't do any iterations of our for loop.\n"
      ],
      "text/plain": [
       "Correct: \n",
       "\n",
       "\n",
       "\n",
       "```python\n",
       "def menu_is_boring(meals):\n",
       "    # Iterate over all indices of the list, except the last one\n",
       "    for i in range(len(meals)-1):\n",
       "        if meals[i] == meals[i+1]:\n",
       "            return True\n",
       "    return False\n",
       "```\n",
       "\n",
       "The key to our solution is the call to `range`. `range(len(meals))` would give us all the indices of `meals`. If we had used that range, the last iteration of the loop would be comparing the last element to the element after it, which is... `IndexError`! `range(len(meals)-1)` gives us all the indices except the index of the last element.\n",
       "\n",
       "But don't we need to check if `meals` is empty? Turns out that `range(0) == range(-1)` - they're both empty. So if `meals` has length 0 or 1, we just won't do any iterations of our for loop."
      ]
     },
     "metadata": {},
     "output_type": "display_data"
    }
   ],
   "source": [
    "def menu_is_boring(meals):\n",
    "    for i in range(len(meals)-1):\n",
    "        if meals[i] == meals[i+1]:\n",
    "            return True\n",
    "    return False\n",
    "    \"\"\"Given a list of meals served over some period of time, return True if the\n",
    "    same meal has ever been served two days in a row, and False otherwise.\n",
    "    \"\"\"\n",
    "    pass\n",
    "\n",
    "# Check your answer\n",
    "q3.check()"
   ]
  },
  {
   "cell_type": "code",
   "execution_count": 9,
   "id": "6843a647",
   "metadata": {
    "execution": {
     "iopub.execute_input": "2025-02-19T13:22:26.682741Z",
     "iopub.status.busy": "2025-02-19T13:22:26.682392Z",
     "iopub.status.idle": "2025-02-19T13:22:26.686302Z",
     "shell.execute_reply": "2025-02-19T13:22:26.685184Z"
    },
    "papermill": {
     "duration": 0.012102,
     "end_time": "2025-02-19T13:22:26.688056",
     "exception": false,
     "start_time": "2025-02-19T13:22:26.675954",
     "status": "completed"
    },
    "tags": []
   },
   "outputs": [],
   "source": [
    "#q3.hint()\n",
    "#q3.solution()"
   ]
  },
  {
   "cell_type": "markdown",
   "id": "77d59cb8",
   "metadata": {
    "papermill": {
     "duration": 0.005681,
     "end_time": "2025-02-19T13:22:26.699378",
     "exception": false,
     "start_time": "2025-02-19T13:22:26.693697",
     "status": "completed"
    },
    "tags": []
   },
   "source": [
    "# 4. <span title=\"A bit spicy\" style=\"color: darkgreen \">🌶️</span>\n",
    "\n",
    "Next to the Blackjack table, the Python Challenge Casino has a slot machine. You can get a result from the slot machine by calling `play_slot_machine()`. The number it returns is your winnings in dollars. Usually it returns 0.  But sometimes you'll get lucky and get a big payday. Try running it below:"
   ]
  },
  {
   "cell_type": "code",
   "execution_count": 10,
   "id": "01267663",
   "metadata": {
    "execution": {
     "iopub.execute_input": "2025-02-19T13:22:26.711770Z",
     "iopub.status.busy": "2025-02-19T13:22:26.711412Z",
     "iopub.status.idle": "2025-02-19T13:22:26.717190Z",
     "shell.execute_reply": "2025-02-19T13:22:26.716062Z"
    },
    "papermill": {
     "duration": 0.014195,
     "end_time": "2025-02-19T13:22:26.719062",
     "exception": false,
     "start_time": "2025-02-19T13:22:26.704867",
     "status": "completed"
    },
    "tags": []
   },
   "outputs": [
    {
     "data": {
      "text/plain": [
       "0"
      ]
     },
     "execution_count": 10,
     "metadata": {},
     "output_type": "execute_result"
    }
   ],
   "source": [
    "play_slot_machine()"
   ]
  },
  {
   "cell_type": "markdown",
   "id": "c67b1921",
   "metadata": {
    "papermill": {
     "duration": 0.005989,
     "end_time": "2025-02-19T13:22:26.731504",
     "exception": false,
     "start_time": "2025-02-19T13:22:26.725515",
     "status": "completed"
    },
    "tags": []
   },
   "source": [
    "By the way, did we mention that each play costs $1? Don't worry, we'll send you the bill later.\n",
    "\n",
    "On average, how much money can you expect to gain (or lose) every time you play the machine?  The casino keeps it a secret, but you can estimate the average value of each pull using a technique called the **Monte Carlo method**. To estimate the average outcome, we simulate the scenario many times, and return the average result.\n",
    "\n",
    "Complete the following function to calculate the average value per play of the slot machine."
   ]
  },
  {
   "cell_type": "code",
   "execution_count": 11,
   "id": "d11a6285",
   "metadata": {
    "execution": {
     "iopub.execute_input": "2025-02-19T13:22:26.745562Z",
     "iopub.status.busy": "2025-02-19T13:22:26.745207Z",
     "iopub.status.idle": "2025-02-19T13:22:26.750680Z",
     "shell.execute_reply": "2025-02-19T13:22:26.749502Z"
    },
    "papermill": {
     "duration": 0.014866,
     "end_time": "2025-02-19T13:22:26.752692",
     "exception": false,
     "start_time": "2025-02-19T13:22:26.737826",
     "status": "completed"
    },
    "tags": []
   },
   "outputs": [],
   "source": [
    "def estimate_average_slot_payout(n_runs):\n",
    "    # Play slot machine n_runs times, calculate payout of each\n",
    "    payouts = [play_slot_machine()-1 for i in range(n_runs)]\n",
    "    # Calculate the average value\n",
    "    avg_payout = sum(payouts) / n_runs\n",
    "    return avg_payout\n",
    "    \n",
    "    estimate_average_slot_payout(10000000)\n",
    "    \"\"\"Run the slot machine n_runs times and return the average net profit per run.\n",
    "    Example calls (note that return value is nondeterministic!):\n",
    "    >>> estimate_average_slot_payout(1)\n",
    "    -1\n",
    "    >>> estimate_average_slot_payout(1)\n",
    "    0.5\n",
    "    \"\"\"\n",
    "    pass"
   ]
  },
  {
   "cell_type": "markdown",
   "id": "03b53aa0",
   "metadata": {
    "papermill": {
     "duration": 0.006266,
     "end_time": "2025-02-19T13:22:26.765060",
     "exception": false,
     "start_time": "2025-02-19T13:22:26.758794",
     "status": "completed"
    },
    "tags": []
   },
   "source": [
    "When you think you know the expected value per spin, run the code cell below to view the solution and get credit for answering the question."
   ]
  },
  {
   "cell_type": "code",
   "execution_count": 12,
   "id": "e2c22fbc",
   "metadata": {
    "execution": {
     "iopub.execute_input": "2025-02-19T13:22:26.778499Z",
     "iopub.status.busy": "2025-02-19T13:22:26.778161Z",
     "iopub.status.idle": "2025-02-19T13:22:26.781994Z",
     "shell.execute_reply": "2025-02-19T13:22:26.781099Z"
    },
    "papermill": {
     "duration": 0.012408,
     "end_time": "2025-02-19T13:22:26.783719",
     "exception": false,
     "start_time": "2025-02-19T13:22:26.771311",
     "status": "completed"
    },
    "tags": []
   },
   "outputs": [],
   "source": [
    "# Check your answer (Run this code cell to receive credit!)\n",
    "#q4.solution()"
   ]
  },
  {
   "cell_type": "markdown",
   "id": "f2147182",
   "metadata": {
    "papermill": {
     "duration": 0.005379,
     "end_time": "2025-02-19T13:22:26.794869",
     "exception": false,
     "start_time": "2025-02-19T13:22:26.789490",
     "status": "completed"
    },
    "tags": []
   },
   "source": [
    "# Keep Going\n",
    "\n",
    "Many programmers report that dictionaries are their favorite data structure. You'll get to **[learn about them](https://www.kaggle.com/colinmorris/strings-and-dictionaries)** (as well as strings) in the next lesson."
   ]
  },
  {
   "cell_type": "markdown",
   "id": "63873f3b",
   "metadata": {
    "jupyter": {
     "source_hidden": true
    },
    "papermill": {
     "duration": 0.005238,
     "end_time": "2025-02-19T13:22:26.805821",
     "exception": false,
     "start_time": "2025-02-19T13:22:26.800583",
     "status": "completed"
    },
    "tags": []
   },
   "source": [
    "---\n",
    "\n",
    "\n",
    "\n",
    "\n",
    "*Have questions or comments? Visit the [course discussion forum](https://www.kaggle.com/learn/python/discussion) to chat with other learners.*"
   ]
  }
 ],
 "metadata": {
  "kaggle": {
   "accelerator": "none",
   "dataSources": [],
   "isGpuEnabled": false,
   "isInternetEnabled": false,
   "language": "python",
   "sourceType": "notebook"
  },
  "kernelspec": {
   "display_name": "Python 3",
   "language": "python",
   "name": "python3"
  },
  "language_info": {
   "codemirror_mode": {
    "name": "ipython",
    "version": 3
   },
   "file_extension": ".py",
   "mimetype": "text/x-python",
   "name": "python",
   "nbconvert_exporter": "python",
   "pygments_lexer": "ipython3",
   "version": "3.10.12"
  },
  "learntools_metadata": {
   "lesson_index": 4,
   "type": "exercise"
  },
  "papermill": {
   "default_parameters": {},
   "duration": 5.102023,
   "end_time": "2025-02-19T13:22:27.433262",
   "environment_variables": {},
   "exception": null,
   "input_path": "__notebook__.ipynb",
   "output_path": "__notebook__.ipynb",
   "parameters": {},
   "start_time": "2025-02-19T13:22:22.331239",
   "version": "2.6.0"
  }
 },
 "nbformat": 4,
 "nbformat_minor": 5
}
