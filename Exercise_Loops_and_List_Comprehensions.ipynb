{
  "metadata": {
    "kernelspec": {
      "display_name": "Python 3",
      "language": "python",
      "name": "python3"
    },
    "language_info": {
      "name": "python",
      "version": "3.10.12",
      "mimetype": "text/x-python",
      "codemirror_mode": {
        "name": "ipython",
        "version": 3
      },
      "pygments_lexer": "ipython3",
      "nbconvert_exporter": "python",
      "file_extension": ".py"
    },
    "learntools_metadata": {
      "lesson_index": 4,
      "type": "exercise"
    },
    "kaggle": {
      "accelerator": "none",
      "dataSources": [],
      "isInternetEnabled": false,
      "language": "python",
      "sourceType": "notebook",
      "isGpuEnabled": false
    },
    "colab": {
      "name": "Exercise: Loops and List Comprehensions",
      "provenance": []
    }
  },
  "nbformat_minor": 0,
  "nbformat": 4,
  "cells": [
    {
      "cell_type": "markdown",
      "source": [
        "**This notebook is an exercise in the [Python](https://www.kaggle.com/learn/python) course.  You can reference the tutorial at [this link](https://www.kaggle.com/colinmorris/loops-and-list-comprehensions).**\n",
        "\n",
        "---\n"
      ],
      "metadata": {
        "id": "NmVeSstyjdFR"
      }
    },
    {
      "cell_type": "markdown",
      "source": [
        "With all you've learned, you can start writing much more interesting programs. See if you can solve the problems below.\n",
        "\n",
        "As always, run the setup code below before working on the questions."
      ],
      "metadata": {
        "id": "PWYI6jRDjdFT"
      }
    },
    {
      "cell_type": "code",
      "source": [
        "from learntools.core import binder; binder.bind(globals())\n",
        "from learntools.python.ex5 import *\n",
        "print('Setup complete.')"
      ],
      "metadata": {
        "trusted": true,
        "execution": {
          "iopub.status.busy": "2025-02-19T13:09:00.358042Z",
          "iopub.execute_input": "2025-02-19T13:09:00.358204Z",
          "iopub.status.idle": "2025-02-19T13:09:02.028413Z",
          "shell.execute_reply.started": "2025-02-19T13:09:00.358187Z",
          "shell.execute_reply": "2025-02-19T13:09:02.02693Z"
        },
        "id": "YULsAacmjdFU"
      },
      "outputs": [],
      "execution_count": null
    },
    {
      "cell_type": "markdown",
      "source": [
        "# 1.\n",
        "\n",
        "Have you ever felt debugging involved a bit of luck? The following program has a bug. Try to identify the bug and fix it."
      ],
      "metadata": {
        "id": "2fCKlGAujdFV"
      }
    },
    {
      "cell_type": "code",
      "source": [
        "def has_lucky_number(nums):\n",
        "    \"\"\"Return whether the given list of numbers is lucky. A lucky list contains\n",
        "    at least one number divisible by 7.\n",
        "    \"\"\"\n",
        "    for num in nums:\n",
        "        if num % 7 == 0:\n",
        "            return True\n",
        "        else:\n",
        "            return False"
      ],
      "metadata": {
        "trusted": true,
        "execution": {
          "iopub.status.busy": "2025-02-19T13:09:30.032375Z",
          "iopub.execute_input": "2025-02-19T13:09:30.032721Z",
          "iopub.status.idle": "2025-02-19T13:09:30.037798Z",
          "shell.execute_reply.started": "2025-02-19T13:09:30.032696Z",
          "shell.execute_reply": "2025-02-19T13:09:30.036462Z"
        },
        "id": "m2-H9_jwjdFV"
      },
      "outputs": [],
      "execution_count": null
    },
    {
      "cell_type": "markdown",
      "source": [
        "Try to identify the bug and fix it in the cell below:"
      ],
      "metadata": {
        "id": "AdnqINh9jdFW"
      }
    },
    {
      "cell_type": "code",
      "source": [
        "def has_lucky_number(nums):\n",
        "    \"\"\"Return whether the given list of numbers is lucky. A lucky list contains\n",
        "    at least one number divisible by 7.\n",
        "    \"\"\"\n",
        "    for num in nums:\n",
        "        print()\n",
        "        if num % 7 == 0:\n",
        "            return True\n",
        "\n",
        "    return False\n",
        "\n",
        "# Check your answer\n",
        "q1.check()"
      ],
      "metadata": {
        "trusted": true,
        "execution": {
          "iopub.status.busy": "2025-02-19T13:11:29.416972Z",
          "iopub.execute_input": "2025-02-19T13:11:29.417262Z",
          "iopub.status.idle": "2025-02-19T13:11:29.426788Z",
          "shell.execute_reply.started": "2025-02-19T13:11:29.417242Z",
          "shell.execute_reply": "2025-02-19T13:11:29.425763Z"
        },
        "id": "3TN7HI8sjdFX"
      },
      "outputs": [],
      "execution_count": null
    },
    {
      "cell_type": "code",
      "source": [
        "#q1.hint()\n",
        "#q1.solution()"
      ],
      "metadata": {
        "trusted": true,
        "execution": {
          "iopub.status.busy": "2025-02-19T13:11:14.809901Z",
          "iopub.execute_input": "2025-02-19T13:11:14.81028Z",
          "iopub.status.idle": "2025-02-19T13:11:14.81377Z",
          "shell.execute_reply.started": "2025-02-19T13:11:14.810255Z",
          "shell.execute_reply": "2025-02-19T13:11:14.812822Z"
        },
        "id": "mi1KpV8BjdFX"
      },
      "outputs": [],
      "execution_count": null
    },
    {
      "cell_type": "markdown",
      "source": [
        "# 2.\n",
        "Look at the Python expression below. What do you think we'll get when we run it? When you've made your prediction, uncomment the code and run the cell to see if you were right."
      ],
      "metadata": {
        "id": "1owH2AF3jdFX"
      }
    },
    {
      "cell_type": "code",
      "source": [
        "#[1, 2, 3, 4] > 2"
      ],
      "metadata": {
        "trusted": true,
        "execution": {
          "iopub.status.busy": "2025-02-19T13:12:32.5251Z",
          "iopub.execute_input": "2025-02-19T13:12:32.525416Z",
          "iopub.status.idle": "2025-02-19T13:12:32.529297Z",
          "shell.execute_reply.started": "2025-02-19T13:12:32.525393Z",
          "shell.execute_reply": "2025-02-19T13:12:32.528106Z"
        },
        "id": "bfwnM6najdFY"
      },
      "outputs": [],
      "execution_count": null
    },
    {
      "cell_type": "markdown",
      "source": [
        "R and Python have some libraries (like numpy and pandas) compare each element of the list to 2 (i.e. do an 'element-wise' comparison) and give us a list of booleans like `[False, False, True, True]`.\n",
        "\n",
        "Implement a function that reproduces this behaviour, returning a list of booleans corresponding to whether the corresponding element is greater than n."
      ],
      "metadata": {
        "id": "zE31r2kQjdFY"
      }
    },
    {
      "cell_type": "code",
      "source": [
        "def elementwise_greater_than(L, thresh):\n",
        "    res = []\n",
        "    for ele in L:\n",
        "        res.append(ele > thresh)\n",
        "    return res\n",
        "    \"\"\"Return a list with the same length as L, where the value at index i is\n",
        "    True if L[i] is greater than thresh, and False otherwise.\n",
        "\n",
        "    >>> elementwise_greater_than([1, 2, 3, 4], 2)\n",
        "    [False, False, True, True]\n",
        "    \"\"\"\n",
        "    pass\n",
        "\n",
        "# Check your answer\n",
        "q2.check()"
      ],
      "metadata": {
        "trusted": true,
        "execution": {
          "iopub.status.busy": "2025-02-19T13:14:23.728517Z",
          "iopub.execute_input": "2025-02-19T13:14:23.728953Z",
          "iopub.status.idle": "2025-02-19T13:14:23.736107Z",
          "shell.execute_reply.started": "2025-02-19T13:14:23.728897Z",
          "shell.execute_reply": "2025-02-19T13:14:23.735231Z"
        },
        "id": "Zboglz22jdFY"
      },
      "outputs": [],
      "execution_count": null
    },
    {
      "cell_type": "code",
      "source": [
        "#q2.solution()"
      ],
      "metadata": {
        "trusted": true,
        "execution": {
          "iopub.status.busy": "2025-02-19T13:13:15.076663Z",
          "iopub.execute_input": "2025-02-19T13:13:15.076988Z",
          "iopub.status.idle": "2025-02-19T13:13:15.084841Z",
          "shell.execute_reply.started": "2025-02-19T13:13:15.076962Z",
          "shell.execute_reply": "2025-02-19T13:13:15.08358Z"
        },
        "id": "Hc2pu-XMjdFY"
      },
      "outputs": [],
      "execution_count": null
    },
    {
      "cell_type": "markdown",
      "source": [
        "# 3.\n",
        "\n",
        "Complete the body of the function below according to its docstring."
      ],
      "metadata": {
        "id": "igOYCFkajdFZ"
      }
    },
    {
      "cell_type": "code",
      "source": [
        "def menu_is_boring(meals):\n",
        "    for i in range(len(meals)-1):\n",
        "        if meals[i] == meals[i+1]:\n",
        "            return True\n",
        "    return False\n",
        "    \"\"\"Given a list of meals served over some period of time, return True if the\n",
        "    same meal has ever been served two days in a row, and False otherwise.\n",
        "    \"\"\"\n",
        "    pass\n",
        "\n",
        "# Check your answer\n",
        "q3.check()"
      ],
      "metadata": {
        "trusted": true,
        "execution": {
          "iopub.status.busy": "2025-02-19T13:16:53.017898Z",
          "iopub.execute_input": "2025-02-19T13:16:53.018222Z",
          "iopub.status.idle": "2025-02-19T13:16:53.026065Z",
          "shell.execute_reply.started": "2025-02-19T13:16:53.018185Z",
          "shell.execute_reply": "2025-02-19T13:16:53.024863Z"
        },
        "id": "SFq4ZUhnjdFZ"
      },
      "outputs": [],
      "execution_count": null
    },
    {
      "cell_type": "code",
      "source": [
        "#q3.hint()\n",
        "#q3.solution()"
      ],
      "metadata": {
        "trusted": true,
        "execution": {
          "iopub.status.busy": "2025-02-19T13:16:59.223731Z",
          "iopub.execute_input": "2025-02-19T13:16:59.224039Z",
          "iopub.status.idle": "2025-02-19T13:16:59.227395Z",
          "shell.execute_reply.started": "2025-02-19T13:16:59.224018Z",
          "shell.execute_reply": "2025-02-19T13:16:59.226474Z"
        },
        "id": "eiexMgLYjdFZ"
      },
      "outputs": [],
      "execution_count": null
    },
    {
      "cell_type": "markdown",
      "source": [
        "# 4. <span title=\"A bit spicy\" style=\"color: darkgreen \">🌶️</span>\n",
        "\n",
        "Next to the Blackjack table, the Python Challenge Casino has a slot machine. You can get a result from the slot machine by calling `play_slot_machine()`. The number it returns is your winnings in dollars. Usually it returns 0.  But sometimes you'll get lucky and get a big payday. Try running it below:"
      ],
      "metadata": {
        "id": "95-259ZSjdFZ"
      }
    },
    {
      "cell_type": "code",
      "source": [
        "play_slot_machine()"
      ],
      "metadata": {
        "trusted": true,
        "execution": {
          "iopub.status.busy": "2025-02-19T13:17:16.115153Z",
          "iopub.execute_input": "2025-02-19T13:17:16.115474Z",
          "iopub.status.idle": "2025-02-19T13:17:16.120204Z",
          "shell.execute_reply.started": "2025-02-19T13:17:16.115451Z",
          "shell.execute_reply": "2025-02-19T13:17:16.119415Z"
        },
        "id": "kZZdy5R0jdFa"
      },
      "outputs": [],
      "execution_count": null
    },
    {
      "cell_type": "markdown",
      "source": [
        "By the way, did we mention that each play costs $1? Don't worry, we'll send you the bill later.\n",
        "\n",
        "On average, how much money can you expect to gain (or lose) every time you play the machine?  The casino keeps it a secret, but you can estimate the average value of each pull using a technique called the **Monte Carlo method**. To estimate the average outcome, we simulate the scenario many times, and return the average result.\n",
        "\n",
        "Complete the following function to calculate the average value per play of the slot machine."
      ],
      "metadata": {
        "id": "Z9WRheqzjdFa"
      }
    },
    {
      "cell_type": "code",
      "source": [
        "def estimate_average_slot_payout(n_runs):\n",
        "    # Play slot machine n_runs times, calculate payout of each\n",
        "    payouts = [play_slot_machine()-1 for i in range(n_runs)]\n",
        "    # Calculate the average value\n",
        "    avg_payout = sum(payouts) / n_runs\n",
        "    return avg_payout\n",
        "\n",
        "    estimate_average_slot_payout(10000000)\n",
        "    \"\"\"Run the slot machine n_runs times and return the average net profit per run.\n",
        "    Example calls (note that return value is nondeterministic!):\n",
        "    >>> estimate_average_slot_payout(1)\n",
        "    -1\n",
        "    >>> estimate_average_slot_payout(1)\n",
        "    0.5\n",
        "    \"\"\"\n",
        "    pass"
      ],
      "metadata": {
        "trusted": true,
        "execution": {
          "iopub.status.busy": "2025-02-19T13:19:38.340254Z",
          "iopub.execute_input": "2025-02-19T13:19:38.340625Z",
          "iopub.status.idle": "2025-02-19T13:19:38.344842Z",
          "shell.execute_reply.started": "2025-02-19T13:19:38.340599Z",
          "shell.execute_reply": "2025-02-19T13:19:38.34377Z"
        },
        "id": "yUy0cDg7jdFa"
      },
      "outputs": [],
      "execution_count": null
    },
    {
      "cell_type": "markdown",
      "source": [
        "When you think you know the expected value per spin, run the code cell below to view the solution and get credit for answering the question."
      ],
      "metadata": {
        "id": "YNERWbVfjdFa"
      }
    },
    {
      "cell_type": "code",
      "source": [
        "# Check your answer (Run this code cell to receive credit!)\n",
        "#q4.solution()"
      ],
      "metadata": {
        "trusted": true,
        "execution": {
          "iopub.status.busy": "2025-02-19T13:19:47.488134Z",
          "iopub.execute_input": "2025-02-19T13:19:47.488441Z",
          "iopub.status.idle": "2025-02-19T13:19:47.491644Z",
          "shell.execute_reply.started": "2025-02-19T13:19:47.488418Z",
          "shell.execute_reply": "2025-02-19T13:19:47.490821Z"
        },
        "id": "CTseHw74jdFb"
      },
      "outputs": [],
      "execution_count": null
    },
    {
      "cell_type": "markdown",
      "source": [
        "# Keep Going\n",
        "\n",
        "Many programmers report that dictionaries are their favorite data structure. You'll get to **[learn about them](https://www.kaggle.com/colinmorris/strings-and-dictionaries)** (as well as strings) in the next lesson."
      ],
      "metadata": {
        "id": "p_DR0H3njdFb"
      }
    },
    {
      "cell_type": "markdown",
      "source": [
        "---\n",
        "\n",
        "\n",
        "\n",
        "\n",
        "*Have questions or comments? Visit the [course discussion forum](https://www.kaggle.com/learn/python/discussion) to chat with other learners.*"
      ],
      "metadata": {
        "jupyter": {
          "source_hidden": true
        },
        "id": "9TJ1ijjFjdFb"
      }
    }
  ]
}