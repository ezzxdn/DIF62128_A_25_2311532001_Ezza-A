{
  "metadata": {
    "kernelspec": {
      "display_name": "Python 3",
      "language": "python",
      "name": "python3"
    },
    "language_info": {
      "name": "python",
      "version": "3.10.12",
      "mimetype": "text/x-python",
      "codemirror_mode": {
        "name": "ipython",
        "version": 3
      },
      "pygments_lexer": "ipython3",
      "nbconvert_exporter": "python",
      "file_extension": ".py"
    },
    "learntools_metadata": {
      "lesson_index": 2,
      "type": "exercise"
    },
    "kaggle": {
      "accelerator": "none",
      "dataSources": [],
      "isInternetEnabled": false,
      "language": "python",
      "sourceType": "notebook",
      "isGpuEnabled": false
    },
    "colab": {
      "name": "Exercise: Booleans and Conditionals",
      "provenance": []
    }
  },
  "nbformat_minor": 0,
  "nbformat": 4,
  "cells": [
    {
      "cell_type": "markdown",
      "source": [
        "**This notebook is an exercise in the [Python](https://www.kaggle.com/learn/python) course.  You can reference the tutorial at [this link](https://www.kaggle.com/colinmorris/booleans-and-conditionals).**\n",
        "\n",
        "---\n"
      ],
      "metadata": {
        "id": "Gjl5mQrxjNoM"
      }
    },
    {
      "cell_type": "markdown",
      "source": [
        "In this exercise, you'll put to work what you have learned about booleans and conditionals.\n",
        "\n",
        "To get started, **run the setup code below** before writing your own code (and if you leave this notebook and come back later, don't forget to run the setup code again)."
      ],
      "metadata": {
        "id": "21vyIzG_jNoP"
      }
    },
    {
      "cell_type": "code",
      "source": [
        "from learntools.core import binder; binder.bind(globals())\n",
        "from learntools.python.ex3 import *\n",
        "print('Setup complete.')"
      ],
      "metadata": {
        "trusted": true,
        "execution": {
          "iopub.status.busy": "2025-02-16T06:51:23.96508Z",
          "iopub.execute_input": "2025-02-16T06:51:23.965362Z",
          "iopub.status.idle": "2025-02-16T06:51:24.904893Z",
          "shell.execute_reply.started": "2025-02-16T06:51:23.965334Z",
          "shell.execute_reply": "2025-02-16T06:51:24.903582Z"
        },
        "id": "mCMBugKxjNoP",
        "outputId": "eb64396a-90a3-4d4a-ae90-266a2b525575"
      },
      "outputs": [
        {
          "name": "stdout",
          "text": "Setup complete.\n",
          "output_type": "stream"
        }
      ],
      "execution_count": null
    },
    {
      "cell_type": "markdown",
      "source": [
        "# 1.\n",
        "\n",
        "Many programming languages have [`sign`](https://en.wikipedia.org/wiki/Sign_function) available as a built-in function. Python doesn't, but we can define our own!\n",
        "\n",
        "In the cell below, define a function called `sign` which takes a numerical argument and returns -1 if it's negative, 1 if it's positive, and 0 if it's 0."
      ],
      "metadata": {
        "id": "aniccRdSjNoR"
      }
    },
    {
      "cell_type": "code",
      "source": [
        "# Your code goes here. Define a function called 'sign'\n",
        "def sign(x):\n",
        "    if x < 0:\n",
        "        return -1\n",
        "    elif x > 0:\n",
        "        return 1\n",
        "    else:\n",
        "        return 0\n",
        "\n",
        "# Check your answer\n",
        "q1.check()"
      ],
      "metadata": {
        "trusted": true,
        "execution": {
          "iopub.status.busy": "2025-02-16T07:00:09.506543Z",
          "iopub.execute_input": "2025-02-16T07:00:09.506909Z",
          "iopub.status.idle": "2025-02-16T07:00:09.514683Z",
          "shell.execute_reply.started": "2025-02-16T07:00:09.506883Z",
          "shell.execute_reply": "2025-02-16T07:00:09.513877Z"
        },
        "id": "vo55ZaOKjNoR",
        "outputId": "29463de8-320c-4a9a-87ae-af173470fa39"
      },
      "outputs": [
        {
          "output_type": "display_data",
          "data": {
            "text/plain": "<IPython.core.display.Javascript object>",
            "application/javascript": "parent.postMessage({\"jupyterEvent\": \"custom.exercise_interaction\", \"data\": {\"outcomeType\": 1, \"valueTowardsCompletion\": 0.2, \"interactionType\": 1, \"questionType\": 2, \"questionId\": \"1_SignFunctionProblem\", \"learnToolsVersion\": \"0.3.4\", \"failureMessage\": \"\", \"exceptionClass\": \"\", \"trace\": \"\"}}, \"*\")"
          },
          "metadata": {}
        },
        {
          "output_type": "display_data",
          "data": {
            "text/plain": "Correct",
            "text/markdown": "<span style=\"color:#33cc33\">Correct</span>"
          },
          "metadata": {}
        }
      ],
      "execution_count": null
    },
    {
      "cell_type": "code",
      "source": [
        "#q1.solution()"
      ],
      "metadata": {
        "trusted": true,
        "execution": {
          "iopub.status.busy": "2025-02-16T07:00:18.542665Z",
          "iopub.execute_input": "2025-02-16T07:00:18.543069Z",
          "iopub.status.idle": "2025-02-16T07:00:18.546983Z",
          "shell.execute_reply.started": "2025-02-16T07:00:18.543043Z",
          "shell.execute_reply": "2025-02-16T07:00:18.546029Z"
        },
        "id": "lhUGo1RojNoS"
      },
      "outputs": [],
      "execution_count": null
    },
    {
      "cell_type": "markdown",
      "source": [
        "# 2.\n",
        "\n",
        "We've decided to add \"logging\" to our `to_smash` function from the previous exercise."
      ],
      "metadata": {
        "id": "mx2bOcIojNoS"
      }
    },
    {
      "cell_type": "code",
      "source": [
        "def to_smash(total_candies):\n",
        "    \"\"\"Return the number of leftover candies that must be smashed after distributing\n",
        "    the given number of candies evenly between 3 friends.\n",
        "\n",
        "    >>> to_smash(91)\n",
        "    1\n",
        "    \"\"\"\n",
        "    print(\"Splitting\", total_candies, \"candies\")\n",
        "    return total_candies % 3\n",
        "\n",
        "to_smash(91)"
      ],
      "metadata": {
        "trusted": true,
        "execution": {
          "iopub.status.busy": "2025-02-16T07:00:50.105031Z",
          "iopub.execute_input": "2025-02-16T07:00:50.105363Z",
          "iopub.status.idle": "2025-02-16T07:00:50.113165Z",
          "shell.execute_reply.started": "2025-02-16T07:00:50.105341Z",
          "shell.execute_reply": "2025-02-16T07:00:50.112389Z"
        },
        "id": "C7Uqe1kIjNoT",
        "outputId": "7b2d4c5f-75ac-4399-9a00-0a421f2bf877"
      },
      "outputs": [
        {
          "name": "stdout",
          "text": "Splitting 91 candies\n",
          "output_type": "stream"
        },
        {
          "execution_count": 15,
          "output_type": "execute_result",
          "data": {
            "text/plain": "1"
          },
          "metadata": {}
        }
      ],
      "execution_count": null
    },
    {
      "cell_type": "markdown",
      "source": [
        "What happens if we call it with `total_candies = 1`?"
      ],
      "metadata": {
        "id": "UI6GDY0pjNoT"
      }
    },
    {
      "cell_type": "code",
      "source": [
        "to_smash(1)"
      ],
      "metadata": {
        "trusted": true,
        "execution": {
          "iopub.status.busy": "2025-02-16T07:01:05.59155Z",
          "iopub.execute_input": "2025-02-16T07:01:05.591926Z",
          "iopub.status.idle": "2025-02-16T07:01:05.598401Z",
          "shell.execute_reply.started": "2025-02-16T07:01:05.591897Z",
          "shell.execute_reply": "2025-02-16T07:01:05.597353Z"
        },
        "id": "aoizy-r9jNoU",
        "outputId": "b1672f33-3ed0-4d41-9807-9efde45f8668"
      },
      "outputs": [
        {
          "name": "stdout",
          "text": "Splitting 1 candies\n",
          "output_type": "stream"
        },
        {
          "execution_count": 16,
          "output_type": "execute_result",
          "data": {
            "text/plain": "1"
          },
          "metadata": {}
        }
      ],
      "execution_count": null
    },
    {
      "cell_type": "markdown",
      "source": [
        "That isn't great grammar!\n",
        "\n",
        "Modify the definition in the cell below to correct the grammar of our print statement. (If there's only one candy, we should use the singular \"candy\" instead of the plural \"candies\")"
      ],
      "metadata": {
        "id": "0VIA9eEnjNoU"
      }
    },
    {
      "cell_type": "code",
      "source": [
        "def to_smash(total_candies):\n",
        "    \"\"\"Return the number of leftover candies that must be smashed after distributing\n",
        "    the given number of candies evenly between 3 friends.\n",
        "\n",
        "    >>> to_smash(91)\n",
        "    1\n",
        "    \"\"\"\n",
        "    if total_candies > 1:\n",
        "        print(\"Splitting\", total_candies, \"candies\")\n",
        "        return total_candies % 3\n",
        "    elif total_candies == 1:\n",
        "        print(\"Splitting\", total_candies, \"candy\")\n",
        "        return total_candies % 3\n",
        "\n",
        "to_smash(91)\n",
        "to_smash(1)"
      ],
      "metadata": {
        "trusted": true,
        "execution": {
          "iopub.status.busy": "2025-02-16T07:04:19.752088Z",
          "iopub.execute_input": "2025-02-16T07:04:19.752441Z",
          "iopub.status.idle": "2025-02-16T07:04:19.761738Z",
          "shell.execute_reply.started": "2025-02-16T07:04:19.752414Z",
          "shell.execute_reply": "2025-02-16T07:04:19.760633Z"
        },
        "id": "ZrByZsgVjNoV",
        "outputId": "ce4f25cc-5e9f-49be-c0c7-f89b5dab4ef2"
      },
      "outputs": [
        {
          "name": "stdout",
          "text": "Splitting 91 candies\nSplitting 1 candy\n",
          "output_type": "stream"
        },
        {
          "execution_count": 20,
          "output_type": "execute_result",
          "data": {
            "text/plain": "1"
          },
          "metadata": {}
        }
      ],
      "execution_count": null
    },
    {
      "cell_type": "code",
      "source": [
        "# Check your answer (Run this code cell to receive credit!)\n",
        "q2.solution()"
      ],
      "metadata": {
        "trusted": true,
        "execution": {
          "iopub.status.busy": "2025-02-16T07:04:25.431054Z",
          "iopub.execute_input": "2025-02-16T07:04:25.431406Z",
          "iopub.status.idle": "2025-02-16T07:04:25.439139Z",
          "shell.execute_reply.started": "2025-02-16T07:04:25.43138Z",
          "shell.execute_reply": "2025-02-16T07:04:25.438134Z"
        },
        "id": "EXOl2zgtjNoV",
        "outputId": "3f893503-28c7-4e55-db05-0c3f45e566fb"
      },
      "outputs": [
        {
          "output_type": "display_data",
          "data": {
            "text/plain": "<IPython.core.display.Javascript object>",
            "application/javascript": "parent.postMessage({\"jupyterEvent\": \"custom.exercise_interaction\", \"data\": {\"interactionType\": 3, \"questionType\": 4, \"questionId\": \"2_PluralizationProblem\", \"learnToolsVersion\": \"0.3.4\", \"valueTowardsCompletion\": 0.0, \"failureMessage\": \"\", \"exceptionClass\": \"\", \"trace\": \"\", \"outcomeType\": 4}}, \"*\")"
          },
          "metadata": {}
        },
        {
          "output_type": "display_data",
          "data": {
            "text/plain": "Solution: A straightforward (and totally fine) solution is to replace the original `print` call with:\n\n```python\nif total_candies == 1:\n    print(\"Splitting 1 candy\")\nelse:\n    print(\"Splitting\", total_candies, \"candies\")\n```\n\nHere's a slightly more succinct solution using a conditional expression:\n\n```python\nprint(\"Splitting\", total_candies, \"candy\" if total_candies == 1 else \"candies\")\n```",
            "text/markdown": "<span style=\"color:#33cc99\">Solution:</span> A straightforward (and totally fine) solution is to replace the original `print` call with:\n\n```python\nif total_candies == 1:\n    print(\"Splitting 1 candy\")\nelse:\n    print(\"Splitting\", total_candies, \"candies\")\n```\n\nHere's a slightly more succinct solution using a conditional expression:\n\n```python\nprint(\"Splitting\", total_candies, \"candy\" if total_candies == 1 else \"candies\")\n```"
          },
          "metadata": {}
        }
      ],
      "execution_count": null
    },
    {
      "cell_type": "markdown",
      "source": [
        "To get credit for completing this problem, and to see the official answer, run the code cell below."
      ],
      "metadata": {
        "id": "gHMNTG3zjNoW"
      }
    },
    {
      "cell_type": "markdown",
      "source": [
        "# 3. <span title=\"A bit spicy\" style=\"color: darkgreen \">🌶️</span>\n",
        "\n",
        "In the tutorial, we talked about deciding whether we're prepared for the weather. I said that I'm safe from today's weather if...\n",
        "- I have an umbrella...\n",
        "- or if the rain isn't too heavy and I have a hood...\n",
        "- otherwise, I'm still fine unless it's raining *and* it's a workday\n",
        "\n",
        "The function below uses our first attempt at turning this logic into a Python expression. I claimed that there was a bug in that code. Can you find it?\n",
        "\n",
        "To prove that `prepared_for_weather` is buggy, come up with a set of inputs where either:\n",
        "- the function returns `False` (but should have returned `True`), or\n",
        "- the function returned `True` (but should have returned `False`).\n",
        "\n",
        "To get credit for completing this question, your code should return a <font color='#33cc33'>Correct</font> result."
      ],
      "metadata": {
        "id": "gEd15v39jNoW"
      }
    },
    {
      "cell_type": "code",
      "source": [
        "def prepared_for_weather(have_umbrella, rain_level, have_hood, is_workday):\n",
        "    # Don't change this code. Our goal is just to find the bug, not fix it!\n",
        "    return have_umbrella or rain_level < 5 and have_hood or not rain_level > 0 and is_workday\n",
        "\n",
        "# Change the values of these inputs so they represent a case where prepared_for_weather\n",
        "# returns the wrong answer.\n",
        "have_umbrella = False\n",
        "rain_level = 0.0\n",
        "have_hood = False\n",
        "is_workday = False\n",
        "\n",
        "# Check what the function returns given the current values of the variables above\n",
        "actual = prepared_for_weather(have_umbrella, rain_level, have_hood, is_workday)\n",
        "print(actual)\n",
        "\n",
        "# Check your answer\n",
        "q3.check()"
      ],
      "metadata": {
        "trusted": true,
        "execution": {
          "iopub.status.busy": "2025-02-16T07:07:07.799597Z",
          "iopub.execute_input": "2025-02-16T07:07:07.799988Z",
          "iopub.status.idle": "2025-02-16T07:07:07.809956Z",
          "shell.execute_reply.started": "2025-02-16T07:07:07.799961Z",
          "shell.execute_reply": "2025-02-16T07:07:07.809065Z"
        },
        "id": "0tcm_Jr_jNoX",
        "outputId": "e608e101-aca6-49ed-fd78-8503949d2475"
      },
      "outputs": [
        {
          "name": "stdout",
          "text": "False\n",
          "output_type": "stream"
        },
        {
          "output_type": "display_data",
          "data": {
            "text/plain": "<IPython.core.display.Javascript object>",
            "application/javascript": "parent.postMessage({\"jupyterEvent\": \"custom.exercise_interaction\", \"data\": {\"outcomeType\": 1, \"valueTowardsCompletion\": 0.2, \"interactionType\": 1, \"questionType\": 1, \"questionId\": \"3_WeatherDebug\", \"learnToolsVersion\": \"0.3.4\", \"failureMessage\": \"\", \"exceptionClass\": \"\", \"trace\": \"\"}}, \"*\")"
          },
          "metadata": {}
        },
        {
          "output_type": "display_data",
          "data": {
            "text/plain": "Correct: \n\nOne example of a failing test case is:\n\n```python\nhave_umbrella = False\nrain_level = 0.0\nhave_hood = False\nis_workday = False\n```\n\nClearly we're prepared for the weather in this case. It's not raining. Not only that, it's not a workday, so we don't even need to leave the house! But our function will return False on these inputs.\n\nThe key problem is that Python implictly parenthesizes the last part as:\n\n```python\n(not (rain_level > 0)) and is_workday\n```\n\nWhereas what we were trying to express would look more like:\n\n```python\nnot (rain_level > 0 and is_workday)\n```",
            "text/markdown": "<span style=\"color:#33cc33\">Correct:</span> \n\nOne example of a failing test case is:\n\n```python\nhave_umbrella = False\nrain_level = 0.0\nhave_hood = False\nis_workday = False\n```\n\nClearly we're prepared for the weather in this case. It's not raining. Not only that, it's not a workday, so we don't even need to leave the house! But our function will return False on these inputs.\n\nThe key problem is that Python implictly parenthesizes the last part as:\n\n```python\n(not (rain_level > 0)) and is_workday\n```\n\nWhereas what we were trying to express would look more like:\n\n```python\nnot (rain_level > 0 and is_workday)\n```\n"
          },
          "metadata": {}
        }
      ],
      "execution_count": null
    },
    {
      "cell_type": "code",
      "source": [
        "#q3.hint()\n",
        "q3.solution()"
      ],
      "metadata": {
        "trusted": true,
        "execution": {
          "iopub.status.busy": "2025-02-16T07:06:36.440676Z",
          "iopub.execute_input": "2025-02-16T07:06:36.44105Z",
          "iopub.status.idle": "2025-02-16T07:06:36.449081Z",
          "shell.execute_reply.started": "2025-02-16T07:06:36.441027Z",
          "shell.execute_reply": "2025-02-16T07:06:36.447954Z"
        },
        "id": "fuexG5UkjNoX",
        "outputId": "c86e824b-2a9d-4ef6-b3ec-20ed551dd45e"
      },
      "outputs": [
        {
          "output_type": "display_data",
          "data": {
            "text/plain": "<IPython.core.display.Javascript object>",
            "application/javascript": "parent.postMessage({\"jupyterEvent\": \"custom.exercise_interaction\", \"data\": {\"interactionType\": 3, \"questionType\": 1, \"questionId\": \"3_WeatherDebug\", \"learnToolsVersion\": \"0.3.4\", \"valueTowardsCompletion\": 0.0, \"failureMessage\": \"\", \"exceptionClass\": \"\", \"trace\": \"\", \"outcomeType\": 4}}, \"*\")"
          },
          "metadata": {}
        },
        {
          "output_type": "display_data",
          "data": {
            "text/plain": "Solution: One example of a failing test case is:\n\n```python\nhave_umbrella = False\nrain_level = 0.0\nhave_hood = False\nis_workday = False\n```\n\nClearly we're prepared for the weather in this case. It's not raining. Not only that, it's not a workday, so we don't even need to leave the house! But our function will return False on these inputs.\n\nThe key problem is that Python implictly parenthesizes the last part as:\n\n```python\n(not (rain_level > 0)) and is_workday\n```\n\nWhereas what we were trying to express would look more like:\n\n```python\nnot (rain_level > 0 and is_workday)\n```",
            "text/markdown": "<span style=\"color:#33cc99\">Solution:</span> One example of a failing test case is:\n\n```python\nhave_umbrella = False\nrain_level = 0.0\nhave_hood = False\nis_workday = False\n```\n\nClearly we're prepared for the weather in this case. It's not raining. Not only that, it's not a workday, so we don't even need to leave the house! But our function will return False on these inputs.\n\nThe key problem is that Python implictly parenthesizes the last part as:\n\n```python\n(not (rain_level > 0)) and is_workday\n```\n\nWhereas what we were trying to express would look more like:\n\n```python\nnot (rain_level > 0 and is_workday)\n```\n"
          },
          "metadata": {}
        }
      ],
      "execution_count": null
    },
    {
      "cell_type": "markdown",
      "source": [
        "# 4.\n",
        "\n",
        "The function `is_negative` below is implemented correctly - it returns True if the given number is negative and False otherwise.\n",
        "\n",
        "However, it's more verbose than it needs to be. We can actually reduce the number of lines of code in this function by *75%* while keeping the same behaviour.\n",
        "\n",
        "See if you can come up with an equivalent body that uses just **one line** of code, and put it in the function `concise_is_negative`. (HINT: you don't even need Python's ternary syntax)"
      ],
      "metadata": {
        "id": "cpRd6knijNoY"
      }
    },
    {
      "cell_type": "code",
      "source": [
        "def is_negative(number):\n",
        "    if number < 0:\n",
        "        return True\n",
        "    else:\n",
        "        return False\n",
        "\n",
        "def concise_is_negative(number):\n",
        "    pass\n",
        "    return number < 0 # Your code goes here (try to keep it to one line!)\n",
        "\n",
        "# Check your answer\n",
        "q4.check()"
      ],
      "metadata": {
        "trusted": true,
        "execution": {
          "iopub.status.busy": "2025-02-16T07:11:30.457577Z",
          "iopub.execute_input": "2025-02-16T07:11:30.457943Z",
          "iopub.status.idle": "2025-02-16T07:11:30.465699Z",
          "shell.execute_reply.started": "2025-02-16T07:11:30.457916Z",
          "shell.execute_reply": "2025-02-16T07:11:30.464818Z"
        },
        "id": "UD4qR9qTjNoY",
        "outputId": "7209c8d5-ee3c-4287-d52e-44c4c8ee2710"
      },
      "outputs": [
        {
          "output_type": "display_data",
          "data": {
            "text/plain": "<IPython.core.display.Javascript object>",
            "application/javascript": "parent.postMessage({\"jupyterEvent\": \"custom.exercise_interaction\", \"data\": {\"outcomeType\": 1, \"valueTowardsCompletion\": 0.2, \"interactionType\": 1, \"questionType\": 2, \"questionId\": \"4_ConciseIsNegative\", \"learnToolsVersion\": \"0.3.4\", \"failureMessage\": \"\", \"exceptionClass\": \"\", \"trace\": \"\"}}, \"*\")"
          },
          "metadata": {}
        },
        {
          "output_type": "display_data",
          "data": {
            "text/plain": "Correct",
            "text/markdown": "<span style=\"color:#33cc33\">Correct</span>"
          },
          "metadata": {}
        }
      ],
      "execution_count": null
    },
    {
      "cell_type": "code",
      "source": [
        "q4.hint()\n",
        "q4.solution()"
      ],
      "metadata": {
        "trusted": true,
        "execution": {
          "iopub.status.busy": "2025-02-16T07:09:03.048474Z",
          "iopub.execute_input": "2025-02-16T07:09:03.048887Z",
          "iopub.status.idle": "2025-02-16T07:09:03.059619Z",
          "shell.execute_reply.started": "2025-02-16T07:09:03.048838Z",
          "shell.execute_reply": "2025-02-16T07:09:03.05882Z"
        },
        "id": "u8kdMLmajNoZ",
        "outputId": "7bc9eee1-b089-41d1-9b72-19c85038c490"
      },
      "outputs": [
        {
          "output_type": "display_data",
          "data": {
            "text/plain": "<IPython.core.display.Javascript object>",
            "application/javascript": "parent.postMessage({\"jupyterEvent\": \"custom.exercise_interaction\", \"data\": {\"interactionType\": 2, \"questionType\": 2, \"questionId\": \"4_ConciseIsNegative\", \"learnToolsVersion\": \"0.3.4\", \"valueTowardsCompletion\": 0.0, \"failureMessage\": \"\", \"exceptionClass\": \"\", \"trace\": \"\", \"outcomeType\": 4}}, \"*\")"
          },
          "metadata": {}
        },
        {
          "output_type": "display_data",
          "data": {
            "text/plain": "Hint: If the value of the expression `number < 0` is `True`, then we return `True`. If it's `False`, then we return `False`...",
            "text/markdown": "<span style=\"color:#3366cc\">Hint:</span> If the value of the expression `number < 0` is `True`, then we return `True`. If it's `False`, then we return `False`..."
          },
          "metadata": {}
        },
        {
          "output_type": "display_data",
          "data": {
            "text/plain": "<IPython.core.display.Javascript object>",
            "application/javascript": "parent.postMessage({\"jupyterEvent\": \"custom.exercise_interaction\", \"data\": {\"interactionType\": 3, \"questionType\": 2, \"questionId\": \"4_ConciseIsNegative\", \"learnToolsVersion\": \"0.3.4\", \"valueTowardsCompletion\": 0.0, \"failureMessage\": \"\", \"exceptionClass\": \"\", \"trace\": \"\", \"outcomeType\": 4}}, \"*\")"
          },
          "metadata": {}
        },
        {
          "output_type": "display_data",
          "data": {
            "text/plain": "Solution: \n```python\nreturn number < 0\n```",
            "text/markdown": "<span style=\"color:#33cc99\">Solution:</span> \n```python\nreturn number < 0\n```"
          },
          "metadata": {}
        }
      ],
      "execution_count": null
    },
    {
      "cell_type": "markdown",
      "source": [
        "# 5a.\n",
        "\n",
        "The boolean variables `ketchup`, `mustard` and `onion` represent whether a customer wants a particular topping on their hot dog. We want to implement a number of boolean functions that correspond to some yes-or-no questions about the customer's order. For example:"
      ],
      "metadata": {
        "id": "uWEse1jmjNoZ"
      }
    },
    {
      "cell_type": "code",
      "source": [
        "def onionless(ketchup, mustard, onion):\n",
        "    \"\"\"Return whether the customer doesn't want onions.\n",
        "    \"\"\"\n",
        "    return not onion"
      ],
      "metadata": {
        "trusted": true,
        "execution": {
          "iopub.status.busy": "2025-02-16T07:11:56.721145Z",
          "iopub.execute_input": "2025-02-16T07:11:56.721445Z",
          "iopub.status.idle": "2025-02-16T07:11:56.725857Z",
          "shell.execute_reply.started": "2025-02-16T07:11:56.721424Z",
          "shell.execute_reply": "2025-02-16T07:11:56.724675Z"
        },
        "id": "jl1uh8QUjNoZ"
      },
      "outputs": [],
      "execution_count": null
    },
    {
      "cell_type": "code",
      "source": [
        "def wants_all_toppings(ketchup, mustard, onion):\n",
        "    \"\"\"Return whether the customer wants \"the works\" (all 3 toppings)\n",
        "    \"\"\"\n",
        "    pass\n",
        "    return ketchup and mustard and onion\n",
        "\n",
        "# Check your answer\n",
        "q5.a.check()"
      ],
      "metadata": {
        "trusted": true,
        "execution": {
          "iopub.status.busy": "2025-02-16T07:14:06.11553Z",
          "iopub.execute_input": "2025-02-16T07:14:06.115899Z",
          "iopub.status.idle": "2025-02-16T07:14:06.123208Z",
          "shell.execute_reply.started": "2025-02-16T07:14:06.115873Z",
          "shell.execute_reply": "2025-02-16T07:14:06.122199Z"
        },
        "id": "FbDit9hrjNoZ",
        "outputId": "a0c3ac37-129f-4443-e2a8-d7dd131409d5"
      },
      "outputs": [
        {
          "output_type": "display_data",
          "data": {
            "text/plain": "<IPython.core.display.Javascript object>",
            "application/javascript": "parent.postMessage({\"jupyterEvent\": \"custom.exercise_interaction\", \"data\": {\"outcomeType\": 1, \"valueTowardsCompletion\": 0.2, \"interactionType\": 1, \"questionType\": 2, \"questionId\": \"5.1_AllToppings\", \"learnToolsVersion\": \"0.3.4\", \"failureMessage\": \"\", \"exceptionClass\": \"\", \"trace\": \"\"}}, \"*\")"
          },
          "metadata": {}
        },
        {
          "output_type": "display_data",
          "data": {
            "text/plain": "Correct",
            "text/markdown": "<span style=\"color:#33cc33\">Correct</span>"
          },
          "metadata": {}
        }
      ],
      "execution_count": null
    },
    {
      "cell_type": "code",
      "source": [
        "q5.a.hint()\n",
        "#q5.a.solution()"
      ],
      "metadata": {
        "trusted": true,
        "execution": {
          "iopub.status.busy": "2025-02-16T07:14:13.050529Z",
          "iopub.execute_input": "2025-02-16T07:14:13.050915Z",
          "iopub.status.idle": "2025-02-16T07:14:13.057966Z",
          "shell.execute_reply.started": "2025-02-16T07:14:13.050887Z",
          "shell.execute_reply": "2025-02-16T07:14:13.057017Z"
        },
        "id": "6xCeBUvzjNoa",
        "outputId": "9bfa834e-8fe3-4a8a-8b71-79649b63bbcc"
      },
      "outputs": [
        {
          "output_type": "display_data",
          "data": {
            "text/plain": "<IPython.core.display.Javascript object>",
            "application/javascript": "parent.postMessage({\"jupyterEvent\": \"custom.exercise_interaction\", \"data\": {\"interactionType\": 2, \"questionType\": 2, \"questionId\": \"5.1_AllToppings\", \"learnToolsVersion\": \"0.3.4\", \"valueTowardsCompletion\": 0.0, \"failureMessage\": \"\", \"exceptionClass\": \"\", \"trace\": \"\", \"outcomeType\": 4}}, \"*\")"
          },
          "metadata": {}
        },
        {
          "output_type": "display_data",
          "data": {
            "text/plain": "Hint: You'll need to use the `and` operator.",
            "text/markdown": "<span style=\"color:#3366cc\">Hint:</span> You'll need to use the `and` operator."
          },
          "metadata": {}
        }
      ],
      "execution_count": null
    },
    {
      "cell_type": "markdown",
      "source": [
        "# 5b.\n",
        "\n",
        "For the next function, fill in the body to match the English description in the docstring."
      ],
      "metadata": {
        "id": "Vr85KU9wjNoa"
      }
    },
    {
      "cell_type": "code",
      "source": [
        "def wants_plain_hotdog(ketchup, mustard, onion):\n",
        "    \"\"\"Return whether the customer wants a plain hot dog with no toppings.\n",
        "    \"\"\"\n",
        "    pass\n",
        "    return not ketchup and not mustard and not onion\n",
        "\n",
        "# Check your answer\n",
        "q5.b.check()"
      ],
      "metadata": {
        "trusted": true,
        "execution": {
          "iopub.status.busy": "2025-02-16T07:15:08.344276Z",
          "iopub.execute_input": "2025-02-16T07:15:08.344642Z",
          "iopub.status.idle": "2025-02-16T07:15:08.353063Z",
          "shell.execute_reply.started": "2025-02-16T07:15:08.344605Z",
          "shell.execute_reply": "2025-02-16T07:15:08.352029Z"
        },
        "id": "4LLNi8ACjNoa",
        "outputId": "df6b8a28-df72-4090-d1e4-2225351490ef"
      },
      "outputs": [
        {
          "output_type": "display_data",
          "data": {
            "text/plain": "<IPython.core.display.Javascript object>",
            "application/javascript": "parent.postMessage({\"jupyterEvent\": \"custom.exercise_interaction\", \"data\": {\"outcomeType\": 1, \"valueTowardsCompletion\": 0.2, \"interactionType\": 1, \"questionType\": 2, \"questionId\": \"5.2_PlainDog\", \"learnToolsVersion\": \"0.3.4\", \"failureMessage\": \"\", \"exceptionClass\": \"\", \"trace\": \"\"}}, \"*\")"
          },
          "metadata": {}
        },
        {
          "output_type": "display_data",
          "data": {
            "text/plain": "Correct: \n\nOne solution looks like:\n```python\nreturn not ketchup and not mustard and not onion\n```\n\nWe can also [\"factor out\" the nots](https://en.wikipedia.org/wiki/De_Morgan%27s_laws) to get:\n\n```python\nreturn not (ketchup or mustard or onion)\n```",
            "text/markdown": "<span style=\"color:#33cc33\">Correct:</span> \n\nOne solution looks like:\n```python\nreturn not ketchup and not mustard and not onion\n```\n\nWe can also [\"factor out\" the nots](https://en.wikipedia.org/wiki/De_Morgan%27s_laws) to get:\n\n```python\nreturn not (ketchup or mustard or onion)\n```"
          },
          "metadata": {}
        }
      ],
      "execution_count": null
    },
    {
      "cell_type": "code",
      "source": [
        "q5.b.hint()\n",
        "#q5.b.solution()"
      ],
      "metadata": {
        "trusted": true,
        "execution": {
          "iopub.status.busy": "2025-02-16T07:15:18.547456Z",
          "iopub.execute_input": "2025-02-16T07:15:18.547793Z",
          "iopub.status.idle": "2025-02-16T07:15:18.555275Z",
          "shell.execute_reply.started": "2025-02-16T07:15:18.54777Z",
          "shell.execute_reply": "2025-02-16T07:15:18.554206Z"
        },
        "id": "63QOQhUFjNob",
        "outputId": "0c3efed5-5886-47ee-a5de-9117ad7b138d"
      },
      "outputs": [
        {
          "output_type": "display_data",
          "data": {
            "text/plain": "<IPython.core.display.Javascript object>",
            "application/javascript": "parent.postMessage({\"jupyterEvent\": \"custom.exercise_interaction\", \"data\": {\"interactionType\": 2, \"questionType\": 2, \"questionId\": \"5.2_PlainDog\", \"learnToolsVersion\": \"0.3.4\", \"valueTowardsCompletion\": 0.0, \"failureMessage\": \"\", \"exceptionClass\": \"\", \"trace\": \"\", \"outcomeType\": 4}}, \"*\")"
          },
          "metadata": {}
        },
        {
          "output_type": "display_data",
          "data": {
            "text/plain": "Hint: You'll need to use the `not` operator.",
            "text/markdown": "<span style=\"color:#3366cc\">Hint:</span> You'll need to use the `not` operator."
          },
          "metadata": {}
        }
      ],
      "execution_count": null
    },
    {
      "cell_type": "markdown",
      "source": [
        "# 5c.\n",
        "\n",
        "You know what to do: for the next function, fill in the body to match the English description in the docstring."
      ],
      "metadata": {
        "id": "P888XTGnjNob"
      }
    },
    {
      "cell_type": "code",
      "source": [
        "def exactly_one_sauce(ketchup, mustard, onion):\n",
        "    \"\"\"Return whether the customer wants either ketchup or mustard, but not both.\n",
        "    (You may be familiar with this operation under the name \"exclusive or\")\n",
        "    \"\"\"\n",
        "    pass\n",
        "    return (ketchup and not mustard) or (mustard and not ketchup)\n",
        "\n",
        "# Check your answer\n",
        "q5.c.check()"
      ],
      "metadata": {
        "trusted": true,
        "execution": {
          "iopub.status.busy": "2025-02-16T07:17:42.354567Z",
          "iopub.execute_input": "2025-02-16T07:17:42.354996Z",
          "iopub.status.idle": "2025-02-16T07:17:42.363224Z",
          "shell.execute_reply.started": "2025-02-16T07:17:42.354965Z",
          "shell.execute_reply": "2025-02-16T07:17:42.362143Z"
        },
        "id": "ze9LB-jtjNob",
        "outputId": "581d8ae2-b2b0-456f-efe1-e82de6f3739a"
      },
      "outputs": [
        {
          "output_type": "display_data",
          "data": {
            "text/plain": "<IPython.core.display.Javascript object>",
            "application/javascript": "parent.postMessage({\"jupyterEvent\": \"custom.exercise_interaction\", \"data\": {\"outcomeType\": 1, \"valueTowardsCompletion\": 0.2, \"interactionType\": 1, \"questionType\": 2, \"questionId\": \"5.3_OneSauce\", \"learnToolsVersion\": \"0.3.4\", \"failureMessage\": \"\", \"exceptionClass\": \"\", \"trace\": \"\"}}, \"*\")"
          },
          "metadata": {}
        },
        {
          "output_type": "display_data",
          "data": {
            "text/plain": "Correct",
            "text/markdown": "<span style=\"color:#33cc33\">Correct</span>"
          },
          "metadata": {}
        }
      ],
      "execution_count": null
    },
    {
      "cell_type": "code",
      "source": [
        "q5.c.hint()\n",
        "q5.c.solution()"
      ],
      "metadata": {
        "trusted": true,
        "execution": {
          "iopub.status.busy": "2025-02-16T07:17:10.300342Z",
          "iopub.execute_input": "2025-02-16T07:17:10.300655Z",
          "iopub.status.idle": "2025-02-16T07:17:10.31123Z",
          "shell.execute_reply.started": "2025-02-16T07:17:10.300633Z",
          "shell.execute_reply": "2025-02-16T07:17:10.310301Z"
        },
        "id": "QTFt8UxxjNob",
        "outputId": "415ffc33-9355-47ea-90f8-d3bf6fe9464d"
      },
      "outputs": [
        {
          "output_type": "display_data",
          "data": {
            "text/plain": "<IPython.core.display.Javascript object>",
            "application/javascript": "parent.postMessage({\"jupyterEvent\": \"custom.exercise_interaction\", \"data\": {\"interactionType\": 2, \"questionType\": 2, \"questionId\": \"5.3_OneSauce\", \"learnToolsVersion\": \"0.3.4\", \"valueTowardsCompletion\": 0.0, \"failureMessage\": \"\", \"exceptionClass\": \"\", \"trace\": \"\", \"outcomeType\": 4}}, \"*\")"
          },
          "metadata": {}
        },
        {
          "output_type": "display_data",
          "data": {
            "text/plain": "Hint: There are exactly two ways to set ketchup and mustard to make this true. What are they?",
            "text/markdown": "<span style=\"color:#3366cc\">Hint:</span> There are exactly two ways to set ketchup and mustard to make this true. What are they?"
          },
          "metadata": {}
        },
        {
          "output_type": "display_data",
          "data": {
            "text/plain": "<IPython.core.display.Javascript object>",
            "application/javascript": "parent.postMessage({\"jupyterEvent\": \"custom.exercise_interaction\", \"data\": {\"interactionType\": 3, \"questionType\": 2, \"questionId\": \"5.3_OneSauce\", \"learnToolsVersion\": \"0.3.4\", \"valueTowardsCompletion\": 0.0, \"failureMessage\": \"\", \"exceptionClass\": \"\", \"trace\": \"\", \"outcomeType\": 4}}, \"*\")"
          },
          "metadata": {}
        },
        {
          "output_type": "display_data",
          "data": {
            "text/plain": "Solution: \n```python\nreturn (ketchup and not mustard) or (mustard and not ketchup)\n```",
            "text/markdown": "<span style=\"color:#33cc99\">Solution:</span> \n```python\nreturn (ketchup and not mustard) or (mustard and not ketchup)\n```"
          },
          "metadata": {}
        }
      ],
      "execution_count": null
    },
    {
      "cell_type": "markdown",
      "source": [
        "# 6. <span title=\"A bit spicy\" style=\"color: darkgreen \">🌶️</span>\n",
        "\n",
        "We’ve seen that calling `bool()` on an integer returns `False` if it’s equal to 0 and `True` otherwise. What happens if we call `int()` on a bool? Try it out in the notebook cell below.\n",
        "\n",
        "Can you take advantage of this to write a succinct function that corresponds to the English sentence \"does the customer want exactly one topping?\"?"
      ],
      "metadata": {
        "id": "3nPJzr31jNoc"
      }
    },
    {
      "cell_type": "code",
      "source": [
        "def exactly_one_topping(ketchup, mustard, onion):\n",
        "    \"\"\"Return whether the customer wants exactly one of the three available toppings\n",
        "    on their hot dog.\n",
        "    \"\"\"\n",
        "    pass\n",
        "    return (ketchup + mustard + onion) == 1\n",
        "\n",
        "# Check your answer\n",
        "q6.check()"
      ],
      "metadata": {
        "trusted": true,
        "execution": {
          "iopub.status.busy": "2025-02-16T07:19:26.278734Z",
          "iopub.execute_input": "2025-02-16T07:19:26.279072Z",
          "iopub.status.idle": "2025-02-16T07:19:26.287078Z",
          "shell.execute_reply.started": "2025-02-16T07:19:26.279046Z",
          "shell.execute_reply": "2025-02-16T07:19:26.286135Z"
        },
        "id": "IHM6F2XljNoc",
        "outputId": "47bb3014-326c-4bc0-87cd-933ebb04a2a0"
      },
      "outputs": [
        {
          "output_type": "display_data",
          "data": {
            "text/plain": "<IPython.core.display.Javascript object>",
            "application/javascript": "parent.postMessage({\"jupyterEvent\": \"custom.exercise_interaction\", \"data\": {\"outcomeType\": 1, \"valueTowardsCompletion\": 0.2, \"interactionType\": 1, \"questionType\": 2, \"questionId\": \"6_OneTopping\", \"learnToolsVersion\": \"0.3.4\", \"failureMessage\": \"\", \"exceptionClass\": \"\", \"trace\": \"\"}}, \"*\")"
          },
          "metadata": {}
        },
        {
          "output_type": "display_data",
          "data": {
            "text/plain": "Correct: \n\nThis condition would be pretty complicated to express using just `and`, `or` and `not`, but using boolean-to-integer conversion gives us this short solution:\n```python\nreturn (int(ketchup) + int(mustard) + int(onion)) == 1\n```\n\nFun fact: we don't technically need to call `int` on the arguments. Just by doing addition with booleans, Python implicitly does the integer conversion. So we could also write...\n\n```python\nreturn (ketchup + mustard + onion) == 1\n```",
            "text/markdown": "<span style=\"color:#33cc33\">Correct:</span> \n\nThis condition would be pretty complicated to express using just `and`, `or` and `not`, but using boolean-to-integer conversion gives us this short solution:\n```python\nreturn (int(ketchup) + int(mustard) + int(onion)) == 1\n```\n\nFun fact: we don't technically need to call `int` on the arguments. Just by doing addition with booleans, Python implicitly does the integer conversion. So we could also write...\n\n```python\nreturn (ketchup + mustard + onion) == 1\n```"
          },
          "metadata": {}
        }
      ],
      "execution_count": null
    },
    {
      "cell_type": "code",
      "source": [
        "q6.hint()\n",
        "q6.solution()"
      ],
      "metadata": {
        "trusted": true,
        "execution": {
          "iopub.status.busy": "2025-02-16T07:18:38.691122Z",
          "iopub.execute_input": "2025-02-16T07:18:38.691424Z",
          "iopub.status.idle": "2025-02-16T07:18:38.702125Z",
          "shell.execute_reply.started": "2025-02-16T07:18:38.691401Z",
          "shell.execute_reply": "2025-02-16T07:18:38.701163Z"
        },
        "id": "tRql6bcFjNoc",
        "outputId": "3302b168-fbbf-4954-c6e2-311ad06186e8"
      },
      "outputs": [
        {
          "output_type": "display_data",
          "data": {
            "text/plain": "<IPython.core.display.Javascript object>",
            "application/javascript": "parent.postMessage({\"jupyterEvent\": \"custom.exercise_interaction\", \"data\": {\"interactionType\": 2, \"questionType\": 2, \"questionId\": \"6_OneTopping\", \"learnToolsVersion\": \"0.3.4\", \"valueTowardsCompletion\": 0.0, \"failureMessage\": \"\", \"exceptionClass\": \"\", \"trace\": \"\", \"outcomeType\": 4}}, \"*\")"
          },
          "metadata": {}
        },
        {
          "output_type": "display_data",
          "data": {
            "text/plain": "Hint: You may have already found that `int(True)` is 1, and `int(False)` is 0. Think about what kinds of basic arithmetic operations you might want to perform on `ketchup`, `mustard`, and `onion` after converting them to integers.",
            "text/markdown": "<span style=\"color:#3366cc\">Hint:</span> You may have already found that `int(True)` is 1, and `int(False)` is 0. Think about what kinds of basic arithmetic operations you might want to perform on `ketchup`, `mustard`, and `onion` after converting them to integers."
          },
          "metadata": {}
        },
        {
          "output_type": "display_data",
          "data": {
            "text/plain": "<IPython.core.display.Javascript object>",
            "application/javascript": "parent.postMessage({\"jupyterEvent\": \"custom.exercise_interaction\", \"data\": {\"interactionType\": 3, \"questionType\": 2, \"questionId\": \"6_OneTopping\", \"learnToolsVersion\": \"0.3.4\", \"valueTowardsCompletion\": 0.0, \"failureMessage\": \"\", \"exceptionClass\": \"\", \"trace\": \"\", \"outcomeType\": 4}}, \"*\")"
          },
          "metadata": {}
        },
        {
          "output_type": "display_data",
          "data": {
            "text/plain": "Solution: This condition would be pretty complicated to express using just `and`, `or` and `not`, but using boolean-to-integer conversion gives us this short solution:\n```python\nreturn (int(ketchup) + int(mustard) + int(onion)) == 1\n```\n\nFun fact: we don't technically need to call `int` on the arguments. Just by doing addition with booleans, Python implicitly does the integer conversion. So we could also write...\n\n```python\nreturn (ketchup + mustard + onion) == 1\n```",
            "text/markdown": "<span style=\"color:#33cc99\">Solution:</span> This condition would be pretty complicated to express using just `and`, `or` and `not`, but using boolean-to-integer conversion gives us this short solution:\n```python\nreturn (int(ketchup) + int(mustard) + int(onion)) == 1\n```\n\nFun fact: we don't technically need to call `int` on the arguments. Just by doing addition with booleans, Python implicitly does the integer conversion. So we could also write...\n\n```python\nreturn (ketchup + mustard + onion) == 1\n```"
          },
          "metadata": {}
        }
      ],
      "execution_count": null
    },
    {
      "cell_type": "markdown",
      "source": [
        "# 7. <span title=\"A bit spicy\" style=\"color: darkgreen \">🌶️</span> (Optional)\n",
        "\n",
        "In this problem we'll be working with a simplified version of [blackjack](https://en.wikipedia.org/wiki/Blackjack) (aka twenty-one). In this version there is one player (who you'll control) and a dealer. Play proceeds as follows:\n",
        "\n",
        "- The player is dealt two face-up cards. The dealer is dealt one face-up card.\n",
        "- The player may ask to be dealt another card ('hit') as many times as they wish. If the sum of their cards exceeds 21, they lose the round immediately.\n",
        "- The dealer then deals additional cards to himself until either:\n",
        "    - the sum of the dealer's cards exceeds 21, in which case the player wins the round\n",
        "    - the sum of the dealer's cards is greater than or equal to 17. If the player's total is greater than the dealer's, the player wins. Otherwise, the dealer wins (even in case of a tie).\n",
        "    \n",
        "When calculating the sum of cards, Jack, Queen, and King count for 10. Aces can count as 1 or 11 (when referring to a player's \"total\" above, we mean the largest total that can be made without exceeding 21. So e.g. A+8 = 19, A+8+8 = 17)\n",
        "\n",
        "For this problem, you'll write a function representing the player's decision-making strategy in this game. We've provided a very unintelligent implementation below:"
      ],
      "metadata": {
        "id": "wEkLl6n2jNod"
      }
    },
    {
      "cell_type": "code",
      "source": [
        "def should_hit(dealer_total, player_total, player_low_aces, player_high_aces):\n",
        "    \"\"\"Return True if the player should hit (request another card) given the current game\n",
        "    state, or False if the player should stay.\n",
        "    When calculating a hand's total value, we count aces as \"high\" (with value 11) if doing so\n",
        "    doesn't bring the total above 21, otherwise we count them as low (with value 1).\n",
        "    For example, if the player's hand is {A, A, A, 7}, we will count it as 11 + 1 + 1 + 7,\n",
        "    and therefore set player_total=20, player_low_aces=2, player_high_aces=1.\n",
        "    \"\"\"\n",
        "    return False"
      ],
      "metadata": {
        "trusted": true,
        "execution": {
          "iopub.status.busy": "2025-02-16T07:19:57.165279Z",
          "iopub.execute_input": "2025-02-16T07:19:57.165581Z",
          "iopub.status.idle": "2025-02-16T07:19:57.169582Z",
          "shell.execute_reply.started": "2025-02-16T07:19:57.165559Z",
          "shell.execute_reply": "2025-02-16T07:19:57.168811Z"
        },
        "id": "uvQnOfcCjNod"
      },
      "outputs": [],
      "execution_count": null
    },
    {
      "cell_type": "markdown",
      "source": [
        "This very conservative agent *always* sticks with the hand of two cards that they're dealt.\n",
        "\n",
        "We'll be simulating games between your player agent and our own dealer agent by calling your function.\n",
        "\n",
        "Try running the function below to see an example of a simulated game:"
      ],
      "metadata": {
        "id": "hI0QK6MrjNod"
      }
    },
    {
      "cell_type": "code",
      "source": [
        "q7.simulate_one_game()"
      ],
      "metadata": {
        "trusted": true,
        "execution": {
          "iopub.status.busy": "2025-02-16T07:20:00.922813Z",
          "iopub.execute_input": "2025-02-16T07:20:00.923144Z",
          "iopub.status.idle": "2025-02-16T07:20:00.930399Z",
          "shell.execute_reply.started": "2025-02-16T07:20:00.923121Z",
          "shell.execute_reply": "2025-02-16T07:20:00.929478Z"
        },
        "id": "0PmJN5wxjNoe",
        "outputId": "ef2643c8-5336-4e66-ccae-526ccb073c9d"
      },
      "outputs": [
        {
          "name": "stdout",
          "text": "Player starts with 9 and 9 (total = 18)\nDealer starts with J\n\n__Player's turn__\nPlayer stays\n\n__Dealer's turn__\nDealer hits and receives 8. (total = 18)\nDealer stands.\nDealer wins. 18 >= 18\n",
          "output_type": "stream"
        }
      ],
      "execution_count": null
    },
    {
      "cell_type": "markdown",
      "source": [
        "The real test of your agent's mettle is their average win rate over many games. Try calling the function below to simulate 50000 games of blackjack (it may take a couple seconds):"
      ],
      "metadata": {
        "id": "-FahqRvUjNoe"
      }
    },
    {
      "cell_type": "code",
      "source": [
        "q7.simulate(n_games=50000)"
      ],
      "metadata": {
        "trusted": true,
        "execution": {
          "iopub.status.busy": "2025-02-16T07:20:05.902788Z",
          "iopub.execute_input": "2025-02-16T07:20:05.903118Z",
          "iopub.status.idle": "2025-02-16T07:20:06.989183Z",
          "shell.execute_reply.started": "2025-02-16T07:20:05.903095Z",
          "shell.execute_reply": "2025-02-16T07:20:06.988209Z"
        },
        "id": "4Q7XE2bzjNoe",
        "outputId": "af44c4f3-a23c-4fe6-d463-245a9c6a24e4"
      },
      "outputs": [
        {
          "name": "stdout",
          "text": "Player won 18980 out of 50000 games (win rate = 38.0%)\n",
          "output_type": "stream"
        }
      ],
      "execution_count": null
    },
    {
      "cell_type": "markdown",
      "source": [
        "Our dumb agent that completely ignores the game state still manages to win shockingly often!\n",
        "\n",
        "Try adding some more smarts to the `should_hit` function and see how it affects the results."
      ],
      "metadata": {
        "id": "5nN2P1MajNon"
      }
    },
    {
      "cell_type": "code",
      "source": [
        "def should_hit(dealer_total, player_total, player_low_aces, player_high_aces):\n",
        "    \"\"\"Return True if the player should hit (request another card) given the current game\n",
        "    state, or False if the player should stay.\n",
        "    When calculating a hand's total value, we count aces as \"high\" (with value 11) if doing so\n",
        "    doesn't bring the total above 21, otherwise we count them as low (with value 1).\n",
        "    For example, if the player's hand is {A, A, A, 7}, we will count it as 11 + 1 + 1 + 7,\n",
        "    and therefore set player_total=20, player_low_aces=2, player_high_aces=1.\n",
        "    \"\"\"\n",
        "    return False\n",
        "\n",
        "q7.simulate(n_games=50000)"
      ],
      "metadata": {
        "trusted": true,
        "execution": {
          "iopub.status.busy": "2025-02-16T07:20:11.581408Z",
          "iopub.execute_input": "2025-02-16T07:20:11.581736Z",
          "iopub.status.idle": "2025-02-16T07:20:12.656721Z",
          "shell.execute_reply.started": "2025-02-16T07:20:11.581687Z",
          "shell.execute_reply": "2025-02-16T07:20:12.655815Z"
        },
        "id": "F_qoEKzbjNoo",
        "outputId": "57d8b3f0-2cb1-40a2-ec26-756875a4502e"
      },
      "outputs": [
        {
          "name": "stdout",
          "text": "Player won 19097 out of 50000 games (win rate = 38.2%)\n",
          "output_type": "stream"
        }
      ],
      "execution_count": null
    },
    {
      "cell_type": "markdown",
      "source": [
        "# Keep Going\n",
        "\n",
        "Learn about **[lists and tuples](https://www.kaggle.com/colinmorris/lists)** to handle multiple items of data in a systematic way."
      ],
      "metadata": {
        "id": "crST1LNDjNoo"
      }
    },
    {
      "cell_type": "markdown",
      "source": [
        "---\n",
        "\n",
        "\n",
        "\n",
        "\n",
        "*Have questions or comments? Visit the [course discussion forum](https://www.kaggle.com/learn/python/discussion) to chat with other learners.*"
      ],
      "metadata": {
        "id": "MhaQFHOnjNoo"
      }
    }
  ]
}